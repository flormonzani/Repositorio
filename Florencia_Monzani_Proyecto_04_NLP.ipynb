{
  "nbformat": 4,
  "nbformat_minor": 0,
  "metadata": {
    "colab": {
      "name": "Florencia_Monzani_Proyecto_04_NLP.ipynb",
      "provenance": [],
      "collapsed_sections": [
        "DWMleOo-VgMf",
        "qtvcFkoqVvqe",
        "oG7Zekkt7KyD",
        "0YOWnXtVWFvb"
      ]
    },
    "kernelspec": {
      "display_name": "Python 3",
      "language": "python",
      "name": "python3"
    },
    "language_info": {
      "codemirror_mode": {
        "name": "ipython",
        "version": 3
      },
      "file_extension": ".py",
      "mimetype": "text/x-python",
      "name": "python",
      "nbconvert_exporter": "python",
      "pygments_lexer": "ipython3",
      "version": "3.8.2"
    }
  },
  "cells": [
    {
      "cell_type": "markdown",
      "metadata": {
        "id": "2GRQnxMzISE_"
      },
      "source": [
        "# Proyecto 04 - Informe Final de Carrera\n",
        "\n",
        "\n",
        "\n",
        "## Mejora de Proyecto 03: Procesamiento del Lenguaje Natural \n",
        "*Dataset: The Multilingual Amazon Reviews Corpus*\n",
        "\n",
        "*Mejoras: Entrenaré otro modelo, para ver si consigo mejorar los resultados obtenidos en el proyecto 03. Se modificará la PARTE B del proyecto anterior.\n",
        "Nuevo modelo a utilizar: Count Vectorizer*\n",
        "\n",
        "\n",
        "\n",
        "\n",
        "\n",
        "\n",
        "**Monzani Florencia**\n"
      ]
    },
    {
      "cell_type": "markdown",
      "metadata": {
        "id": "DWMleOo-VgMf"
      },
      "source": [
        "# PARTE A - Sin modificaciones "
      ]
    },
    {
      "cell_type": "markdown",
      "metadata": {
        "id": "t7ze-oISVdX4"
      },
      "source": [
        "Parte A - Exploración de Datos: Todo proyecto de Ciencia de Datos empieza con un Análisis Exploratorio de Datos... y todo Análisis Exploratorio de Datos debe responder preguntas. \n",
        "El Análisis Exploratorio de Datos debe servir para comprender el dataset y todo el flujo de trabajo que le siga.\n",
        "\n",
        "Debes responder al menos una pregunta original con este dataset. La pregunta debe estar correctamente explicitada."
      ]
    },
    {
      "cell_type": "markdown",
      "metadata": {
        "id": "U6Me4XZOfto7"
      },
      "source": [
        "**DESCRIPCIÓN DEL DATASET** \n",
        "\n",
        "https://docs.opendata.aws/amazon-reviews-ml/readme.html\n",
        "\n",
        "Se proporciona un conjunto de datos de reseñas de productos de Amazon para la clasificación de texto en español. El conjunto de datos está recopilado entre el 1 de noviembre de 2015 y el 1 de noviembre de 2019. Cada registro del conjunto de datos contiene el texto de la reseña, el título de la reseña, la calificación por estrellas y un ID de revisor anónimo, un ID de producto anónimo y la categoría de producto (por ejemplo, \"libros\", \"electrodomésticos\", etc.) El dataset está equilibrado entre estrellas, por lo que cada calificación de estrellas constituye el 20% de las reseñas.\n",
        "\n",
        "\n",
        "Hay 200.000, 5.000 y 5.000 revisiones en los conjuntos de train, development y test, respectivamente. La cantidad máxima de reseñas por revisor es 20 y la cantidad máxima de reseñas por producto es 20. Todas las reseñas se truncan después de 2000 caracteres y todas las reseñas tienen al menos 20 caracteres.\n"
      ]
    },
    {
      "cell_type": "code",
      "metadata": {
        "id": "nByW659nWdqL"
      },
      "source": [
        "#LIBRERIAS\n",
        "import itertools\n",
        "\n",
        "import numpy as np\n",
        "import pandas as pd\n",
        "\n",
        "import matplotlib.pyplot as plt\n",
        "import seaborn as sns\n",
        "sns.set()\n",
        "\n",
        "import spacy\n"
      ],
      "execution_count": 1,
      "outputs": []
    },
    {
      "cell_type": "code",
      "metadata": {
        "colab": {
          "base_uri": "https://localhost:8080/"
        },
        "id": "g6hqqlD17xOK",
        "outputId": "06030f6c-522f-4f9e-e7ee-82fecb0044fb"
      },
      "source": [
        "#CARGA DE DATASET\n",
        "from google.colab import drive\n",
        "drive.mount('/content/drive')"
      ],
      "execution_count": 2,
      "outputs": [
        {
          "output_type": "stream",
          "text": [
            "Drive already mounted at /content/drive; to attempt to forcibly remount, call drive.mount(\"/content/drive\", force_remount=True).\n"
          ],
          "name": "stdout"
        }
      ]
    },
    {
      "cell_type": "markdown",
      "metadata": {
        "id": "_-Du0SrqaD1x"
      },
      "source": [
        "**EXPLORACIÓN DE DATASET**"
      ]
    },
    {
      "cell_type": "code",
      "metadata": {
        "colab": {
          "base_uri": "https://localhost:8080/",
          "height": 195
        },
        "id": "usbXHr3Y9gm_",
        "outputId": "ba1001b3-e806-4aef-c58d-ad001780ee6c"
      },
      "source": [
        "dataset_dep = pd.read_json(\"/content/drive/My Drive/Colab Notebooks/Proyecto NLP/dataset_es_dev.json\", lines= True)\n",
        "dataset_dep.head()"
      ],
      "execution_count": 3,
      "outputs": [
        {
          "output_type": "execute_result",
          "data": {
            "text/html": [
              "<div>\n",
              "<style scoped>\n",
              "    .dataframe tbody tr th:only-of-type {\n",
              "        vertical-align: middle;\n",
              "    }\n",
              "\n",
              "    .dataframe tbody tr th {\n",
              "        vertical-align: top;\n",
              "    }\n",
              "\n",
              "    .dataframe thead th {\n",
              "        text-align: right;\n",
              "    }\n",
              "</style>\n",
              "<table border=\"1\" class=\"dataframe\">\n",
              "  <thead>\n",
              "    <tr style=\"text-align: right;\">\n",
              "      <th></th>\n",
              "      <th>review_id</th>\n",
              "      <th>product_id</th>\n",
              "      <th>reviewer_id</th>\n",
              "      <th>stars</th>\n",
              "      <th>review_body</th>\n",
              "      <th>review_title</th>\n",
              "      <th>language</th>\n",
              "      <th>product_category</th>\n",
              "    </tr>\n",
              "  </thead>\n",
              "  <tbody>\n",
              "    <tr>\n",
              "      <th>0</th>\n",
              "      <td>es_0417480</td>\n",
              "      <td>product_es_0873923</td>\n",
              "      <td>reviewer_es_0672978</td>\n",
              "      <td>1</td>\n",
              "      <td>Malisimo, muy grande demasiado aparatoso y mal...</td>\n",
              "      <td>Mala compra</td>\n",
              "      <td>es</td>\n",
              "      <td>wireless</td>\n",
              "    </tr>\n",
              "    <tr>\n",
              "      <th>1</th>\n",
              "      <td>es_0180432</td>\n",
              "      <td>product_es_0713146</td>\n",
              "      <td>reviewer_es_0100858</td>\n",
              "      <td>1</td>\n",
              "      <td>No he recibido el pedido no la devolución</td>\n",
              "      <td>No lo he recibido</td>\n",
              "      <td>es</td>\n",
              "      <td>apparel</td>\n",
              "    </tr>\n",
              "    <tr>\n",
              "      <th>2</th>\n",
              "      <td>es_0144850</td>\n",
              "      <td>product_es_0356874</td>\n",
              "      <td>reviewer_es_0486447</td>\n",
              "      <td>1</td>\n",
              "      <td>Tengo que buscar otro sistema, este no funcion...</td>\n",
              "      <td>Que no aprieta bien en el manillar</td>\n",
              "      <td>es</td>\n",
              "      <td>sports</td>\n",
              "    </tr>\n",
              "    <tr>\n",
              "      <th>3</th>\n",
              "      <td>es_0339629</td>\n",
              "      <td>product_es_0939832</td>\n",
              "      <td>reviewer_es_0894703</td>\n",
              "      <td>1</td>\n",
              "      <td>Utilicé las brocas de menor diámetro y se me d...</td>\n",
              "      <td>Brocas de mantequilla</td>\n",
              "      <td>es</td>\n",
              "      <td>home_improvement</td>\n",
              "    </tr>\n",
              "    <tr>\n",
              "      <th>4</th>\n",
              "      <td>es_0858362</td>\n",
              "      <td>product_es_0489066</td>\n",
              "      <td>reviewer_es_0887663</td>\n",
              "      <td>1</td>\n",
              "      <td>No me gusta su olor a viejo y aspecto malo</td>\n",
              "      <td>No me gusta</td>\n",
              "      <td>es</td>\n",
              "      <td>beauty</td>\n",
              "    </tr>\n",
              "  </tbody>\n",
              "</table>\n",
              "</div>"
            ],
            "text/plain": [
              "    review_id          product_id  ... language  product_category\n",
              "0  es_0417480  product_es_0873923  ...       es          wireless\n",
              "1  es_0180432  product_es_0713146  ...       es           apparel\n",
              "2  es_0144850  product_es_0356874  ...       es            sports\n",
              "3  es_0339629  product_es_0939832  ...       es  home_improvement\n",
              "4  es_0858362  product_es_0489066  ...       es            beauty\n",
              "\n",
              "[5 rows x 8 columns]"
            ]
          },
          "metadata": {
            "tags": []
          },
          "execution_count": 3
        }
      ]
    },
    {
      "cell_type": "code",
      "metadata": {
        "colab": {
          "base_uri": "https://localhost:8080/",
          "height": 195
        },
        "id": "7a4XlQjk9hjT",
        "outputId": "d547eef1-25f7-4104-dcba-f2ecb0081da2"
      },
      "source": [
        "dataset_test = pd.read_json(\"/content/drive/My Drive/Colab Notebooks/Proyecto NLP/dataset_es_test.json\", lines= True)\n",
        "dataset_test.head()"
      ],
      "execution_count": 4,
      "outputs": [
        {
          "output_type": "execute_result",
          "data": {
            "text/html": [
              "<div>\n",
              "<style scoped>\n",
              "    .dataframe tbody tr th:only-of-type {\n",
              "        vertical-align: middle;\n",
              "    }\n",
              "\n",
              "    .dataframe tbody tr th {\n",
              "        vertical-align: top;\n",
              "    }\n",
              "\n",
              "    .dataframe thead th {\n",
              "        text-align: right;\n",
              "    }\n",
              "</style>\n",
              "<table border=\"1\" class=\"dataframe\">\n",
              "  <thead>\n",
              "    <tr style=\"text-align: right;\">\n",
              "      <th></th>\n",
              "      <th>review_id</th>\n",
              "      <th>product_id</th>\n",
              "      <th>reviewer_id</th>\n",
              "      <th>stars</th>\n",
              "      <th>review_body</th>\n",
              "      <th>review_title</th>\n",
              "      <th>language</th>\n",
              "      <th>product_category</th>\n",
              "    </tr>\n",
              "  </thead>\n",
              "  <tbody>\n",
              "    <tr>\n",
              "      <th>0</th>\n",
              "      <td>es_0038754</td>\n",
              "      <td>product_es_0113523</td>\n",
              "      <td>reviewer_es_0580071</td>\n",
              "      <td>1</td>\n",
              "      <td>no me llego el articulo me lo mando por correo...</td>\n",
              "      <td>no me llego</td>\n",
              "      <td>es</td>\n",
              "      <td>wireless</td>\n",
              "    </tr>\n",
              "    <tr>\n",
              "      <th>1</th>\n",
              "      <td>es_0748979</td>\n",
              "      <td>product_es_0017036</td>\n",
              "      <td>reviewer_es_0819733</td>\n",
              "      <td>1</td>\n",
              "      <td>la mensajería horrible, no compro mas</td>\n",
              "      <td>amazon sigue sin cumplir en las entregas</td>\n",
              "      <td>es</td>\n",
              "      <td>home</td>\n",
              "    </tr>\n",
              "    <tr>\n",
              "      <th>2</th>\n",
              "      <td>es_0411746</td>\n",
              "      <td>product_es_0138642</td>\n",
              "      <td>reviewer_es_0508607</td>\n",
              "      <td>1</td>\n",
              "      <td>Estoy muy decepcionado con el vendedor ya que ...</td>\n",
              "      <td>ESTAFA EN EL ENVÍO</td>\n",
              "      <td>es</td>\n",
              "      <td>toy</td>\n",
              "    </tr>\n",
              "    <tr>\n",
              "      <th>3</th>\n",
              "      <td>es_0786686</td>\n",
              "      <td>product_es_0170887</td>\n",
              "      <td>reviewer_es_0491157</td>\n",
              "      <td>1</td>\n",
              "      <td>Mi valoración no es sobre el producto sino sob...</td>\n",
              "      <td>Estafa de Amazon</td>\n",
              "      <td>es</td>\n",
              "      <td>home</td>\n",
              "    </tr>\n",
              "    <tr>\n",
              "      <th>4</th>\n",
              "      <td>es_0429700</td>\n",
              "      <td>product_es_0710642</td>\n",
              "      <td>reviewer_es_0008745</td>\n",
              "      <td>1</td>\n",
              "      <td>Pues tenía interés en este libro y probé la ve...</td>\n",
              "      <td>No conseguí pasar de la portada en Kindle</td>\n",
              "      <td>es</td>\n",
              "      <td>digital_ebook_purchase</td>\n",
              "    </tr>\n",
              "  </tbody>\n",
              "</table>\n",
              "</div>"
            ],
            "text/plain": [
              "    review_id          product_id  ... language        product_category\n",
              "0  es_0038754  product_es_0113523  ...       es                wireless\n",
              "1  es_0748979  product_es_0017036  ...       es                    home\n",
              "2  es_0411746  product_es_0138642  ...       es                     toy\n",
              "3  es_0786686  product_es_0170887  ...       es                    home\n",
              "4  es_0429700  product_es_0710642  ...       es  digital_ebook_purchase\n",
              "\n",
              "[5 rows x 8 columns]"
            ]
          },
          "metadata": {
            "tags": []
          },
          "execution_count": 4
        }
      ]
    },
    {
      "cell_type": "code",
      "metadata": {
        "colab": {
          "base_uri": "https://localhost:8080/",
          "height": 195
        },
        "id": "vchF5ihw9huJ",
        "outputId": "dd1b5e5c-bbb2-4b88-b7f5-bb5f974613c0"
      },
      "source": [
        "dataset_train = pd.read_json(\"/content/drive/My Drive/Colab Notebooks/Proyecto NLP/dataset_es_train.json\", lines= True)\n",
        "dataset_train.head()"
      ],
      "execution_count": 5,
      "outputs": [
        {
          "output_type": "execute_result",
          "data": {
            "text/html": [
              "<div>\n",
              "<style scoped>\n",
              "    .dataframe tbody tr th:only-of-type {\n",
              "        vertical-align: middle;\n",
              "    }\n",
              "\n",
              "    .dataframe tbody tr th {\n",
              "        vertical-align: top;\n",
              "    }\n",
              "\n",
              "    .dataframe thead th {\n",
              "        text-align: right;\n",
              "    }\n",
              "</style>\n",
              "<table border=\"1\" class=\"dataframe\">\n",
              "  <thead>\n",
              "    <tr style=\"text-align: right;\">\n",
              "      <th></th>\n",
              "      <th>review_id</th>\n",
              "      <th>product_id</th>\n",
              "      <th>reviewer_id</th>\n",
              "      <th>stars</th>\n",
              "      <th>review_body</th>\n",
              "      <th>review_title</th>\n",
              "      <th>language</th>\n",
              "      <th>product_category</th>\n",
              "    </tr>\n",
              "  </thead>\n",
              "  <tbody>\n",
              "    <tr>\n",
              "      <th>0</th>\n",
              "      <td>es_0491108</td>\n",
              "      <td>product_es_0296024</td>\n",
              "      <td>reviewer_es_0999081</td>\n",
              "      <td>1</td>\n",
              "      <td>Nada bueno se me fue ka pantalla en menos de 8...</td>\n",
              "      <td>television Nevir</td>\n",
              "      <td>es</td>\n",
              "      <td>electronics</td>\n",
              "    </tr>\n",
              "    <tr>\n",
              "      <th>1</th>\n",
              "      <td>es_0869872</td>\n",
              "      <td>product_es_0922286</td>\n",
              "      <td>reviewer_es_0216771</td>\n",
              "      <td>1</td>\n",
              "      <td>Horrible, nos tuvimos que comprar otro porque ...</td>\n",
              "      <td>Dinero tirado a la basura con esta compra</td>\n",
              "      <td>es</td>\n",
              "      <td>electronics</td>\n",
              "    </tr>\n",
              "    <tr>\n",
              "      <th>2</th>\n",
              "      <td>es_0811721</td>\n",
              "      <td>product_es_0474543</td>\n",
              "      <td>reviewer_es_0929213</td>\n",
              "      <td>1</td>\n",
              "      <td>Te obligan a comprar dos unidades y te llega s...</td>\n",
              "      <td>solo llega una unidad cuando te obligan a comp...</td>\n",
              "      <td>es</td>\n",
              "      <td>drugstore</td>\n",
              "    </tr>\n",
              "    <tr>\n",
              "      <th>3</th>\n",
              "      <td>es_0359921</td>\n",
              "      <td>product_es_0656090</td>\n",
              "      <td>reviewer_es_0224702</td>\n",
              "      <td>1</td>\n",
              "      <td>No entro en descalificar al vendedor, solo pue...</td>\n",
              "      <td>PRODUCTO NO RECIBIDO.</td>\n",
              "      <td>es</td>\n",
              "      <td>wireless</td>\n",
              "    </tr>\n",
              "    <tr>\n",
              "      <th>4</th>\n",
              "      <td>es_0068940</td>\n",
              "      <td>product_es_0662544</td>\n",
              "      <td>reviewer_es_0224827</td>\n",
              "      <td>1</td>\n",
              "      <td>Llega tarde y co la talla equivocada</td>\n",
              "      <td>Devuelto</td>\n",
              "      <td>es</td>\n",
              "      <td>shoes</td>\n",
              "    </tr>\n",
              "  </tbody>\n",
              "</table>\n",
              "</div>"
            ],
            "text/plain": [
              "    review_id          product_id  ... language  product_category\n",
              "0  es_0491108  product_es_0296024  ...       es       electronics\n",
              "1  es_0869872  product_es_0922286  ...       es       electronics\n",
              "2  es_0811721  product_es_0474543  ...       es         drugstore\n",
              "3  es_0359921  product_es_0656090  ...       es          wireless\n",
              "4  es_0068940  product_es_0662544  ...       es             shoes\n",
              "\n",
              "[5 rows x 8 columns]"
            ]
          },
          "metadata": {
            "tags": []
          },
          "execution_count": 5
        }
      ]
    },
    {
      "cell_type": "markdown",
      "metadata": {
        "id": "pNRu_9LcAqom"
      },
      "source": [
        "**Amazon proporciona tres dataset:**\n",
        "\n",
        "Entrenamiento -> Training\n",
        "\n",
        "Evaluación -> Test\n",
        "\n",
        "Valiación -> Deployment (dataset_dep)\n",
        "\n",
        "-Los dataset de Test y Trainning contienen 5.000 y 200.000 reseñas respectivamente, mientras que Deployment contiene 5.000 reseñas.\n",
        "\n"
      ]
    },
    {
      "cell_type": "code",
      "metadata": {
        "colab": {
          "base_uri": "https://localhost:8080/"
        },
        "id": "HJkvK8quDOLV",
        "outputId": "8a3a99c3-c85d-4da5-b84b-34714a50c1be"
      },
      "source": [
        "dataset_dep.shape"
      ],
      "execution_count": 6,
      "outputs": [
        {
          "output_type": "execute_result",
          "data": {
            "text/plain": [
              "(5000, 8)"
            ]
          },
          "metadata": {
            "tags": []
          },
          "execution_count": 6
        }
      ]
    },
    {
      "cell_type": "code",
      "metadata": {
        "colab": {
          "base_uri": "https://localhost:8080/"
        },
        "id": "RVSAlwXBFiH8",
        "outputId": "efdb163b-3389-4477-b5ac-14440f889381"
      },
      "source": [
        "dataset_test.shape"
      ],
      "execution_count": 7,
      "outputs": [
        {
          "output_type": "execute_result",
          "data": {
            "text/plain": [
              "(5000, 8)"
            ]
          },
          "metadata": {
            "tags": []
          },
          "execution_count": 7
        }
      ]
    },
    {
      "cell_type": "code",
      "metadata": {
        "colab": {
          "base_uri": "https://localhost:8080/"
        },
        "id": "IG9rXltUFldZ",
        "outputId": "70d5c7d9-258c-4afd-d672-d0b9f903c513"
      },
      "source": [
        "dataset_train.shape"
      ],
      "execution_count": 8,
      "outputs": [
        {
          "output_type": "execute_result",
          "data": {
            "text/plain": [
              "(200000, 8)"
            ]
          },
          "metadata": {
            "tags": []
          },
          "execution_count": 8
        }
      ]
    },
    {
      "cell_type": "markdown",
      "metadata": {
        "id": "Y4yMBoDngHqF"
      },
      "source": [
        "Para abordar este proyecto, haré un join de las tablas de Train y Test (para lograr una mejor partición de Test) y con el dataset de Deployment validaré el modelo."
      ]
    },
    {
      "cell_type": "code",
      "metadata": {
        "colab": {
          "base_uri": "https://localhost:8080/",
          "height": 195
        },
        "id": "fXJvlZC6g1fy",
        "outputId": "53e78d5b-02b2-473c-f52d-aa1d76346014"
      },
      "source": [
        "#JOIN TEST & TRAIN\n",
        "dataset=pd.concat([dataset_test, dataset_train])\n",
        "dataset.head()"
      ],
      "execution_count": 9,
      "outputs": [
        {
          "output_type": "execute_result",
          "data": {
            "text/html": [
              "<div>\n",
              "<style scoped>\n",
              "    .dataframe tbody tr th:only-of-type {\n",
              "        vertical-align: middle;\n",
              "    }\n",
              "\n",
              "    .dataframe tbody tr th {\n",
              "        vertical-align: top;\n",
              "    }\n",
              "\n",
              "    .dataframe thead th {\n",
              "        text-align: right;\n",
              "    }\n",
              "</style>\n",
              "<table border=\"1\" class=\"dataframe\">\n",
              "  <thead>\n",
              "    <tr style=\"text-align: right;\">\n",
              "      <th></th>\n",
              "      <th>review_id</th>\n",
              "      <th>product_id</th>\n",
              "      <th>reviewer_id</th>\n",
              "      <th>stars</th>\n",
              "      <th>review_body</th>\n",
              "      <th>review_title</th>\n",
              "      <th>language</th>\n",
              "      <th>product_category</th>\n",
              "    </tr>\n",
              "  </thead>\n",
              "  <tbody>\n",
              "    <tr>\n",
              "      <th>0</th>\n",
              "      <td>es_0038754</td>\n",
              "      <td>product_es_0113523</td>\n",
              "      <td>reviewer_es_0580071</td>\n",
              "      <td>1</td>\n",
              "      <td>no me llego el articulo me lo mando por correo...</td>\n",
              "      <td>no me llego</td>\n",
              "      <td>es</td>\n",
              "      <td>wireless</td>\n",
              "    </tr>\n",
              "    <tr>\n",
              "      <th>1</th>\n",
              "      <td>es_0748979</td>\n",
              "      <td>product_es_0017036</td>\n",
              "      <td>reviewer_es_0819733</td>\n",
              "      <td>1</td>\n",
              "      <td>la mensajería horrible, no compro mas</td>\n",
              "      <td>amazon sigue sin cumplir en las entregas</td>\n",
              "      <td>es</td>\n",
              "      <td>home</td>\n",
              "    </tr>\n",
              "    <tr>\n",
              "      <th>2</th>\n",
              "      <td>es_0411746</td>\n",
              "      <td>product_es_0138642</td>\n",
              "      <td>reviewer_es_0508607</td>\n",
              "      <td>1</td>\n",
              "      <td>Estoy muy decepcionado con el vendedor ya que ...</td>\n",
              "      <td>ESTAFA EN EL ENVÍO</td>\n",
              "      <td>es</td>\n",
              "      <td>toy</td>\n",
              "    </tr>\n",
              "    <tr>\n",
              "      <th>3</th>\n",
              "      <td>es_0786686</td>\n",
              "      <td>product_es_0170887</td>\n",
              "      <td>reviewer_es_0491157</td>\n",
              "      <td>1</td>\n",
              "      <td>Mi valoración no es sobre el producto sino sob...</td>\n",
              "      <td>Estafa de Amazon</td>\n",
              "      <td>es</td>\n",
              "      <td>home</td>\n",
              "    </tr>\n",
              "    <tr>\n",
              "      <th>4</th>\n",
              "      <td>es_0429700</td>\n",
              "      <td>product_es_0710642</td>\n",
              "      <td>reviewer_es_0008745</td>\n",
              "      <td>1</td>\n",
              "      <td>Pues tenía interés en este libro y probé la ve...</td>\n",
              "      <td>No conseguí pasar de la portada en Kindle</td>\n",
              "      <td>es</td>\n",
              "      <td>digital_ebook_purchase</td>\n",
              "    </tr>\n",
              "  </tbody>\n",
              "</table>\n",
              "</div>"
            ],
            "text/plain": [
              "    review_id          product_id  ... language        product_category\n",
              "0  es_0038754  product_es_0113523  ...       es                wireless\n",
              "1  es_0748979  product_es_0017036  ...       es                    home\n",
              "2  es_0411746  product_es_0138642  ...       es                     toy\n",
              "3  es_0786686  product_es_0170887  ...       es                    home\n",
              "4  es_0429700  product_es_0710642  ...       es  digital_ebook_purchase\n",
              "\n",
              "[5 rows x 8 columns]"
            ]
          },
          "metadata": {
            "tags": []
          },
          "execution_count": 9
        }
      ]
    },
    {
      "cell_type": "code",
      "metadata": {
        "colab": {
          "base_uri": "https://localhost:8080/"
        },
        "id": "H--zb9yYiDyM",
        "outputId": "72376e91-dd35-4511-d761-ae2ff5d11570"
      },
      "source": [
        "dataset.shape"
      ],
      "execution_count": 10,
      "outputs": [
        {
          "output_type": "execute_result",
          "data": {
            "text/plain": [
              "(205000, 8)"
            ]
          },
          "metadata": {
            "tags": []
          },
          "execution_count": 10
        }
      ]
    },
    {
      "cell_type": "markdown",
      "metadata": {
        "id": "OjUtJUuwKUiq"
      },
      "source": [
        "Calificaciones - ¿ Cómo están balanceadas las etiquetas (estrellas) ?\n",
        "\n",
        "*Los dataset están equilibrados entre estrellas, por lo que cada calificación de estrellas constituye el 20% de las reseñas,tal como se muestra en los siguientes gráficos:*"
      ]
    },
    {
      "cell_type": "code",
      "metadata": {
        "colab": {
          "base_uri": "https://localhost:8080/",
          "height": 338
        },
        "id": "ioaVPv13Kghi",
        "outputId": "e0bef696-16e3-4ab5-947c-0981bfbd11c9"
      },
      "source": [
        "sns.countplot(dataset_dep.stars)\n",
        "plt.show()"
      ],
      "execution_count": 11,
      "outputs": [
        {
          "output_type": "stream",
          "text": [
            "/usr/local/lib/python3.6/dist-packages/seaborn/_decorators.py:43: FutureWarning: Pass the following variable as a keyword arg: x. From version 0.12, the only valid positional argument will be `data`, and passing other arguments without an explicit keyword will result in an error or misinterpretation.\n",
            "  FutureWarning\n"
          ],
          "name": "stderr"
        },
        {
          "output_type": "display_data",
          "data": {
            "image/png": "[encoded data removed]",
            "text/plain": [
              "<Figure size 432x288 with 1 Axes>"
            ]
          },
          "metadata": {
            "tags": [],
            "needs_background": "light"
          }
        }
      ]
    },
    {
      "cell_type": "code",
      "metadata": {
        "colab": {
          "base_uri": "https://localhost:8080/",
          "height": 338
        },
        "id": "SwabSSO3Km8V",
        "outputId": "7c49ab84-b84e-40b4-d9cf-a3abd935e50b"
      },
      "source": [
        "sns.countplot(dataset.stars)\n",
        "plt.show()"
      ],
      "execution_count": 12,
      "outputs": [
        {
          "output_type": "stream",
          "text": [
            "/usr/local/lib/python3.6/dist-packages/seaborn/_decorators.py:43: FutureWarning: Pass the following variable as a keyword arg: x. From version 0.12, the only valid positional argument will be `data`, and passing other arguments without an explicit keyword will result in an error or misinterpretation.\n",
            "  FutureWarning\n"
          ],
          "name": "stderr"
        },
        {
          "output_type": "display_data",
          "data": {
            "image/png": "[encoded data removed]",
            "text/plain": [
              "<Figure size 432x288 with 1 Axes>"
            ]
          },
          "metadata": {
            "tags": [],
            "needs_background": "light"
          }
        }
      ]
    },
    {
      "cell_type": "markdown",
      "metadata": {
        "id": "L_7eA1R2cAA8"
      },
      "source": [
        "Análisis de valores faltantes por Dataset:\n",
        "\n",
        "*No se observan valores faltantes en las columnas*"
      ]
    },
    {
      "cell_type": "code",
      "metadata": {
        "colab": {
          "base_uri": "https://localhost:8080/"
        },
        "id": "ZtmbLhXbbtRB",
        "outputId": "e7a4f134-3189-4316-e374-85577e9a339c"
      },
      "source": [
        "dataset_dep.isna().sum()"
      ],
      "execution_count": 13,
      "outputs": [
        {
          "output_type": "execute_result",
          "data": {
            "text/plain": [
              "review_id           0\n",
              "product_id          0\n",
              "reviewer_id         0\n",
              "stars               0\n",
              "review_body         0\n",
              "review_title        0\n",
              "language            0\n",
              "product_category    0\n",
              "dtype: int64"
            ]
          },
          "metadata": {
            "tags": []
          },
          "execution_count": 13
        }
      ]
    },
    {
      "cell_type": "code",
      "metadata": {
        "colab": {
          "base_uri": "https://localhost:8080/"
        },
        "id": "CUxknOwVcI7k",
        "outputId": "62195518-88d7-4a5b-f4f8-35079a254c07"
      },
      "source": [
        "dataset.isna().sum()"
      ],
      "execution_count": 14,
      "outputs": [
        {
          "output_type": "execute_result",
          "data": {
            "text/plain": [
              "review_id           0\n",
              "product_id          0\n",
              "reviewer_id         0\n",
              "stars               0\n",
              "review_body         0\n",
              "review_title        0\n",
              "language            0\n",
              "product_category    0\n",
              "dtype: int64"
            ]
          },
          "metadata": {
            "tags": []
          },
          "execution_count": 14
        }
      ]
    },
    {
      "cell_type": "markdown",
      "metadata": {
        "id": "fU0eDwJPciAE"
      },
      "source": [
        "Idioma - ¿ Que idiomas tengo disponibles en cada Dataset?\n",
        "\n",
        "*El idioma de las reseñas en todos los dataset es ESPAÑOL*"
      ]
    },
    {
      "cell_type": "code",
      "metadata": {
        "colab": {
          "base_uri": "https://localhost:8080/"
        },
        "id": "14HfIbvacsxM",
        "outputId": "e0ec419b-28d9-4d92-dfbb-b2702070f0e8"
      },
      "source": [
        "dataset_dep.language.value_counts()"
      ],
      "execution_count": 15,
      "outputs": [
        {
          "output_type": "execute_result",
          "data": {
            "text/plain": [
              "es    5000\n",
              "Name: language, dtype: int64"
            ]
          },
          "metadata": {
            "tags": []
          },
          "execution_count": 15
        }
      ]
    },
    {
      "cell_type": "code",
      "metadata": {
        "colab": {
          "base_uri": "https://localhost:8080/"
        },
        "id": "wg1dso5BgdzI",
        "outputId": "e81ce625-2f8c-4d1a-b5a2-d4ea10444f3b"
      },
      "source": [
        "dataset.language.value_counts()"
      ],
      "execution_count": 16,
      "outputs": [
        {
          "output_type": "execute_result",
          "data": {
            "text/plain": [
              "es    205000\n",
              "Name: language, dtype: int64"
            ]
          },
          "metadata": {
            "tags": []
          },
          "execution_count": 16
        }
      ]
    },
    {
      "cell_type": "markdown",
      "metadata": {
        "id": "KWAshl1Tkt0h"
      },
      "source": [
        "Exploración de reseñas\n",
        "\n",
        "*Reseña al azar y su calificación:*"
      ]
    },
    {
      "cell_type": "code",
      "metadata": {
        "colab": {
          "base_uri": "https://localhost:8080/"
        },
        "id": "o4h9ORG6krXY",
        "outputId": "afd118c6-a9a6-48ea-8e1b-f9897e120015"
      },
      "source": [
        "index_random = np.random.randint(0,high = dataset_dep.shape[0])\n",
        "reseña_dep = dataset_dep.iloc[index_random].review_title\n",
        "print(index_random, reseña_dep)\n",
        "print(index_random, dataset_dep.iloc[index_random].stars)"
      ],
      "execution_count": 17,
      "outputs": [
        {
          "output_type": "stream",
          "text": [
            "3262 Buena relación calidad precio\n",
            "3262 4\n"
          ],
          "name": "stdout"
        }
      ]
    },
    {
      "cell_type": "code",
      "metadata": {
        "colab": {
          "base_uri": "https://localhost:8080/"
        },
        "id": "Ad3iLB2clmZq",
        "outputId": "3a1e2f6c-3b9d-4cd8-ae13-467e51980a7e"
      },
      "source": [
        "index_random = np.random.randint(0,high = dataset.shape[0])\n",
        "reseña = dataset.iloc[index_random].review_title\n",
        "print(index_random, reseña)\n",
        "print(index_random, dataset.iloc[index_random].stars)"
      ],
      "execution_count": 18,
      "outputs": [
        {
          "output_type": "stream",
          "text": [
            "169927 Mejor de lo que pensaba\n",
            "169927 5\n"
          ],
          "name": "stdout"
        }
      ]
    },
    {
      "cell_type": "markdown",
      "metadata": {
        "id": "9XOJ4cvqmPf8"
      },
      "source": [
        "¿ Cúal es la categoría de producto mejor calificada ? ¿ Y la peor ?\n",
        "\n"
      ]
    },
    {
      "cell_type": "markdown",
      "metadata": {
        "id": "nhdFbC0Sa_kR"
      },
      "source": [
        "DATASET_DEV = *Como puede observarse, la categoría con mejor puntaje promedio asignado es digital_ebook_purchase (compra de libros digitalizados) y la categoría con peor puntaje promedio es musical_instruments (instrumentos musicales).*"
      ]
    },
    {
      "cell_type": "code",
      "metadata": {
        "colab": {
          "base_uri": "https://localhost:8080/",
          "height": 965
        },
        "id": "Zuwwe21dVPZx",
        "outputId": "4700189d-f9ea-4cd2-954c-4e7e71b3a496"
      },
      "source": [
        "ds=dataset_dep.pivot_table('stars', ['product_category'])\n",
        "ds = ds.sort_values('stars')\n",
        "ds"
      ],
      "execution_count": 19,
      "outputs": [
        {
          "output_type": "execute_result",
          "data": {
            "text/html": [
              "<div>\n",
              "<style scoped>\n",
              "    .dataframe tbody tr th:only-of-type {\n",
              "        vertical-align: middle;\n",
              "    }\n",
              "\n",
              "    .dataframe tbody tr th {\n",
              "        vertical-align: top;\n",
              "    }\n",
              "\n",
              "    .dataframe thead th {\n",
              "        text-align: right;\n",
              "    }\n",
              "</style>\n",
              "<table border=\"1\" class=\"dataframe\">\n",
              "  <thead>\n",
              "    <tr style=\"text-align: right;\">\n",
              "      <th></th>\n",
              "      <th>stars</th>\n",
              "    </tr>\n",
              "    <tr>\n",
              "      <th>product_category</th>\n",
              "      <th></th>\n",
              "    </tr>\n",
              "  </thead>\n",
              "  <tbody>\n",
              "    <tr>\n",
              "      <th>musical_instruments</th>\n",
              "      <td>2.652174</td>\n",
              "    </tr>\n",
              "    <tr>\n",
              "      <th>lawn_and_garden</th>\n",
              "      <td>2.673267</td>\n",
              "    </tr>\n",
              "    <tr>\n",
              "      <th>wireless</th>\n",
              "      <td>2.845238</td>\n",
              "    </tr>\n",
              "    <tr>\n",
              "      <th>automotive</th>\n",
              "      <td>2.849711</td>\n",
              "    </tr>\n",
              "    <tr>\n",
              "      <th>industrial_supplies</th>\n",
              "      <td>2.911765</td>\n",
              "    </tr>\n",
              "    <tr>\n",
              "      <th>video_games</th>\n",
              "      <td>2.930233</td>\n",
              "    </tr>\n",
              "    <tr>\n",
              "      <th>shoes</th>\n",
              "      <td>2.933333</td>\n",
              "    </tr>\n",
              "    <tr>\n",
              "      <th>home_improvement</th>\n",
              "      <td>2.939799</td>\n",
              "    </tr>\n",
              "    <tr>\n",
              "      <th>office_product</th>\n",
              "      <td>2.955357</td>\n",
              "    </tr>\n",
              "    <tr>\n",
              "      <th>watch</th>\n",
              "      <td>2.957447</td>\n",
              "    </tr>\n",
              "    <tr>\n",
              "      <th>toy</th>\n",
              "      <td>2.966867</td>\n",
              "    </tr>\n",
              "    <tr>\n",
              "      <th>home</th>\n",
              "      <td>2.968134</td>\n",
              "    </tr>\n",
              "    <tr>\n",
              "      <th>camera</th>\n",
              "      <td>2.968750</td>\n",
              "    </tr>\n",
              "    <tr>\n",
              "      <th>sports</th>\n",
              "      <td>2.969789</td>\n",
              "    </tr>\n",
              "    <tr>\n",
              "      <th>drugstore</th>\n",
              "      <td>2.970803</td>\n",
              "    </tr>\n",
              "    <tr>\n",
              "      <th>baby_product</th>\n",
              "      <td>2.982906</td>\n",
              "    </tr>\n",
              "    <tr>\n",
              "      <th>apparel</th>\n",
              "      <td>2.984962</td>\n",
              "    </tr>\n",
              "    <tr>\n",
              "      <th>electronics</th>\n",
              "      <td>3.031873</td>\n",
              "    </tr>\n",
              "    <tr>\n",
              "      <th>personal_care_appliances</th>\n",
              "      <td>3.038961</td>\n",
              "    </tr>\n",
              "    <tr>\n",
              "      <th>kitchen</th>\n",
              "      <td>3.051282</td>\n",
              "    </tr>\n",
              "    <tr>\n",
              "      <th>beauty</th>\n",
              "      <td>3.128205</td>\n",
              "    </tr>\n",
              "    <tr>\n",
              "      <th>furniture</th>\n",
              "      <td>3.133333</td>\n",
              "    </tr>\n",
              "    <tr>\n",
              "      <th>pet_products</th>\n",
              "      <td>3.134831</td>\n",
              "    </tr>\n",
              "    <tr>\n",
              "      <th>jewelry</th>\n",
              "      <td>3.147059</td>\n",
              "    </tr>\n",
              "    <tr>\n",
              "      <th>pc</th>\n",
              "      <td>3.150183</td>\n",
              "    </tr>\n",
              "    <tr>\n",
              "      <th>other</th>\n",
              "      <td>3.252427</td>\n",
              "    </tr>\n",
              "    <tr>\n",
              "      <th>luggage</th>\n",
              "      <td>3.287129</td>\n",
              "    </tr>\n",
              "    <tr>\n",
              "      <th>grocery</th>\n",
              "      <td>3.333333</td>\n",
              "    </tr>\n",
              "    <tr>\n",
              "      <th>book</th>\n",
              "      <td>3.373239</td>\n",
              "    </tr>\n",
              "    <tr>\n",
              "      <th>digital_ebook_purchase</th>\n",
              "      <td>3.529412</td>\n",
              "    </tr>\n",
              "  </tbody>\n",
              "</table>\n",
              "</div>"
            ],
            "text/plain": [
              "                             stars\n",
              "product_category                  \n",
              "musical_instruments       2.652174\n",
              "lawn_and_garden           2.673267\n",
              "wireless                  2.845238\n",
              "automotive                2.849711\n",
              "industrial_supplies       2.911765\n",
              "video_games               2.930233\n",
              "shoes                     2.933333\n",
              "home_improvement          2.939799\n",
              "office_product            2.955357\n",
              "watch                     2.957447\n",
              "toy                       2.966867\n",
              "home                      2.968134\n",
              "camera                    2.968750\n",
              "sports                    2.969789\n",
              "drugstore                 2.970803\n",
              "baby_product              2.982906\n",
              "apparel                   2.984962\n",
              "electronics               3.031873\n",
              "personal_care_appliances  3.038961\n",
              "kitchen                   3.051282\n",
              "beauty                    3.128205\n",
              "furniture                 3.133333\n",
              "pet_products              3.134831\n",
              "jewelry                   3.147059\n",
              "pc                        3.150183\n",
              "other                     3.252427\n",
              "luggage                   3.287129\n",
              "grocery                   3.333333\n",
              "book                      3.373239\n",
              "digital_ebook_purchase    3.529412"
            ]
          },
          "metadata": {
            "tags": []
          },
          "execution_count": 19
        }
      ]
    },
    {
      "cell_type": "markdown",
      "metadata": {
        "id": "Rr7yPZbDbEpV"
      },
      "source": [
        "DATASET = *Como puede observarse, la categoría con mejor puntaje promedio asignado es book (libros ) y la categoría con peor puntaje promedio es lawn_and_garden (productos de jardinería).*"
      ]
    },
    {
      "cell_type": "code",
      "metadata": {
        "colab": {
          "base_uri": "https://localhost:8080/",
          "height": 965
        },
        "id": "KmhBMG98bLkF",
        "outputId": "aaba65b9-e928-480a-ce98-2d0d23adf6a3"
      },
      "source": [
        "ds=dataset.pivot_table('stars', ['product_category'])\n",
        "ds = ds.sort_values('stars')\n",
        "ds"
      ],
      "execution_count": 20,
      "outputs": [
        {
          "output_type": "execute_result",
          "data": {
            "text/html": [
              "<div>\n",
              "<style scoped>\n",
              "    .dataframe tbody tr th:only-of-type {\n",
              "        vertical-align: middle;\n",
              "    }\n",
              "\n",
              "    .dataframe tbody tr th {\n",
              "        vertical-align: top;\n",
              "    }\n",
              "\n",
              "    .dataframe thead th {\n",
              "        text-align: right;\n",
              "    }\n",
              "</style>\n",
              "<table border=\"1\" class=\"dataframe\">\n",
              "  <thead>\n",
              "    <tr style=\"text-align: right;\">\n",
              "      <th></th>\n",
              "      <th>stars</th>\n",
              "    </tr>\n",
              "    <tr>\n",
              "      <th>product_category</th>\n",
              "      <th></th>\n",
              "    </tr>\n",
              "  </thead>\n",
              "  <tbody>\n",
              "    <tr>\n",
              "      <th>lawn_and_garden</th>\n",
              "      <td>2.765179</td>\n",
              "    </tr>\n",
              "    <tr>\n",
              "      <th>wireless</th>\n",
              "      <td>2.820923</td>\n",
              "    </tr>\n",
              "    <tr>\n",
              "      <th>apparel</th>\n",
              "      <td>2.867029</td>\n",
              "    </tr>\n",
              "    <tr>\n",
              "      <th>electronics</th>\n",
              "      <td>2.887772</td>\n",
              "    </tr>\n",
              "    <tr>\n",
              "      <th>jewelry</th>\n",
              "      <td>2.925137</td>\n",
              "    </tr>\n",
              "    <tr>\n",
              "      <th>beauty</th>\n",
              "      <td>2.935703</td>\n",
              "    </tr>\n",
              "    <tr>\n",
              "      <th>automotive</th>\n",
              "      <td>2.958208</td>\n",
              "    </tr>\n",
              "    <tr>\n",
              "      <th>home</th>\n",
              "      <td>2.982869</td>\n",
              "    </tr>\n",
              "    <tr>\n",
              "      <th>pet_products</th>\n",
              "      <td>2.993176</td>\n",
              "    </tr>\n",
              "    <tr>\n",
              "      <th>watch</th>\n",
              "      <td>2.996053</td>\n",
              "    </tr>\n",
              "    <tr>\n",
              "      <th>drugstore</th>\n",
              "      <td>3.005495</td>\n",
              "    </tr>\n",
              "    <tr>\n",
              "      <th>kitchen</th>\n",
              "      <td>3.013533</td>\n",
              "    </tr>\n",
              "    <tr>\n",
              "      <th>personal_care_appliances</th>\n",
              "      <td>3.024330</td>\n",
              "    </tr>\n",
              "    <tr>\n",
              "      <th>sports</th>\n",
              "      <td>3.031349</td>\n",
              "    </tr>\n",
              "    <tr>\n",
              "      <th>home_improvement</th>\n",
              "      <td>3.035813</td>\n",
              "    </tr>\n",
              "    <tr>\n",
              "      <th>toy</th>\n",
              "      <td>3.040726</td>\n",
              "    </tr>\n",
              "    <tr>\n",
              "      <th>furniture</th>\n",
              "      <td>3.053124</td>\n",
              "    </tr>\n",
              "    <tr>\n",
              "      <th>pc</th>\n",
              "      <td>3.065083</td>\n",
              "    </tr>\n",
              "    <tr>\n",
              "      <th>industrial_supplies</th>\n",
              "      <td>3.073781</td>\n",
              "    </tr>\n",
              "    <tr>\n",
              "      <th>other</th>\n",
              "      <td>3.077954</td>\n",
              "    </tr>\n",
              "    <tr>\n",
              "      <th>office_product</th>\n",
              "      <td>3.089220</td>\n",
              "    </tr>\n",
              "    <tr>\n",
              "      <th>baby_product</th>\n",
              "      <td>3.090946</td>\n",
              "    </tr>\n",
              "    <tr>\n",
              "      <th>shoes</th>\n",
              "      <td>3.104034</td>\n",
              "    </tr>\n",
              "    <tr>\n",
              "      <th>camera</th>\n",
              "      <td>3.104300</td>\n",
              "    </tr>\n",
              "    <tr>\n",
              "      <th>video_games</th>\n",
              "      <td>3.122254</td>\n",
              "    </tr>\n",
              "    <tr>\n",
              "      <th>grocery</th>\n",
              "      <td>3.154562</td>\n",
              "    </tr>\n",
              "    <tr>\n",
              "      <th>musical_instruments</th>\n",
              "      <td>3.227913</td>\n",
              "    </tr>\n",
              "    <tr>\n",
              "      <th>luggage</th>\n",
              "      <td>3.293721</td>\n",
              "    </tr>\n",
              "    <tr>\n",
              "      <th>digital_ebook_purchase</th>\n",
              "      <td>3.356499</td>\n",
              "    </tr>\n",
              "    <tr>\n",
              "      <th>book</th>\n",
              "      <td>3.405681</td>\n",
              "    </tr>\n",
              "  </tbody>\n",
              "</table>\n",
              "</div>"
            ],
            "text/plain": [
              "                             stars\n",
              "product_category                  \n",
              "lawn_and_garden           2.765179\n",
              "wireless                  2.820923\n",
              "apparel                   2.867029\n",
              "electronics               2.887772\n",
              "jewelry                   2.925137\n",
              "beauty                    2.935703\n",
              "automotive                2.958208\n",
              "home                      2.982869\n",
              "pet_products              2.993176\n",
              "watch                     2.996053\n",
              "drugstore                 3.005495\n",
              "kitchen                   3.013533\n",
              "personal_care_appliances  3.024330\n",
              "sports                    3.031349\n",
              "home_improvement          3.035813\n",
              "toy                       3.040726\n",
              "furniture                 3.053124\n",
              "pc                        3.065083\n",
              "industrial_supplies       3.073781\n",
              "other                     3.077954\n",
              "office_product            3.089220\n",
              "baby_product              3.090946\n",
              "shoes                     3.104034\n",
              "camera                    3.104300\n",
              "video_games               3.122254\n",
              "grocery                   3.154562\n",
              "musical_instruments       3.227913\n",
              "luggage                   3.293721\n",
              "digital_ebook_purchase    3.356499\n",
              "book                      3.405681"
            ]
          },
          "metadata": {
            "tags": []
          },
          "execution_count": 20
        }
      ]
    },
    {
      "cell_type": "markdown",
      "metadata": {
        "id": "qtvcFkoqVvqe"
      },
      "source": [
        "# PARTE B - Sin modificaciones"
      ]
    },
    {
      "cell_type": "markdown",
      "metadata": {
        "id": "JSEfotjrVz_n"
      },
      "source": [
        "Parte B - Modelo de Machine Learning. En esta sección deberás aplicar las técnicas de Machine Learning aprendidas para crear un modelo predictivo a partir del dataset provisto.\n",
        "\n",
        "Debes evaluar correctamente el modelo que realices. Esto implica un correcto manejo de datos de Train y Test, elegir una métrica apropiada y justificar su elección, y comparar los resultados contra un modelo benchmark.\n"
      ]
    },
    {
      "cell_type": "markdown",
      "metadata": {
        "id": "VaOaGQRBaMDy"
      },
      "source": [
        "**TOKENIZACIÓN**\n",
        "\n",
        "Pasar de un único string de texto a una lista de string de oraciones."
      ]
    },
    {
      "cell_type": "code",
      "metadata": {
        "colab": {
          "base_uri": "https://localhost:8080/"
        },
        "id": "rLsPGpLA4ZHO",
        "outputId": "35aee1c5-7016-4814-c589-0604bbe9ed63"
      },
      "source": [
        "#importo spacy en español\n",
        "import spacy.cli\n",
        "spacy.cli.download(\"es_core_news_sm\")"
      ],
      "execution_count": null,
      "outputs": [
        {
          "output_type": "stream",
          "text": [
            "\u001b[38;5;2m✔ Download and installation successful\u001b[0m\n",
            "You can now load the model via spacy.load('es_core_news_sm')\n"
          ],
          "name": "stdout"
        }
      ]
    },
    {
      "cell_type": "code",
      "metadata": {
        "id": "-UxtTtPY601z"
      },
      "source": [
        "from spacy import displacy"
      ],
      "execution_count": null,
      "outputs": []
    },
    {
      "cell_type": "code",
      "metadata": {
        "id": "oWv9Ry9JslBL"
      },
      "source": [
        "#Para generar un análisis se tiene que crear un objeto del modelo\n",
        "nlp = spacy.load('es_core_news_sm') "
      ],
      "execution_count": null,
      "outputs": []
    },
    {
      "cell_type": "code",
      "metadata": {
        "id": "gryypI-2QaqN",
        "colab": {
          "base_uri": "https://localhost:8080/"
        },
        "outputId": "8f363714-90c4-4cbf-9042-068f35b0e7e6"
      },
      "source": [
        "#Analizando el texto con Spacy, la variable doc contiene una versión analizada del texto, \n",
        "#aunque aparentemente se mantuvo sin cambios se generaron atributos y propiedades partidas\n",
        "# del análisis del texto\n",
        "doc=nlp(reseña)\n",
        "print(doc)"
      ],
      "execution_count": null,
      "outputs": [
        {
          "output_type": "stream",
          "text": [
            "Cómodos y fijos al oido\n"
          ],
          "name": "stdout"
        }
      ]
    },
    {
      "cell_type": "code",
      "metadata": {
        "id": "gpW0uewgRiiH",
        "colab": {
          "base_uri": "https://localhost:8080/"
        },
        "outputId": "1df36154-0d8b-4968-c392-eb60dbfaf269"
      },
      "source": [
        "#Para tokenizar oraciones\n",
        "for num,oracion in enumerate(doc.sents):\n",
        "    print(f'{num}: {oracion}')\n",
        "\n",
        "#Una oración, por ser el titular "
      ],
      "execution_count": null,
      "outputs": [
        {
          "output_type": "stream",
          "text": [
            "0: Cómodos y fijos al oido\n"
          ],
          "name": "stdout"
        }
      ]
    },
    {
      "cell_type": "code",
      "metadata": {
        "id": "qgVdPQFvSFnj",
        "colab": {
          "base_uri": "https://localhost:8080/"
        },
        "outputId": "6de49314-9a3b-4a81-a315-3e5be85188ab"
      },
      "source": [
        "#Para tokenizar palabras\n",
        "for palabra in doc:\n",
        "    print(palabra.text)"
      ],
      "execution_count": null,
      "outputs": [
        {
          "output_type": "stream",
          "text": [
            "Cómodos\n",
            "y\n",
            "fijos\n",
            "al\n",
            "oido\n"
          ],
          "name": "stdout"
        }
      ]
    },
    {
      "cell_type": "code",
      "metadata": {
        "id": "4MR1gtNNAYYC"
      },
      "source": [
        "from spacy.pipeline import EntityRuler\n",
        "nlp = spacy.load('es_core_news_sm')\n",
        "ruler = EntityRuler(nlp, overwrite_ents=True)\n",
        "#Esto es para que me deje sobreescribir el pipeline"
      ],
      "execution_count": null,
      "outputs": []
    },
    {
      "cell_type": "code",
      "metadata": {
        "id": "O_JVdzH59vpM",
        "colab": {
          "base_uri": "https://localhost:8080/"
        },
        "outputId": "26fdf32e-3c63-4183-84e1-7807bb6caf53"
      },
      "source": [
        "#Separo en oraciones a la reseña\n",
        "orac = nlp.create_pipe('sentencizer') # En esta primer etapa del Pipeline, separo las frases\n",
        "nlp.add_pipe(orac, before='parser')  #identifica componentes gramaticales y los vuelve oración\n",
        "doc=nlp(reseña)\n",
        "for orac in doc.sents: #(.sents es para mostrar las oraciones en frases, en este caso hay una sola)\n",
        "    print(orac)"
      ],
      "execution_count": null,
      "outputs": [
        {
          "output_type": "stream",
          "text": [
            "Cómodos y fijos al oido\n"
          ],
          "name": "stdout"
        }
      ]
    },
    {
      "cell_type": "code",
      "metadata": {
        "id": "tODl7Gk1StXm",
        "colab": {
          "base_uri": "https://localhost:8080/"
        },
        "outputId": "06794d7f-a096-4f80-b1ae-be354e547b24"
      },
      "source": [
        "# Para hacer una lista de tokens\n",
        "lista_palabras=[palabra.text.replace('\\n','') for palabra in doc[:30]]\n",
        "print(lista_palabras)"
      ],
      "execution_count": null,
      "outputs": [
        {
          "output_type": "stream",
          "text": [
            "['Cómodos', 'y', 'fijos', 'al', 'oido']\n"
          ],
          "name": "stdout"
        }
      ]
    },
    {
      "cell_type": "code",
      "metadata": {
        "id": "GdDnScki-MLf",
        "colab": {
          "base_uri": "https://localhost:8080/"
        },
        "outputId": "66416b8a-c052-4b50-a154-3bdb96377f8e"
      },
      "source": [
        "#Stop Words de es_core_news_sm\n",
        "from spacy.lang.es.stop_words import STOP_WORDS\n",
        "stopwords_spacy = list(STOP_WORDS)\n",
        "print(stopwords_spacy)\n",
        "len(stopwords_spacy)"
      ],
      "execution_count": null,
      "outputs": [
        {
          "output_type": "stream",
          "text": [
            "['debajo', 'llegó', 'tampoco', 'realizar', 'sé', 'creo', 'horas', 'cuatro', 'sabemos', 'ésta', 'ti', 'varios', 'dias', 'queremos', 'cierta', 'todavia', 'aquellos', 'nuevos', 'suyas', 'mientras', 'ejemplo', 'poder', 'pocas', 'ellos', 'sus', 'están', 'además', 'haciendo', 'toda', 'durante', 'ni', 'sólo', 'tendrán', 'medio', 'tenemos', 'estan', 'sería', 'estar', 'total', 'hacerlo', 'ya', 'haces', 'uso', 'dijeron', 'como', 'hicieron', 'estaba', 'parte', 'buenos', 'dio', 'según', 'si', 'haya', 'tres', 'arribaabajo', 'vuestros', 'ningún', 'al', 'valor', 'podría', 'veces', 'ultimo', 'hablan', 'tuyo', 'largo', 'final', 'cuántas', 'aquélla', 'un', 'muchos', 'desde', 'era', 'manera', 'pueda', 'solamente', 'está', 'conseguimos', 'peor', 'próximos', 'siete', 'la', 'nunca', 'soyos', 'quién', 'empleais', 'raras', 'mencionó', 'lugar', 'sois', 'vosotros', 'sabes', 'buena', 'acuerdo', 'propio', 'vuestra', 'otras', 'segun', 'podriais', 'mediante', 'una', 'nosotros', 'trabaja', 'primera', 'somos', 'dar', 'fuimos', 'mia', 'pues', 'quiere', 'empleas', 'vaya', 'donde', 'dicho', 'demasiado', 'ese', 'alguno', 'nosotras', 'intentas', 'cuantos', 'adrede', 'intentar', 'trata', 'los', 'segundo', 'señaló', 'atras', 'modo', 'mal', 'cuando', 'últimas', 'anterior', 'vamos', 'esto', 'estuvo', 'nuevo', 'cual', 'que', 'consigo', 'habla', 'quizas', 'comentó', 'tarde', 'se', 'mío', 'aseguró', 'algún', 'mí', 'quienes', 'realizado', 'alrededor', 'decir', 'tener', 'saben', 'bueno', 'van', 'ampleamos', 'lleva', 'después', 'así', 'supuesto', 'hacia', 'tengo', 'trabajais', 'ambos', 'cuales', 'eramos', 'podrias', 'podemos', 'su', 'he', 'mismas', 'sobre', 'podrían', 'podeis', 'siguiente', 'expresó', 'cierto', 'antano', 'hemos', 'fin', 'ellas', 'lo', 'puede', 'tú', 'cuál', 'esa', 'son', 'tuya', 'aunque', 'tenía', 'saber', 'pais', 'trabajamos', 'vuestro', 'emplear', 'habrá', 'entonces', 'aquella', 'ella', 'mucha', 'pronto', 'tu', 'aquello', 'aquél', 'el', 'afirmó', 'aquellas', 'tal', 'voy', 'verdadero', 'haber', 'usamos', 'conmigo', 'través', 'conocer', 'otro', 'mía', 'unas', 'quiza', 'pesar', 'bastante', 'mayor', 'va', 'de', 'nuestras', 'cosas', 'solas', 'mias', 'había', 'quedó', 'ningunos', 'tercera', 'temprano', 'propios', 'breve', 'arriba', 'allí', 'usted', 'salvo', 'sí', 'tendrá', 'tienen', 'pasado', 'delante', 'mas', 'verdad', 'ahora', 'cuántos', 'debido', 'general', 'días', 'eso', 'da', 'yo', 'nueva', 'fuera', 'teneis', 'unos', 'han', 'más', 'claro', 'informo', 'soy', 'primer', 'usas', 'cuáles', 'ciertas', 'mi', 'seis', 'hecho', 'esta', 'nos', 'detras', 'tuyos', 'debe', 'éstos', 'dice', 'bajo', 'también', 'menudo', 'no', 'porque', 'usar', 'pudo', 'podria', 'propias', 'mías', 'gran', 'aquel', 'ésa', 'mismos', 'estais', 'haceis', 'nuestro', 'estaban', 'pasada', 'detrás', 'todas', 'ninguna', 'último', 'antes', 'mis', 'todo', 'hasta', 'ver', 'hizo', 'encuentra', 'pueden', 'tambien', 'podriamos', 'tenga', 'cuánto', 'menos', 'primeros', 'estamos', 'diferente', 'sera', 'últimos', 'intenta', 'quizá', 'sido', 'tanto', 'excepto', 'intento', 'cuándo', 'hacer', 'sino', 'gueno', 'encima', 'manifestó', 'algunas', 'primero', 'conseguir', 'vais', 'lejos', 'estoy', 'éstas', 'dieron', 'lado', 'tenido', 'luego', 'alli', 'ocho', 'serán', 'aún', 'todos', 'aqui', 'ante', 'demás', 'tus', 'buenas', 'este', 'habían', 'repente', 'siempre', 'deben', 'vez', 'ningunas', 'diferentes', 'esas', 'me', 'mismo', 'agregó', 'tiene', 'trabajas', 'cuanta', 'eras', 'ademas', 'éste', 'con', 'pero', 'por', 'consigue', 'hay', 'poco', 'grandes', 'estas', 'usan', 'dan', 'cuanto', 'nada', 'ahí', 'él', 'indicó', 'otros', 'podrán', 'puedo', 'suyo', 'sin', 'sabeis', 'cuenta', 'proximo', 'tiempo', 'os', 'estados', 'paìs', 'poca', 'mios', 'vuestras', 'ciertos', 'sea', 'aquéllas', 'asi', 'incluso', 'empleo', 'fue', 'principalmente', 'tuyas', 'actualmente', 'informó', 'solos', 'usais', 'aquí', 'antaño', 'del', 'muy', 'despues', 'momento', 'ex', 'ésas', 'aquéllos', 'consiguen', 'verdadera', 'estado', 'aproximadamente', 'posible', 'ha', 'vosotras', 'en', 'las', 'trabajar', 'ayer', 'ello', 'nuestros', 'segunda', 'ustedes', 'intentan', 'adelante', 'ése', 'parece', 'qué', 'llevar', 'poner', 'otra', 'cada', 'le', 'fueron', 'realizó', 'dijo', 'trabajo', 'mejor', 'cualquier', 'hacen', 'podrá', 'casi', 'les', 'consideró', 'sabe', 'considera', 'cuánta', 'para', 'despacio', 'míos', 'sola', 'tras', 'mucho', 'última', 'consigues', 'enseguida', 'algunos', 'nuestra', 'esos', 'quiénes', 'uno', 'sigue', 'junto', 'ir', 'entre', 'partir', 'trabajan', 'dejó', 'intentais', 'qeu', 'quizás', 'existe', 'ésos', 'hacemos', 'estará', 'fui', 'alguna', 'varias', 'dicen', 'algo', 'dónde', 'intentamos', 'dado', 'mio', 'añadió', 'deprisa', 'te', 'contra', 'muchas', 'ninguno', 'tan', 'usa', 'propia', 'habia', 'cómo', 'sean', 'eran', 'cuantas', 'hubo', 'hace', 'solo', 'dos', 'cinco', 'es', 'emplean', 'día', 'contigo', 'tuvo', 'dentro', 'nadie', 'igual', 'misma', 'hago', 'pocos', 'aun', 'siendo', 'cerca', 'quien', 'ahi', 'dia', 'existen', 'embargo', 'enfrente', 'nuevas', 'hoy', 'próximo', 'ser', 'explicó', 'respecto', 'bien', 'podrian', 'apenas', 'buen', 'eres', 'suya', 'todavía', 'será', 'estos']\n"
          ],
          "name": "stdout"
        },
        {
          "output_type": "execute_result",
          "data": {
            "text/plain": [
              "551"
            ]
          },
          "metadata": {
            "tags": []
          },
          "execution_count": 35
        }
      ]
    },
    {
      "cell_type": "code",
      "metadata": {
        "id": "u8ye_Ody-dJR",
        "colab": {
          "base_uri": "https://localhost:8080/"
        },
        "outputId": "4405a3ea-64fd-41e9-ea66-72ff78dc48bc"
      },
      "source": [
        "#Elimino Stopwords de la reseña\n",
        "for palabra in doc:\n",
        "    if palabra.is_stop == False:\n",
        "        print(palabra)"
      ],
      "execution_count": null,
      "outputs": [
        {
          "output_type": "stream",
          "text": [
            "Cómodos\n",
            "y\n",
            "fijos\n",
            "oido\n"
          ],
          "name": "stdout"
        }
      ]
    },
    {
      "cell_type": "code",
      "metadata": {
        "id": "nun-VFO3BzEU",
        "colab": {
          "base_uri": "https://localhost:8080/"
        },
        "outputId": "08c0d30d-57b8-477e-dcc9-c1db114cffe0"
      },
      "source": [
        "#Lemmatización\n",
        "doc = nlp(reseña)\n",
        "for lem in doc:\n",
        "    print(lem.text, lem.lemma_)"
      ],
      "execution_count": null,
      "outputs": [
        {
          "output_type": "stream",
          "text": [
            "Cómodos Cómodos\n",
            "y y\n",
            "fijos fijo\n",
            "al al\n",
            "oido oido\n"
          ],
          "name": "stdout"
        }
      ]
    },
    {
      "cell_type": "markdown",
      "metadata": {
        "id": "Wf1cIq58Fr8t"
      },
      "source": [
        "**DATASET COMPLETO**"
      ]
    },
    {
      "cell_type": "markdown",
      "metadata": {
        "id": "0vNakiXS9ftw"
      },
      "source": [
        "**MODELO**\n",
        "\n",
        "* Benchmark: utilizo como feature REVIEW TITTLE (Título de Reseña)\n",
        "\n",
        "* Modelo: utilizo como feature REVIEW BODY (Cuerpo de Reseña)"
      ]
    },
    {
      "cell_type": "code",
      "metadata": {
        "id": "Vv-D--lXFXZD"
      },
      "source": [
        "#Importo librerías de aprendizaje\n",
        "from sklearn.feature_extraction.text import TfidfVectorizer\n",
        "from sklearn.pipeline import Pipeline\n",
        "from sklearn.model_selection import train_test_split\n",
        "from sklearn.metrics import accuracy_score, classification_report, confusion_matrix"
      ],
      "execution_count": null,
      "outputs": []
    },
    {
      "cell_type": "code",
      "metadata": {
        "id": "t-yZIeLZFm_B",
        "colab": {
          "base_uri": "https://localhost:8080/",
          "height": 35
        },
        "outputId": "80dc914b-2cb2-41ab-d123-6858c34f0a54"
      },
      "source": [
        "#signos de puntuación\n",
        "import string\n",
        "puntua = string.punctuation + '¡¿'\n",
        "puntua"
      ],
      "execution_count": null,
      "outputs": [
        {
          "output_type": "execute_result",
          "data": {
            "application/vnd.google.colaboratory.intrinsic+json": {
              "type": "string"
            },
            "text/plain": [
              "'!\"#$%&\\'()*+,-./:;<=>?@[\\\\]^_`{|}~¡¿'"
            ]
          },
          "metadata": {
            "tags": []
          },
          "execution_count": 39
        }
      ]
    },
    {
      "cell_type": "code",
      "metadata": {
        "id": "8AyrAVzlFpeS"
      },
      "source": [
        "#Función para limpieza de datos\n",
        "def text_data_cleaning(sentence):\n",
        "    doc = nlp(sentence)\n",
        "    \n",
        "    palabras = []\n",
        "    for palabra in doc:\n",
        "        if palabra.lemma_ != \"-PRON-\":\n",
        "            temp = palabra.lemma_.strip()\n",
        "        else:\n",
        "            temp = palabra\n",
        "        palabras.append(temp)\n",
        "    \n",
        "    clean_palabras = []\n",
        "    for palabra in palabras:\n",
        "        if palabra not in stopwords_spacy and palabra not in puntua:\n",
        "            clean_palabras.append(palabra)\n",
        "    \n",
        "    return clean_palabras"
      ],
      "execution_count": null,
      "outputs": []
    },
    {
      "cell_type": "code",
      "metadata": {
        "id": "A4EvMP6XHbcU",
        "colab": {
          "base_uri": "https://localhost:8080/"
        },
        "outputId": "7d96847a-e665-44ae-ecd9-d112034e5fb7"
      },
      "source": [
        "#Ej. para probar función\n",
        "\n",
        "text_data_cleaning(reseña)"
      ],
      "execution_count": null,
      "outputs": [
        {
          "output_type": "execute_result",
          "data": {
            "text/plain": [
              "['Cómodos', 'y', 'fijo', 'oido']"
            ]
          },
          "metadata": {
            "tags": []
          },
          "execution_count": 41
        }
      ]
    },
    {
      "cell_type": "code",
      "metadata": {
        "id": "wx85ZY11Hrw4"
      },
      "source": [
        "#VECTORIZACIÓN\n",
        "\n",
        "#importo librería de vectorización\n",
        "from sklearn.svm import LinearSVC"
      ],
      "execution_count": null,
      "outputs": []
    },
    {
      "cell_type": "code",
      "metadata": {
        "id": "5nCRiUAeH23c"
      },
      "source": [
        "#Defino la función de tokenizado y creo el clasificador\n",
        "tfidf = TfidfVectorizer(tokenizer = text_data_cleaning)\n",
        "classifier = LinearSVC()"
      ],
      "execution_count": null,
      "outputs": []
    },
    {
      "cell_type": "markdown",
      "metadata": {
        "id": "bNHEZUBY-HE1"
      },
      "source": [
        "*Benchmark*"
      ]
    },
    {
      "cell_type": "code",
      "metadata": {
        "id": "zM0A83kgIU2x"
      },
      "source": [
        "#Creo los vectores de datos\n",
        "X = dataset['review_title']\n",
        "y = dataset['stars']"
      ],
      "execution_count": null,
      "outputs": []
    },
    {
      "cell_type": "code",
      "metadata": {
        "id": "mN0WYMAUIxEj",
        "colab": {
          "base_uri": "https://localhost:8080/"
        },
        "outputId": "18cf4d45-5c32-417c-ee45-5455f0e95351"
      },
      "source": [
        "#Creo el vector de entrenamiento como una porción de los datos y dejo el resto para pruebas #test 0.3, train= 0.7\n",
        "X_train, X_test, y_train, y_test = train_test_split(X, y, test_size=0.3, random_state=42)\n",
        "X_train.shape, X_test.shape, y_train.shape, y_test.shape"
      ],
      "execution_count": null,
      "outputs": [
        {
          "output_type": "execute_result",
          "data": {
            "text/plain": [
              "((143500,), (61500,), (143500,), (61500,))"
            ]
          },
          "metadata": {
            "tags": []
          },
          "execution_count": 45
        }
      ]
    },
    {
      "cell_type": "code",
      "metadata": {
        "id": "fQr3hlM9JI0e",
        "colab": {
          "base_uri": "https://localhost:8080/"
        },
        "outputId": "852d5f37-dacb-4159-b276-0f9f2e7df757"
      },
      "source": [
        "X_train.head()"
      ],
      "execution_count": null,
      "outputs": [
        {
          "output_type": "execute_result",
          "data": {
            "text/plain": [
              "196144                                             Práctico\n",
              "60473                                          No muy bueno\n",
              "76076     es bonito y parece buen material, pero si se d...\n",
              "170434                                                    A\n",
              "26744                                           Son dina a5\n",
              "Name: review_title, dtype: object"
            ]
          },
          "metadata": {
            "tags": []
          },
          "execution_count": 46
        }
      ]
    },
    {
      "cell_type": "code",
      "metadata": {
        "id": "CuB2e6PGJP7d"
      },
      "source": [
        "#Creo un pipeline\n",
        "clf = Pipeline([('tfidf', tfidf), ('clf', classifier)])"
      ],
      "execution_count": null,
      "outputs": []
    },
    {
      "cell_type": "code",
      "metadata": {
        "id": "Vg_ZmpbqJUDF",
        "colab": {
          "base_uri": "https://localhost:8080/"
        },
        "outputId": "f7954c82-4642-4176-e17f-2f9fd3527f16"
      },
      "source": [
        "#Entreno el clasificador\n",
        "clf.fit(X_train, y_train)"
      ],
      "execution_count": null,
      "outputs": [
        {
          "output_type": "execute_result",
          "data": {
            "text/plain": [
              "Pipeline(memory=None,\n",
              "         steps=[('tfidf',\n",
              "                 TfidfVectorizer(analyzer='word', binary=False,\n",
              "                                 decode_error='strict',\n",
              "                                 dtype=<class 'numpy.float64'>,\n",
              "                                 encoding='utf-8', input='content',\n",
              "                                 lowercase=True, max_df=1.0, max_features=None,\n",
              "                                 min_df=1, ngram_range=(1, 1), norm='l2',\n",
              "                                 preprocessor=None, smooth_idf=True,\n",
              "                                 stop_words=None, strip_accents=None,\n",
              "                                 sublinear_tf=False,\n",
              "                                 token_pattern='(?u)\\\\b\\\\w\\\\w+\\\\b',\n",
              "                                 tokenizer=<function text_data_cleaning at 0x7faa901c2f28>,\n",
              "                                 use_idf=True, vocabulary=None)),\n",
              "                ('clf',\n",
              "                 LinearSVC(C=1.0, class_weight=None, dual=True,\n",
              "                           fit_intercept=True, intercept_scaling=1,\n",
              "                           loss='squared_hinge', max_iter=1000,\n",
              "                           multi_class='ovr', penalty='l2', random_state=None,\n",
              "                           tol=0.0001, verbose=0))],\n",
              "         verbose=False)"
            ]
          },
          "metadata": {
            "tags": []
          },
          "execution_count": 48
        }
      ]
    },
    {
      "cell_type": "code",
      "metadata": {
        "id": "OE-ozD3DJkkP"
      },
      "source": [
        "#Valores predichos a partir del clasificador\n",
        "y_pred = clf.predict(X_test)"
      ],
      "execution_count": null,
      "outputs": []
    },
    {
      "cell_type": "code",
      "metadata": {
        "id": "tz-Jdmr-JylZ",
        "colab": {
          "base_uri": "https://localhost:8080/"
        },
        "outputId": "ff30433d-9386-468b-b6a3-6c5d9590536d"
      },
      "source": [
        "#Precisión obtenida\n",
        "print(classification_report(y_test, y_pred))"
      ],
      "execution_count": null,
      "outputs": [
        {
          "output_type": "stream",
          "text": [
            "              precision    recall  f1-score   support\n",
            "\n",
            "           1       0.53      0.57      0.55     12311\n",
            "           2       0.36      0.32      0.34     12204\n",
            "           3       0.35      0.26      0.30     12161\n",
            "           4       0.34      0.42      0.37     12385\n",
            "           5       0.47      0.50      0.49     12439\n",
            "\n",
            "    accuracy                           0.41     61500\n",
            "   macro avg       0.41      0.41      0.41     61500\n",
            "weighted avg       0.41      0.41      0.41     61500\n",
            "\n"
          ],
          "name": "stdout"
        }
      ]
    },
    {
      "cell_type": "code",
      "metadata": {
        "id": "1yajDeaPJ1iA",
        "colab": {
          "base_uri": "https://localhost:8080/"
        },
        "outputId": "df2b9bea-57c9-4844-e6d0-0bcbd9882416"
      },
      "source": [
        "#Creo la matriz de confusión\n",
        "confusion_matrix(y_test, y_pred)"
      ],
      "execution_count": null,
      "outputs": [
        {
          "output_type": "execute_result",
          "data": {
            "text/plain": [
              "array([[6992, 2387,  976, 1207,  749],\n",
              "       [3164, 3876, 2438, 1726, 1000],\n",
              "       [1466, 2611, 3136, 3483, 1465],\n",
              "       [ 853, 1152, 1487, 5237, 3656],\n",
              "       [ 664,  862,  811, 3911, 6191]])"
            ]
          },
          "metadata": {
            "tags": []
          },
          "execution_count": 51
        }
      ]
    },
    {
      "cell_type": "code",
      "metadata": {
        "id": "byTFWhBpJ6AR",
        "colab": {
          "base_uri": "https://localhost:8080/"
        },
        "outputId": "fd2ca388-70a4-42c7-f271-75307a6c8d8b"
      },
      "source": [
        "#Predicción: algunas frases de prueba [ej.1]\n",
        "clf.predict(['Realmente me gustó mucho'])"
      ],
      "execution_count": null,
      "outputs": [
        {
          "output_type": "execute_result",
          "data": {
            "text/plain": [
              "array([2])"
            ]
          },
          "metadata": {
            "tags": []
          },
          "execution_count": 52
        }
      ]
    },
    {
      "cell_type": "code",
      "metadata": {
        "id": "mumarBg4KGW1",
        "colab": {
          "base_uri": "https://localhost:8080/"
        },
        "outputId": "962b7c91-66bd-453f-ea66-0e7587542368"
      },
      "source": [
        "#Predicción: algunas frases de prueba [ej.2]\n",
        "clf.predict(['Horrible, no me gustó'])"
      ],
      "execution_count": null,
      "outputs": [
        {
          "output_type": "execute_result",
          "data": {
            "text/plain": [
              "array([1])"
            ]
          },
          "metadata": {
            "tags": []
          },
          "execution_count": 53
        }
      ]
    },
    {
      "cell_type": "code",
      "metadata": {
        "id": "rioDDBfmKMF4",
        "colab": {
          "base_uri": "https://localhost:8080/"
        },
        "outputId": "5177c3b2-2e8a-4cc7-e6cc-889e7cb153fb"
      },
      "source": [
        "#Predicción: algunas frases de prueba [ej.3]\n",
        "clf.predict(['Llegó bien'])"
      ],
      "execution_count": null,
      "outputs": [
        {
          "output_type": "execute_result",
          "data": {
            "text/plain": [
              "array([1])"
            ]
          },
          "metadata": {
            "tags": []
          },
          "execution_count": 54
        }
      ]
    },
    {
      "cell_type": "code",
      "metadata": {
        "id": "ZA1L-tIOKS-z",
        "colab": {
          "base_uri": "https://localhost:8080/"
        },
        "outputId": "bfabc102-f937-4daa-be57-ab8e38fb75bf"
      },
      "source": [
        "#Predicción: algunas frases de prueba [ej.4]\n",
        "clf.predict(['Es lo que esperaba, pero no llegó a tiempo'])"
      ],
      "execution_count": null,
      "outputs": [
        {
          "output_type": "execute_result",
          "data": {
            "text/plain": [
              "array([1])"
            ]
          },
          "metadata": {
            "tags": []
          },
          "execution_count": 55
        }
      ]
    },
    {
      "cell_type": "code",
      "metadata": {
        "id": "UnUGA8aOKai6",
        "colab": {
          "base_uri": "https://localhost:8080/"
        },
        "outputId": "4b43940a-318b-42af-e0a6-e6dabc027236"
      },
      "source": [
        "#Predicción: algunas frases de prueba [ej.5]\n",
        "clf.predict(['Esperaba mayor calidad'])"
      ],
      "execution_count": null,
      "outputs": [
        {
          "output_type": "execute_result",
          "data": {
            "text/plain": [
              "array([2])"
            ]
          },
          "metadata": {
            "tags": []
          },
          "execution_count": 56
        }
      ]
    },
    {
      "cell_type": "markdown",
      "metadata": {
        "id": "fmkXZOnSGlD9"
      },
      "source": [
        "Se obtuvo en el modelo de Benchmark un accuracy de 0,41. Puede comprobarse el bajo desempeño del modelo en la predicción de la frase 1 (\"Realmente me gustó mucho\"), la cual fue puntuada con 2 estrellas, cuando a priori pareciera merecer 4 o 5."
      ]
    },
    {
      "cell_type": "markdown",
      "metadata": {
        "id": "fE-64nPy-RnT"
      },
      "source": [
        "*Modelo* "
      ]
    },
    {
      "cell_type": "code",
      "metadata": {
        "id": "m64vqMpn-Y2F"
      },
      "source": [
        "#Creo los vectores de datos\n",
        "X = dataset['review_body']\n",
        "y = dataset['stars']"
      ],
      "execution_count": null,
      "outputs": []
    },
    {
      "cell_type": "code",
      "metadata": {
        "id": "ibnFEQ8M-ZDE",
        "colab": {
          "base_uri": "https://localhost:8080/"
        },
        "outputId": "9220e87e-4070-441f-a6d3-e264b512cf5b"
      },
      "source": [
        "#Creo el vector de entrenamiento como una porción de los datos y dejo el resto para pruebas #test 0.3, train= 0.7\n",
        "X_train, X_test, y_train, y_test = train_test_split(X, y, test_size=0.3, random_state=42)\n",
        "X_train.shape, X_test.shape, y_train.shape, y_test.shape"
      ],
      "execution_count": null,
      "outputs": [
        {
          "output_type": "execute_result",
          "data": {
            "text/plain": [
              "((143500,), (61500,), (143500,), (61500,))"
            ]
          },
          "metadata": {
            "tags": []
          },
          "execution_count": 58
        }
      ]
    },
    {
      "cell_type": "code",
      "metadata": {
        "id": "YQmBuzRR-ZF4",
        "colab": {
          "base_uri": "https://localhost:8080/"
        },
        "outputId": "d13e7908-ce34-4b93-bb63-5ff9fa502f13"
      },
      "source": [
        "X_train.head()"
      ],
      "execution_count": null,
      "outputs": [
        {
          "output_type": "execute_result",
          "data": {
            "text/plain": [
              "196144    Buen cable, parece resistente y no se enreda f...\n",
              "60473                         Se le rompió esa misma tarde.\n",
              "76076     al de 10 o 12 dias se despego y tuve que compr...\n",
              "170434                          Perfecto y de buena calidad\n",
              "26744     Este producto indica q es dina a4 pero no es a...\n",
              "Name: review_body, dtype: object"
            ]
          },
          "metadata": {
            "tags": []
          },
          "execution_count": 59
        }
      ]
    },
    {
      "cell_type": "code",
      "metadata": {
        "id": "UqaRhX5l-tUa"
      },
      "source": [
        "#Creo un pipeline\n",
        "clf = Pipeline([('tfidf', tfidf), ('clf', classifier)])"
      ],
      "execution_count": null,
      "outputs": []
    },
    {
      "cell_type": "code",
      "metadata": {
        "id": "fF6GQD6r-wux",
        "colab": {
          "base_uri": "https://localhost:8080/"
        },
        "outputId": "d796dbae-aeaa-4ace-c5ad-d4828c4e352b"
      },
      "source": [
        "#Entreno el clasificador\n",
        "clf.fit(X_train, y_train)"
      ],
      "execution_count": null,
      "outputs": [
        {
          "output_type": "execute_result",
          "data": {
            "text/plain": [
              "Pipeline(memory=None,\n",
              "         steps=[('tfidf',\n",
              "                 TfidfVectorizer(analyzer='word', binary=False,\n",
              "                                 decode_error='strict',\n",
              "                                 dtype=<class 'numpy.float64'>,\n",
              "                                 encoding='utf-8', input='content',\n",
              "                                 lowercase=True, max_df=1.0, max_features=None,\n",
              "                                 min_df=1, ngram_range=(1, 1), norm='l2',\n",
              "                                 preprocessor=None, smooth_idf=True,\n",
              "                                 stop_words=None, strip_accents=None,\n",
              "                                 sublinear_tf=False,\n",
              "                                 token_pattern='(?u)\\\\b\\\\w\\\\w+\\\\b',\n",
              "                                 tokenizer=<function text_data_cleaning at 0x7faa901c2f28>,\n",
              "                                 use_idf=True, vocabulary=None)),\n",
              "                ('clf',\n",
              "                 LinearSVC(C=1.0, class_weight=None, dual=True,\n",
              "                           fit_intercept=True, intercept_scaling=1,\n",
              "                           loss='squared_hinge', max_iter=1000,\n",
              "                           multi_class='ovr', penalty='l2', random_state=None,\n",
              "                           tol=0.0001, verbose=0))],\n",
              "         verbose=False)"
            ]
          },
          "metadata": {
            "tags": []
          },
          "execution_count": 61
        }
      ]
    },
    {
      "cell_type": "code",
      "metadata": {
        "id": "NidbBxGf-w5D"
      },
      "source": [
        "#Valores predichos a partir del clasificador\n",
        "y_pred = clf.predict(X_test)\n"
      ],
      "execution_count": null,
      "outputs": []
    },
    {
      "cell_type": "code",
      "metadata": {
        "id": "0VqkKRcIEH5_",
        "colab": {
          "base_uri": "https://localhost:8080/"
        },
        "outputId": "0561146b-6519-42e7-939c-9c230cbf8d34"
      },
      "source": [
        "#Precisión obtenida\n",
        "print(classification_report(y_test, y_pred))"
      ],
      "execution_count": null,
      "outputs": [
        {
          "output_type": "stream",
          "text": [
            "              precision    recall  f1-score   support\n",
            "\n",
            "           1       0.56      0.65      0.60     12311\n",
            "           2       0.36      0.32      0.34     12204\n",
            "           3       0.33      0.30      0.31     12161\n",
            "           4       0.37      0.31      0.34     12385\n",
            "           5       0.52      0.62      0.57     12439\n",
            "\n",
            "    accuracy                           0.44     61500\n",
            "   macro avg       0.43      0.44      0.43     61500\n",
            "weighted avg       0.43      0.44      0.43     61500\n",
            "\n"
          ],
          "name": "stdout"
        }
      ]
    },
    {
      "cell_type": "code",
      "metadata": {
        "id": "DFmb4fsl-xJV",
        "colab": {
          "base_uri": "https://localhost:8080/"
        },
        "outputId": "c9a59b95-9202-45b7-f07a-860d2669b15f"
      },
      "source": [
        "#Creo la matriz de confusión\n",
        "confusion_matrix(y_test, y_pred)"
      ],
      "execution_count": null,
      "outputs": [
        {
          "output_type": "execute_result",
          "data": {
            "text/plain": [
              "array([[8008, 2293, 1083,  510,  417],\n",
              "       [3409, 3930, 2778, 1203,  884],\n",
              "       [1726, 2823, 3637, 2384, 1591],\n",
              "       [ 727, 1298, 2315, 3842, 4203],\n",
              "       [ 528,  634, 1137, 2380, 7760]])"
            ]
          },
          "metadata": {
            "tags": []
          },
          "execution_count": 64
        }
      ]
    },
    {
      "cell_type": "code",
      "metadata": {
        "id": "lck1W5g4-9LD",
        "colab": {
          "base_uri": "https://localhost:8080/"
        },
        "outputId": "b035c8f8-3648-4e5c-e31b-fb050e95d9dc"
      },
      "source": [
        "#Predicción: algunas frases de prueba [ej.1]\n",
        "clf.predict(['Realmente me gustó mucho'])"
      ],
      "execution_count": null,
      "outputs": [
        {
          "output_type": "execute_result",
          "data": {
            "text/plain": [
              "array([5])"
            ]
          },
          "metadata": {
            "tags": []
          },
          "execution_count": 65
        }
      ]
    },
    {
      "cell_type": "code",
      "metadata": {
        "id": "dAMm6vmR--Az",
        "colab": {
          "base_uri": "https://localhost:8080/"
        },
        "outputId": "e0d647b3-c67b-4367-eaf4-02f8d95cf0c9"
      },
      "source": [
        "#Predicción: algunas frases de prueba [ej.2]\n",
        "clf.predict(['Horrible, no me gustó'])"
      ],
      "execution_count": null,
      "outputs": [
        {
          "output_type": "execute_result",
          "data": {
            "text/plain": [
              "array([1])"
            ]
          },
          "metadata": {
            "tags": []
          },
          "execution_count": 66
        }
      ]
    },
    {
      "cell_type": "code",
      "metadata": {
        "id": "l2q01NyC--Wn",
        "colab": {
          "base_uri": "https://localhost:8080/"
        },
        "outputId": "c1f2200f-28ed-41b0-8f7c-d15d129582f9"
      },
      "source": [
        "#Predicción: algunas frases de prueba [ej.3]\n",
        "clf.predict(['Llegó bien'])"
      ],
      "execution_count": null,
      "outputs": [
        {
          "output_type": "execute_result",
          "data": {
            "text/plain": [
              "array([1])"
            ]
          },
          "metadata": {
            "tags": []
          },
          "execution_count": 67
        }
      ]
    },
    {
      "cell_type": "code",
      "metadata": {
        "id": "6YGywNTp--el",
        "colab": {
          "base_uri": "https://localhost:8080/"
        },
        "outputId": "b6733339-69ec-4b3e-eecc-09b2156aea64"
      },
      "source": [
        "#Predicción: algunas frases de prueba [ej.4]\n",
        "clf.predict(['Es lo que esperaba, pero no llegó a tiempo'])"
      ],
      "execution_count": null,
      "outputs": [
        {
          "output_type": "execute_result",
          "data": {
            "text/plain": [
              "array([1])"
            ]
          },
          "metadata": {
            "tags": []
          },
          "execution_count": 68
        }
      ]
    },
    {
      "cell_type": "code",
      "metadata": {
        "id": "e58mNpYi--lz",
        "colab": {
          "base_uri": "https://localhost:8080/"
        },
        "outputId": "59ab8d30-3865-4ae1-fd15-a7e7497ac432"
      },
      "source": [
        "#Predicción: algunas frases de prueba [ej.5]\n",
        "clf.predict(['Esperaba mayor calidad'])"
      ],
      "execution_count": null,
      "outputs": [
        {
          "output_type": "execute_result",
          "data": {
            "text/plain": [
              "array([5])"
            ]
          },
          "metadata": {
            "tags": []
          },
          "execution_count": 69
        }
      ]
    },
    {
      "cell_type": "markdown",
      "metadata": {
        "id": "p57RplSgHMO9"
      },
      "source": [
        "Se obtuvo en el modelo final un accuracy de 0,44 . Comparando con el modelo benchmark se observa una mejora, por ejemplo en la frase 1 que obtuvo 2 estrellas, ahora fue clasificada con 5."
      ]
    },
    {
      "cell_type": "markdown",
      "metadata": {
        "id": "aPXAKqko-WOi"
      },
      "source": [
        "*MODELO en Dataset Development*\n",
        "\n",
        "Para validar el funcionamiento del modelo, aplicaré el mismo en el dataset de validación.\n"
      ]
    },
    {
      "cell_type": "code",
      "metadata": {
        "id": "D-gKJFGCv39z"
      },
      "source": [
        "#Creo los vectores de datos\n",
        "X = dataset_dep['review_body']\n",
        "y = dataset_dep['stars']"
      ],
      "execution_count": null,
      "outputs": []
    },
    {
      "cell_type": "code",
      "metadata": {
        "id": "91aFs4zUwHKz",
        "colab": {
          "base_uri": "https://localhost:8080/"
        },
        "outputId": "5abac68c-a419-48e3-f46e-cb33d6fe0d40"
      },
      "source": [
        "#Creo el vector de entrenamiento como una porción de los datos y dejo el resto para pruebas #test 0.3, train= 0.7\n",
        "X_train, X_test, y_train, y_test = train_test_split(X, y, test_size=0.3, random_state=42)\n",
        "X_train.shape, X_test.shape, y_train.shape, y_test.shape"
      ],
      "execution_count": null,
      "outputs": [
        {
          "output_type": "execute_result",
          "data": {
            "text/plain": [
              "((3500,), (1500,), (3500,), (1500,))"
            ]
          },
          "metadata": {
            "tags": []
          },
          "execution_count": 71
        }
      ]
    },
    {
      "cell_type": "code",
      "metadata": {
        "id": "tMEtQIcmwHtb",
        "colab": {
          "base_uri": "https://localhost:8080/"
        },
        "outputId": "45d56f2a-e5b4-4eef-b554-351150c6fe83"
      },
      "source": [
        "X_train.head()"
      ],
      "execution_count": null,
      "outputs": [
        {
          "output_type": "execute_result",
          "data": {
            "text/plain": [
              "1840    Falta cristal para tapar toda la pantalla, que...\n",
              "2115    La distancia entre el tubo superior y el infer...\n",
              "4437    Ligero, la señal de GPS es muy rápida, prestac...\n",
              "1146    Producto caro, es correcto pero con el precio ...\n",
              "2486          Esta bien, no sirve para Citroën y Peugeot.\n",
              "Name: review_body, dtype: object"
            ]
          },
          "metadata": {
            "tags": []
          },
          "execution_count": 72
        }
      ]
    },
    {
      "cell_type": "code",
      "metadata": {
        "id": "A9FTYj5hwKXr"
      },
      "source": [
        "#Creo un pipeline\n",
        "clf = Pipeline([('tfidf', tfidf), ('clf', classifier)])"
      ],
      "execution_count": null,
      "outputs": []
    },
    {
      "cell_type": "code",
      "metadata": {
        "id": "t1J8xvchwPvv",
        "colab": {
          "base_uri": "https://localhost:8080/"
        },
        "outputId": "b4f6c5d3-488b-4391-e976-fe6e944ca626"
      },
      "source": [
        "#Entreno el clasificador\n",
        "clf.fit(X_train, y_train)"
      ],
      "execution_count": null,
      "outputs": [
        {
          "output_type": "execute_result",
          "data": {
            "text/plain": [
              "Pipeline(memory=None,\n",
              "         steps=[('tfidf',\n",
              "                 TfidfVectorizer(analyzer='word', binary=False,\n",
              "                                 decode_error='strict',\n",
              "                                 dtype=<class 'numpy.float64'>,\n",
              "                                 encoding='utf-8', input='content',\n",
              "                                 lowercase=True, max_df=1.0, max_features=None,\n",
              "                                 min_df=1, ngram_range=(1, 1), norm='l2',\n",
              "                                 preprocessor=None, smooth_idf=True,\n",
              "                                 stop_words=None, strip_accents=None,\n",
              "                                 sublinear_tf=False,\n",
              "                                 token_pattern='(?u)\\\\b\\\\w\\\\w+\\\\b',\n",
              "                                 tokenizer=<function text_data_cleaning at 0x7faa901c2f28>,\n",
              "                                 use_idf=True, vocabulary=None)),\n",
              "                ('clf',\n",
              "                 LinearSVC(C=1.0, class_weight=None, dual=True,\n",
              "                           fit_intercept=True, intercept_scaling=1,\n",
              "                           loss='squared_hinge', max_iter=1000,\n",
              "                           multi_class='ovr', penalty='l2', random_state=None,\n",
              "                           tol=0.0001, verbose=0))],\n",
              "         verbose=False)"
            ]
          },
          "metadata": {
            "tags": []
          },
          "execution_count": 74
        }
      ]
    },
    {
      "cell_type": "code",
      "metadata": {
        "id": "14byA2oywTNE"
      },
      "source": [
        "#Valores predichos a partir del clasificador\n",
        "y_pred = clf.predict(X_test)"
      ],
      "execution_count": null,
      "outputs": []
    },
    {
      "cell_type": "code",
      "metadata": {
        "id": "mTfjsjJWwUno",
        "colab": {
          "base_uri": "https://localhost:8080/"
        },
        "outputId": "cd232343-b508-49b0-cd5b-60bbae3e07cb"
      },
      "source": [
        "#Precisión obtenida\n",
        "print(classification_report(y_test, y_pred))"
      ],
      "execution_count": null,
      "outputs": [
        {
          "output_type": "stream",
          "text": [
            "              precision    recall  f1-score   support\n",
            "\n",
            "           1       0.49      0.53      0.51       316\n",
            "           2       0.29      0.27      0.28       309\n",
            "           3       0.31      0.32      0.31       284\n",
            "           4       0.32      0.29      0.30       301\n",
            "           5       0.45      0.48      0.47       290\n",
            "\n",
            "    accuracy                           0.38      1500\n",
            "   macro avg       0.37      0.38      0.38      1500\n",
            "weighted avg       0.37      0.38      0.38      1500\n",
            "\n"
          ],
          "name": "stdout"
        }
      ]
    },
    {
      "cell_type": "code",
      "metadata": {
        "id": "6B4DuGxXwXSc",
        "colab": {
          "base_uri": "https://localhost:8080/"
        },
        "outputId": "db894aa3-4791-4e3d-a2a2-ad7e26785e31"
      },
      "source": [
        "#Creo la matriz de confusión\n",
        "confusion_matrix(y_test, y_pred)"
      ],
      "execution_count": null,
      "outputs": [
        {
          "output_type": "execute_result",
          "data": {
            "text/plain": [
              "array([[168,  78,  43,  17,  10],\n",
              "       [ 89,  84,  61,  48,  27],\n",
              "       [ 41,  58,  90,  53,  42],\n",
              "       [ 25,  41,  56,  87,  92],\n",
              "       [ 17,  28,  40,  65, 140]])"
            ]
          },
          "metadata": {
            "tags": []
          },
          "execution_count": 77
        }
      ]
    },
    {
      "cell_type": "code",
      "metadata": {
        "id": "yE8-2aE6wcHL",
        "colab": {
          "base_uri": "https://localhost:8080/"
        },
        "outputId": "7b24ec70-84f9-467f-a594-6dee0579a313"
      },
      "source": [
        "#Predicción: algunas frases de prueba [ej.1]\n",
        "clf.predict(['Realmente me gustó mucho'])"
      ],
      "execution_count": null,
      "outputs": [
        {
          "output_type": "execute_result",
          "data": {
            "text/plain": [
              "array([3])"
            ]
          },
          "metadata": {
            "tags": []
          },
          "execution_count": 78
        }
      ]
    },
    {
      "cell_type": "code",
      "metadata": {
        "id": "7y-b6H_7weV7",
        "colab": {
          "base_uri": "https://localhost:8080/"
        },
        "outputId": "99209ada-a4e5-4479-b1f0-357400d51d2b"
      },
      "source": [
        "#Predicción: algunas frases de prueba [ej.2]\n",
        "clf.predict(['Horrible, no me gustó'])"
      ],
      "execution_count": null,
      "outputs": [
        {
          "output_type": "execute_result",
          "data": {
            "text/plain": [
              "array([1])"
            ]
          },
          "metadata": {
            "tags": []
          },
          "execution_count": 79
        }
      ]
    },
    {
      "cell_type": "code",
      "metadata": {
        "id": "sbe_LeiCwgXx",
        "colab": {
          "base_uri": "https://localhost:8080/"
        },
        "outputId": "26206582-1f1c-4c10-f4fc-c8d3bc43dfdb"
      },
      "source": [
        "#Predicción: algunas frases de prueba [ej.3]\n",
        "clf.predict(['Llegó bien'])"
      ],
      "execution_count": null,
      "outputs": [
        {
          "output_type": "execute_result",
          "data": {
            "text/plain": [
              "array([1])"
            ]
          },
          "metadata": {
            "tags": []
          },
          "execution_count": 80
        }
      ]
    },
    {
      "cell_type": "code",
      "metadata": {
        "id": "ZgcWGC8Xwg-7",
        "colab": {
          "base_uri": "https://localhost:8080/"
        },
        "outputId": "d66d6da0-2f10-42c9-8ff4-436f0625468d"
      },
      "source": [
        "#Predicción: algunas frases de prueba [ej.4]\n",
        "clf.predict(['Es lo que esperaba, pero no llegó a tiempo'])"
      ],
      "execution_count": null,
      "outputs": [
        {
          "output_type": "execute_result",
          "data": {
            "text/plain": [
              "array([1])"
            ]
          },
          "metadata": {
            "tags": []
          },
          "execution_count": 81
        }
      ]
    },
    {
      "cell_type": "code",
      "metadata": {
        "id": "6Qn1_TQlwksz",
        "colab": {
          "base_uri": "https://localhost:8080/"
        },
        "outputId": "5e1de4c6-1f5a-4007-931c-79ca2edc8790"
      },
      "source": [
        "#Predicción: algunas frases de prueba [ej.5]\n",
        "clf.predict(['Esperaba mayor calidad'])"
      ],
      "execution_count": null,
      "outputs": [
        {
          "output_type": "execute_result",
          "data": {
            "text/plain": [
              "array([3])"
            ]
          },
          "metadata": {
            "tags": []
          },
          "execution_count": 82
        }
      ]
    },
    {
      "cell_type": "markdown",
      "metadata": {
        "id": "MCZQyQxd9Qmy"
      },
      "source": [
        "El accuracy obtenido del modelo aplicado al dataset de validación es también muy bajo (0,38), tal como lo esperaba."
      ]
    },
    {
      "cell_type": "markdown",
      "metadata": {
        "id": "oG7Zekkt7KyD"
      },
      "source": [
        "# PARTE B - Con Modificaciones"
      ]
    },
    {
      "cell_type": "markdown",
      "metadata": {
        "id": "C31PyyXNqSCU"
      },
      "source": [
        "**MODELO** -  *en DATASET*\r\n",
        "\r\n",
        "**Benchmark**: utilizo como feature REVIEW TITTLE (Título de Reseña)\r\n",
        "\r\n",
        "**Modelo**: utilizo como feature REVIEW BODY (Cuerpo de Reseña)"
      ]
    },
    {
      "cell_type": "code",
      "metadata": {
        "id": "khAWYFm_7YUd"
      },
      "source": [
        "#Importo librerias \r\n",
        "import pandas as pd\r\n",
        "import numpy as np\r\n",
        "import nltk\r\n",
        "from sklearn.feature_extraction.text import CountVectorizer\r\n",
        "from sklearn.feature_extraction.text import TfidfVectorizer\r\n",
        "from sklearn.model_selection import train_test_split\r\n",
        "from sklearn.naive_bayes import MultinomialNB\r\n",
        "from nltk.corpus import stopwords"
      ],
      "execution_count": 54,
      "outputs": []
    },
    {
      "cell_type": "code",
      "metadata": {
        "colab": {
          "base_uri": "https://localhost:8080/"
        },
        "id": "-s1wCyPR7Zah",
        "outputId": "d396364e-6f39-44d4-c0a2-de32138b73e8"
      },
      "source": [
        "#Descargo stopwords \r\n",
        "\r\n",
        "nltk.download('stopwords')\r\n",
        "stop_words = stopwords.words(\"spanish\")"
      ],
      "execution_count": 55,
      "outputs": [
        {
          "output_type": "stream",
          "text": [
            "[nltk_data] Downloading package stopwords to /root/nltk_data...\n",
            "[nltk_data]   Package stopwords is already up-to-date!\n"
          ],
          "name": "stdout"
        }
      ]
    },
    {
      "cell_type": "code",
      "metadata": {
        "colab": {
          "base_uri": "https://localhost:8080/"
        },
        "id": "-OA8OjdEoXUQ",
        "outputId": "0fd0f247-94da-4c9f-9ce5-ef288c63b49a"
      },
      "source": [
        "#Cantidad de stopwords: 313\r\n",
        "len(stop_words)"
      ],
      "execution_count": 56,
      "outputs": [
        {
          "output_type": "execute_result",
          "data": {
            "text/plain": [
              "313"
            ]
          },
          "metadata": {
            "tags": []
          },
          "execution_count": 56
        }
      ]
    },
    {
      "cell_type": "markdown",
      "metadata": {
        "id": "H2RfHKvEqvUh"
      },
      "source": [
        "*BENCHMARK*"
      ]
    },
    {
      "cell_type": "code",
      "metadata": {
        "id": "S4gNaNhZq3Fa"
      },
      "source": [
        "X = dataset['review_title']\r\n",
        "y = dataset['stars']"
      ],
      "execution_count": 58,
      "outputs": []
    },
    {
      "cell_type": "code",
      "metadata": {
        "colab": {
          "base_uri": "https://localhost:8080/"
        },
        "id": "VaoJgaSJq8Ft",
        "outputId": "4f54c801-e2d6-416f-a96d-b063df84798b"
      },
      "source": [
        "#Creo el vector de entrenamiento como una porción de los datos y dejo el resto para pruebas #test 0.3, train= 0.7\r\n",
        "X_train, X_test, y_train, y_test = train_test_split(X, y, test_size=0.3, random_state=42)\r\n",
        "X_train.shape, X_test.shape, y_train.shape, y_test.shape"
      ],
      "execution_count": 59,
      "outputs": [
        {
          "output_type": "execute_result",
          "data": {
            "text/plain": [
              "((143500,), (61500,), (143500,), (61500,))"
            ]
          },
          "metadata": {
            "tags": []
          },
          "execution_count": 59
        }
      ]
    },
    {
      "cell_type": "code",
      "metadata": {
        "id": "S9Sz0MafrAib"
      },
      "source": [
        "#Modelo CountVectorizer\r\n",
        "cv = CountVectorizer()"
      ],
      "execution_count": 60,
      "outputs": []
    },
    {
      "cell_type": "code",
      "metadata": {
        "colab": {
          "base_uri": "https://localhost:8080/"
        },
        "id": "YPREuJcZrB_s",
        "outputId": "893ed3fc-729b-4ea9-eae7-865304a33a55"
      },
      "source": [
        "x_traincv=cv.fit_transform(X_train)\r\n",
        "x_traincv"
      ],
      "execution_count": 61,
      "outputs": [
        {
          "output_type": "execute_result",
          "data": {
            "text/plain": [
              "<143500x20335 sparse matrix of type '<class 'numpy.int64'>'\n",
              "\twith 454132 stored elements in Compressed Sparse Row format>"
            ]
          },
          "metadata": {
            "tags": []
          },
          "execution_count": 61
        }
      ]
    },
    {
      "cell_type": "code",
      "metadata": {
        "id": "AHS5DxAzrDzU"
      },
      "source": [
        "#Clasificador a utilizar: \"Multinomial Naive Bayes Classifier\" con Count Vectorizer\r\n",
        "# Entreno el modelo\r\n",
        "mnb_trained = MultinomialNB().fit(x_traincv, y_train)"
      ],
      "execution_count": 62,
      "outputs": []
    },
    {
      "cell_type": "code",
      "metadata": {
        "id": "qAc3DBdKrFu3"
      },
      "source": [
        "x_testcv = cv.transform(X_test)"
      ],
      "execution_count": 63,
      "outputs": []
    },
    {
      "cell_type": "code",
      "metadata": {
        "colab": {
          "base_uri": "https://localhost:8080/"
        },
        "id": "Xs6bjj2VrJbN",
        "outputId": "2024bc3c-46c3-44d7-b61c-ff0784769da6"
      },
      "source": [
        "#Predicciones\r\n",
        "pred = mnb_trained.predict(x_testcv)\r\n",
        "pred"
      ],
      "execution_count": 64,
      "outputs": [
        {
          "output_type": "execute_result",
          "data": {
            "text/plain": [
              "array([3, 2, 1, ..., 5, 2, 5])"
            ]
          },
          "metadata": {
            "tags": []
          },
          "execution_count": 64
        }
      ]
    },
    {
      "cell_type": "code",
      "metadata": {
        "colab": {
          "base_uri": "https://localhost:8080/"
        },
        "id": "JyfVOEE9rLZM",
        "outputId": "0854b8bb-a998-4914-9e53-84fe5b0d9459"
      },
      "source": [
        "#Clasificaciones Originales\r\n",
        "actual=np.array(y_test)\r\n",
        "actual"
      ],
      "execution_count": 65,
      "outputs": [
        {
          "output_type": "execute_result",
          "data": {
            "text/plain": [
              "array([2, 2, 1, ..., 4, 4, 5])"
            ]
          },
          "metadata": {
            "tags": []
          },
          "execution_count": 65
        }
      ]
    },
    {
      "cell_type": "code",
      "metadata": {
        "id": "tCvFqtuZrOBn"
      },
      "source": [
        "# Código para ver resultados de forma tabular\r\n",
        "messg = []\r\n",
        "for msg in X_test:\r\n",
        "    messg.append(msg)\r\n",
        "predictions = []\r\n",
        "for x in pred:\r\n",
        "    predictions.append(x)\r\n",
        "original = []\r\n",
        "for i in y_test:\r\n",
        "    original.append(i)"
      ],
      "execution_count": 66,
      "outputs": []
    },
    {
      "cell_type": "code",
      "metadata": {
        "colab": {
          "base_uri": "https://localhost:8080/",
          "height": 402
        },
        "id": "4nvJaftFrOrs",
        "outputId": "1ed5b791-e31a-4a5a-9a24-9cf60429f7db"
      },
      "source": [
        "# En el siguiente cuadro se observa la REVIEW y la CLASIFICACION ORIGINAL y PREDICHA\r\n",
        "dataf = pd.DataFrame({'STARS_ORIGINALES' : original,\r\n",
        "                      'STARS_PREDICCIONES' : predictions,\r\n",
        "                     'TEXT' : messg})\r\n",
        "dataf"
      ],
      "execution_count": 67,
      "outputs": [
        {
          "output_type": "execute_result",
          "data": {
            "text/html": [
              "<div>\n",
              "<style scoped>\n",
              "    .dataframe tbody tr th:only-of-type {\n",
              "        vertical-align: middle;\n",
              "    }\n",
              "\n",
              "    .dataframe tbody tr th {\n",
              "        vertical-align: top;\n",
              "    }\n",
              "\n",
              "    .dataframe thead th {\n",
              "        text-align: right;\n",
              "    }\n",
              "</style>\n",
              "<table border=\"1\" class=\"dataframe\">\n",
              "  <thead>\n",
              "    <tr style=\"text-align: right;\">\n",
              "      <th></th>\n",
              "      <th>STARS_ORIGINALES</th>\n",
              "      <th>STARS_PREDICCIONES</th>\n",
              "      <th>TEXT</th>\n",
              "    </tr>\n",
              "  </thead>\n",
              "  <tbody>\n",
              "    <tr>\n",
              "      <th>0</th>\n",
              "      <td>2</td>\n",
              "      <td>3</td>\n",
              "      <td>Mezcla de quizás algodón con material sintético</td>\n",
              "    </tr>\n",
              "    <tr>\n",
              "      <th>1</th>\n",
              "      <td>2</td>\n",
              "      <td>2</td>\n",
              "      <td>Poca luz</td>\n",
              "    </tr>\n",
              "    <tr>\n",
              "      <th>2</th>\n",
              "      <td>1</td>\n",
              "      <td>1</td>\n",
              "      <td>Preguntais y aun no he recibido el pedido</td>\n",
              "    </tr>\n",
              "    <tr>\n",
              "      <th>3</th>\n",
              "      <td>3</td>\n",
              "      <td>2</td>\n",
              "      <td>Baterías de poca duración</td>\n",
              "    </tr>\n",
              "    <tr>\n",
              "      <th>4</th>\n",
              "      <td>4</td>\n",
              "      <td>1</td>\n",
              "      <td>El wifi no se activa</td>\n",
              "    </tr>\n",
              "    <tr>\n",
              "      <th>...</th>\n",
              "      <td>...</td>\n",
              "      <td>...</td>\n",
              "      <td>...</td>\n",
              "    </tr>\n",
              "    <tr>\n",
              "      <th>61495</th>\n",
              "      <td>3</td>\n",
              "      <td>3</td>\n",
              "      <td>No se puede pedir más por el precio que tienen</td>\n",
              "    </tr>\n",
              "    <tr>\n",
              "      <th>61496</th>\n",
              "      <td>4</td>\n",
              "      <td>4</td>\n",
              "      <td>Bien relscion precio</td>\n",
              "    </tr>\n",
              "    <tr>\n",
              "      <th>61497</th>\n",
              "      <td>4</td>\n",
              "      <td>5</td>\n",
              "      <td>Realmente silenciosa</td>\n",
              "    </tr>\n",
              "    <tr>\n",
              "      <th>61498</th>\n",
              "      <td>4</td>\n",
              "      <td>2</td>\n",
              "      <td>Muy prácticos cada una de las piezas.</td>\n",
              "    </tr>\n",
              "    <tr>\n",
              "      <th>61499</th>\n",
              "      <td>5</td>\n",
              "      <td>5</td>\n",
              "      <td>Perfecto</td>\n",
              "    </tr>\n",
              "  </tbody>\n",
              "</table>\n",
              "<p>61500 rows × 3 columns</p>\n",
              "</div>"
            ],
            "text/plain": [
              "       STARS_ORIGINALES  ...                                             TEXT\n",
              "0                     2  ...  Mezcla de quizás algodón con material sintético\n",
              "1                     2  ...                                         Poca luz\n",
              "2                     1  ...        Preguntais y aun no he recibido el pedido\n",
              "3                     3  ...                        Baterías de poca duración\n",
              "4                     4  ...                             El wifi no se activa\n",
              "...                 ...  ...                                              ...\n",
              "61495                 3  ...   No se puede pedir más por el precio que tienen\n",
              "61496                 4  ...                             Bien relscion precio\n",
              "61497                 4  ...                             Realmente silenciosa\n",
              "61498                 4  ...            Muy prácticos cada una de las piezas.\n",
              "61499                 5  ...                                         Perfecto\n",
              "\n",
              "[61500 rows x 3 columns]"
            ]
          },
          "metadata": {
            "tags": []
          },
          "execution_count": 67
        }
      ]
    },
    {
      "cell_type": "code",
      "metadata": {
        "colab": {
          "base_uri": "https://localhost:8080/"
        },
        "id": "niwi-gierQ0-",
        "outputId": "f44ddd5a-d1bd-47ed-b3b2-78c4afa24241"
      },
      "source": [
        "#ACCURACY\r\n",
        "count=0\r\n",
        "for i in range (len(pred)):\r\n",
        "    if pred[i]==actual[i]:\r\n",
        "        count=count+1\r\n",
        "print(\"Obtuve\",count,\"predicciones correctas de\",len(pred),\".\")\r\n",
        "print(\"Eso nos da un accuracy de \",(count/len(pred))*100)"
      ],
      "execution_count": 68,
      "outputs": [
        {
          "output_type": "stream",
          "text": [
            "Obtuve 28343 predicciones correctas de 61500 .\n",
            "Eso nos da un accuracy de  46.08617886178862\n"
          ],
          "name": "stdout"
        }
      ]
    },
    {
      "cell_type": "markdown",
      "metadata": {
        "id": "GnkvS_kuq97u"
      },
      "source": [
        "*MODELO*"
      ]
    },
    {
      "cell_type": "code",
      "metadata": {
        "id": "8GYa0UrQ7cyF"
      },
      "source": [
        "X = dataset['review_body']\r\n",
        "y = dataset['stars']"
      ],
      "execution_count": 69,
      "outputs": []
    },
    {
      "cell_type": "code",
      "metadata": {
        "colab": {
          "base_uri": "https://localhost:8080/"
        },
        "id": "m_QliOv28IRX",
        "outputId": "e6049804-f997-4229-cf3b-7688a7315cb5"
      },
      "source": [
        "#Creo el vector de entrenamiento como una porción de los datos y dejo el resto para pruebas #test 0.3, train= 0.7\r\n",
        "X_train, X_test, y_train, y_test = train_test_split(X, y, test_size=0.3, random_state=42)\r\n",
        "X_train.shape, X_test.shape, y_train.shape, y_test.shape"
      ],
      "execution_count": 70,
      "outputs": [
        {
          "output_type": "execute_result",
          "data": {
            "text/plain": [
              "((143500,), (61500,), (143500,), (61500,))"
            ]
          },
          "metadata": {
            "tags": []
          },
          "execution_count": 70
        }
      ]
    },
    {
      "cell_type": "code",
      "metadata": {
        "id": "GeDiJpd58J_4"
      },
      "source": [
        "#Modelo CountVectorizer\r\n",
        "cv = CountVectorizer()"
      ],
      "execution_count": 71,
      "outputs": []
    },
    {
      "cell_type": "code",
      "metadata": {
        "colab": {
          "base_uri": "https://localhost:8080/"
        },
        "id": "4pqctnOt8XIt",
        "outputId": "4c6e6860-5f46-407d-85fd-15c38e0a33b7"
      },
      "source": [
        "x_traincv=cv.fit_transform(X_train)\r\n",
        "x_traincv"
      ],
      "execution_count": 72,
      "outputs": [
        {
          "output_type": "execute_result",
          "data": {
            "text/plain": [
              "<143500x49753 sparse matrix of type '<class 'numpy.int64'>'\n",
              "\twith 3168881 stored elements in Compressed Sparse Row format>"
            ]
          },
          "metadata": {
            "tags": []
          },
          "execution_count": 72
        }
      ]
    },
    {
      "cell_type": "code",
      "metadata": {
        "id": "-TjsypvW911W"
      },
      "source": [
        "#Clasificador a utilizar: \"Multinomial Naive Bayes Classifier\" con Count Vectorizer\r\n",
        "# Entreno el modelo\r\n",
        "mnb_trained = MultinomialNB().fit(x_traincv, y_train)"
      ],
      "execution_count": 73,
      "outputs": []
    },
    {
      "cell_type": "code",
      "metadata": {
        "id": "DdFzir01-EB0"
      },
      "source": [
        "x_testcv = cv.transform(X_test)"
      ],
      "execution_count": 74,
      "outputs": []
    },
    {
      "cell_type": "code",
      "metadata": {
        "id": "69leibCR-Epe",
        "colab": {
          "base_uri": "https://localhost:8080/"
        },
        "outputId": "1d5e72d6-01aa-4014-f5da-fdcad9b55a1d"
      },
      "source": [
        "#Predicciones\r\n",
        "pred = mnb_trained.predict(x_testcv)\r\n",
        "pred"
      ],
      "execution_count": 75,
      "outputs": [
        {
          "output_type": "execute_result",
          "data": {
            "text/plain": [
              "array([3, 2, 1, ..., 4, 5, 5])"
            ]
          },
          "metadata": {
            "tags": []
          },
          "execution_count": 75
        }
      ]
    },
    {
      "cell_type": "code",
      "metadata": {
        "id": "jxT8VK5--GsC",
        "colab": {
          "base_uri": "https://localhost:8080/"
        },
        "outputId": "cac17f33-0ef2-46e3-8f01-f0a408e9bfe1"
      },
      "source": [
        "#Clasificaciones Originales\r\n",
        "actual=np.array(y_test)\r\n",
        "actual"
      ],
      "execution_count": 76,
      "outputs": [
        {
          "output_type": "execute_result",
          "data": {
            "text/plain": [
              "array([2, 2, 1, ..., 4, 4, 5])"
            ]
          },
          "metadata": {
            "tags": []
          },
          "execution_count": 76
        }
      ]
    },
    {
      "cell_type": "code",
      "metadata": {
        "id": "kpEB1XIU-Iil"
      },
      "source": [
        "# Código para ver resultados de forma tabular\r\n",
        "messg = []\r\n",
        "for msg in X_test:\r\n",
        "    messg.append(msg)\r\n",
        "predictions = []\r\n",
        "for x in pred:\r\n",
        "    predictions.append(x)\r\n",
        "original = []\r\n",
        "for i in y_test:\r\n",
        "    original.append(i)"
      ],
      "execution_count": 77,
      "outputs": []
    },
    {
      "cell_type": "code",
      "metadata": {
        "id": "ixB8IEMh-LsG",
        "colab": {
          "base_uri": "https://localhost:8080/",
          "height": 402
        },
        "outputId": "809f7c34-b836-4477-e4a2-8a8ff0343c4e"
      },
      "source": [
        "# En el siguiente cuadro se observa la REVIEW y la CLASIFICACION ORIGINAL y PREDICHA\r\n",
        "dataf = pd.DataFrame({'STARS_ORIGINALES' : original,\r\n",
        "                      'STARS_PREDICCIONES' : predictions,\r\n",
        "                     'TEXT' : messg})\r\n",
        "dataf"
      ],
      "execution_count": 78,
      "outputs": [
        {
          "output_type": "execute_result",
          "data": {
            "text/html": [
              "<div>\n",
              "<style scoped>\n",
              "    .dataframe tbody tr th:only-of-type {\n",
              "        vertical-align: middle;\n",
              "    }\n",
              "\n",
              "    .dataframe tbody tr th {\n",
              "        vertical-align: top;\n",
              "    }\n",
              "\n",
              "    .dataframe thead th {\n",
              "        text-align: right;\n",
              "    }\n",
              "</style>\n",
              "<table border=\"1\" class=\"dataframe\">\n",
              "  <thead>\n",
              "    <tr style=\"text-align: right;\">\n",
              "      <th></th>\n",
              "      <th>STARS_ORIGINALES</th>\n",
              "      <th>STARS_PREDICCIONES</th>\n",
              "      <th>TEXT</th>\n",
              "    </tr>\n",
              "  </thead>\n",
              "  <tbody>\n",
              "    <tr>\n",
              "      <th>0</th>\n",
              "      <td>2</td>\n",
              "      <td>3</td>\n",
              "      <td>Le tuve que devolver sin Abrir, nada mas tocar...</td>\n",
              "    </tr>\n",
              "    <tr>\n",
              "      <th>1</th>\n",
              "      <td>2</td>\n",
              "      <td>2</td>\n",
              "      <td>Da menos luz que otras que he comprado. Trae u...</td>\n",
              "    </tr>\n",
              "    <tr>\n",
              "      <th>2</th>\n",
              "      <td>1</td>\n",
              "      <td>1</td>\n",
              "      <td>Por ahora mal, ya que lleva retrasado cuatro d...</td>\n",
              "    </tr>\n",
              "    <tr>\n",
              "      <th>3</th>\n",
              "      <td>3</td>\n",
              "      <td>2</td>\n",
              "      <td>Escasa duración de las baterías, apenas te da ...</td>\n",
              "    </tr>\n",
              "    <tr>\n",
              "      <th>4</th>\n",
              "      <td>4</td>\n",
              "      <td>3</td>\n",
              "      <td>Tengo un portátil HP con Windows 10 y bueno al...</td>\n",
              "    </tr>\n",
              "    <tr>\n",
              "      <th>...</th>\n",
              "      <td>...</td>\n",
              "      <td>...</td>\n",
              "      <td>...</td>\n",
              "    </tr>\n",
              "    <tr>\n",
              "      <th>61495</th>\n",
              "      <td>3</td>\n",
              "      <td>4</td>\n",
              "      <td>Cumple con lo esperado. No es la mejor calidad...</td>\n",
              "    </tr>\n",
              "    <tr>\n",
              "      <th>61496</th>\n",
              "      <td>4</td>\n",
              "      <td>3</td>\n",
              "      <td>Están bien aunque por la foto pensé que tenían...</td>\n",
              "    </tr>\n",
              "    <tr>\n",
              "      <th>61497</th>\n",
              "      <td>4</td>\n",
              "      <td>4</td>\n",
              "      <td>Es de muy pequeño tamaño y mucho más silencios...</td>\n",
              "    </tr>\n",
              "    <tr>\n",
              "      <th>61498</th>\n",
              "      <td>4</td>\n",
              "      <td>5</td>\n",
              "      <td>Es un buen producto, de calidad media. Genial ...</td>\n",
              "    </tr>\n",
              "    <tr>\n",
              "      <th>61499</th>\n",
              "      <td>5</td>\n",
              "      <td>5</td>\n",
              "      <td>Funciona como el original</td>\n",
              "    </tr>\n",
              "  </tbody>\n",
              "</table>\n",
              "<p>61500 rows × 3 columns</p>\n",
              "</div>"
            ],
            "text/plain": [
              "       STARS_ORIGINALES  ...                                               TEXT\n",
              "0                     2  ...  Le tuve que devolver sin Abrir, nada mas tocar...\n",
              "1                     2  ...  Da menos luz que otras que he comprado. Trae u...\n",
              "2                     1  ...  Por ahora mal, ya que lleva retrasado cuatro d...\n",
              "3                     3  ...  Escasa duración de las baterías, apenas te da ...\n",
              "4                     4  ...  Tengo un portátil HP con Windows 10 y bueno al...\n",
              "...                 ...  ...                                                ...\n",
              "61495                 3  ...  Cumple con lo esperado. No es la mejor calidad...\n",
              "61496                 4  ...  Están bien aunque por la foto pensé que tenían...\n",
              "61497                 4  ...  Es de muy pequeño tamaño y mucho más silencios...\n",
              "61498                 4  ...  Es un buen producto, de calidad media. Genial ...\n",
              "61499                 5  ...                          Funciona como el original\n",
              "\n",
              "[61500 rows x 3 columns]"
            ]
          },
          "metadata": {
            "tags": []
          },
          "execution_count": 78
        }
      ]
    },
    {
      "cell_type": "code",
      "metadata": {
        "id": "ZEkY-HLV-N1W",
        "colab": {
          "base_uri": "https://localhost:8080/"
        },
        "outputId": "ff7c9644-4bab-476b-c719-423e7d823db9"
      },
      "source": [
        "#ACCURACY\r\n",
        "count=0\r\n",
        "for i in range (len(pred)):\r\n",
        "    if pred[i]==actual[i]:\r\n",
        "        count=count+1\r\n",
        "print(\"Obtuve\",count,\"predicciones correctas de\",len(pred),\".\")\r\n",
        "print(\"Eso nos da un accuracy de \",(count/len(pred))*100)"
      ],
      "execution_count": 79,
      "outputs": [
        {
          "output_type": "stream",
          "text": [
            "Obtuve 30108 predicciones correctas de 61500 .\n",
            "Eso nos da un accuracy de  48.95609756097561\n"
          ],
          "name": "stdout"
        }
      ]
    },
    {
      "cell_type": "markdown",
      "metadata": {
        "id": "vAeepoylrkfb"
      },
      "source": [
        "**Se logran 2 puntos más de Accuary que en el Modelo Benchmark.**"
      ]
    },
    {
      "cell_type": "markdown",
      "metadata": {
        "id": "wRy8LUSYrvjx"
      },
      "source": [
        "***MODELO en Dataset Development***\r\n",
        "\r\n",
        "Para validar el funcionamiento del modelo, aplicaré el mismo en el dataset de validación."
      ]
    },
    {
      "cell_type": "code",
      "metadata": {
        "id": "mEoI78x4r2jK"
      },
      "source": [
        "X = dataset_dep['review_body']\r\n",
        "y = dataset_dep['stars']"
      ],
      "execution_count": 81,
      "outputs": []
    },
    {
      "cell_type": "code",
      "metadata": {
        "colab": {
          "base_uri": "https://localhost:8080/"
        },
        "id": "cfzcOI1br5kI",
        "outputId": "1047a29e-2ec1-4745-a0a0-ab0c53bb2d08"
      },
      "source": [
        "#Creo el vector de entrenamiento como una porción de los datos y dejo el resto para pruebas #test 0.3, train= 0.7\r\n",
        "X_train, X_test, y_train, y_test = train_test_split(X, y, test_size=0.3, random_state=42)\r\n",
        "X_train.shape, X_test.shape, y_train.shape, y_test.shape"
      ],
      "execution_count": 82,
      "outputs": [
        {
          "output_type": "execute_result",
          "data": {
            "text/plain": [
              "((3500,), (1500,), (3500,), (1500,))"
            ]
          },
          "metadata": {
            "tags": []
          },
          "execution_count": 82
        }
      ]
    },
    {
      "cell_type": "code",
      "metadata": {
        "id": "SY3TTlo0r8YG"
      },
      "source": [
        "#Modelo CountVectorizer\r\n",
        "cv = CountVectorizer()"
      ],
      "execution_count": 83,
      "outputs": []
    },
    {
      "cell_type": "code",
      "metadata": {
        "colab": {
          "base_uri": "https://localhost:8080/"
        },
        "id": "bPv9GSOyr_NP",
        "outputId": "dba347d0-d2f2-4a00-8835-570b61d9667a"
      },
      "source": [
        "x_traincv=cv.fit_transform(X_train)\r\n",
        "x_traincv"
      ],
      "execution_count": 84,
      "outputs": [
        {
          "output_type": "execute_result",
          "data": {
            "text/plain": [
              "<3500x9059 sparse matrix of type '<class 'numpy.int64'>'\n",
              "\twith 76467 stored elements in Compressed Sparse Row format>"
            ]
          },
          "metadata": {
            "tags": []
          },
          "execution_count": 84
        }
      ]
    },
    {
      "cell_type": "code",
      "metadata": {
        "id": "D8yD3QKAsB34"
      },
      "source": [
        "#Clasificador a utilizar: \"Multinomial Naive Bayes Classifier\" con Count Vectorizer\r\n",
        "# Entreno el modelo\r\n",
        "mnb_trained = MultinomialNB().fit(x_traincv, y_train)"
      ],
      "execution_count": 85,
      "outputs": []
    },
    {
      "cell_type": "code",
      "metadata": {
        "id": "_RIuOI-ysFjy"
      },
      "source": [
        "x_testcv = cv.transform(X_test)"
      ],
      "execution_count": 86,
      "outputs": []
    },
    {
      "cell_type": "code",
      "metadata": {
        "colab": {
          "base_uri": "https://localhost:8080/"
        },
        "id": "-UvdCNBHsJKp",
        "outputId": "59eb7be9-bfea-4c71-b831-29ae626f79ba"
      },
      "source": [
        "#Predicciones\r\n",
        "pred = mnb_trained.predict(x_testcv)\r\n",
        "pred"
      ],
      "execution_count": 87,
      "outputs": [
        {
          "output_type": "execute_result",
          "data": {
            "text/plain": [
              "array([2, 2, 1, ..., 2, 2, 3])"
            ]
          },
          "metadata": {
            "tags": []
          },
          "execution_count": 87
        }
      ]
    },
    {
      "cell_type": "code",
      "metadata": {
        "colab": {
          "base_uri": "https://localhost:8080/"
        },
        "id": "UTp8qyCZsM4s",
        "outputId": "8343e111-3285-4614-d977-c3af0573802e"
      },
      "source": [
        "#Clasificaciones Originales\r\n",
        "actual=np.array(y_test)\r\n",
        "actual"
      ],
      "execution_count": 88,
      "outputs": [
        {
          "output_type": "execute_result",
          "data": {
            "text/plain": [
              "array([2, 3, 3, ..., 2, 3, 2])"
            ]
          },
          "metadata": {
            "tags": []
          },
          "execution_count": 88
        }
      ]
    },
    {
      "cell_type": "code",
      "metadata": {
        "id": "imtCZ_YzsV1z"
      },
      "source": [
        "# Código para ver resultados de forma tabular\r\n",
        "messg = []\r\n",
        "for msg in X_test:\r\n",
        "    messg.append(msg)\r\n",
        "predictions = []\r\n",
        "for x in pred:\r\n",
        "    predictions.append(x)\r\n",
        "original = []\r\n",
        "for i in y_test:\r\n",
        "    original.append(i)"
      ],
      "execution_count": 89,
      "outputs": []
    },
    {
      "cell_type": "code",
      "metadata": {
        "colab": {
          "base_uri": "https://localhost:8080/",
          "height": 402
        },
        "id": "1dzWScOxsPtG",
        "outputId": "aec32279-d6c7-4d76-be1a-ec29fadabd43"
      },
      "source": [
        "# En el siguiente cuadro se observa la REVIEW y la CLASIFICACION ORIGINAL y PREDICHA\r\n",
        "dataf = pd.DataFrame({'STARS_ORIGINALES' : original,\r\n",
        "                      'STARS_PREDICCIONES' : predictions,\r\n",
        "                     'TEXT' : messg})\r\n",
        "dataf"
      ],
      "execution_count": 90,
      "outputs": [
        {
          "output_type": "execute_result",
          "data": {
            "text/html": [
              "<div>\n",
              "<style scoped>\n",
              "    .dataframe tbody tr th:only-of-type {\n",
              "        vertical-align: middle;\n",
              "    }\n",
              "\n",
              "    .dataframe tbody tr th {\n",
              "        vertical-align: top;\n",
              "    }\n",
              "\n",
              "    .dataframe thead th {\n",
              "        text-align: right;\n",
              "    }\n",
              "</style>\n",
              "<table border=\"1\" class=\"dataframe\">\n",
              "  <thead>\n",
              "    <tr style=\"text-align: right;\">\n",
              "      <th></th>\n",
              "      <th>STARS_ORIGINALES</th>\n",
              "      <th>STARS_PREDICCIONES</th>\n",
              "      <th>TEXT</th>\n",
              "    </tr>\n",
              "  </thead>\n",
              "  <tbody>\n",
              "    <tr>\n",
              "      <th>0</th>\n",
              "      <td>2</td>\n",
              "      <td>2</td>\n",
              "      <td>quería 3 rollos y me los han mandado de distin...</td>\n",
              "    </tr>\n",
              "    <tr>\n",
              "      <th>1</th>\n",
              "      <td>3</td>\n",
              "      <td>2</td>\n",
              "      <td>Calidad perfecto, pero solo cubre la parte que...</td>\n",
              "    </tr>\n",
              "    <tr>\n",
              "      <th>2</th>\n",
              "      <td>3</td>\n",
              "      <td>1</td>\n",
              "      <td>La tienda se tuvo que descambiar porque venía ...</td>\n",
              "    </tr>\n",
              "    <tr>\n",
              "      <th>3</th>\n",
              "      <td>2</td>\n",
              "      <td>1</td>\n",
              "      <td>Sería perfecto pero una vez instalado pierde u...</td>\n",
              "    </tr>\n",
              "    <tr>\n",
              "      <th>4</th>\n",
              "      <td>1</td>\n",
              "      <td>1</td>\n",
              "      <td>El ancho de la funda no llega a los laterales ...</td>\n",
              "    </tr>\n",
              "    <tr>\n",
              "      <th>...</th>\n",
              "      <td>...</td>\n",
              "      <td>...</td>\n",
              "      <td>...</td>\n",
              "    </tr>\n",
              "    <tr>\n",
              "      <th>1495</th>\n",
              "      <td>4</td>\n",
              "      <td>5</td>\n",
              "      <td>Evita que el calzado golpee el tambor de la la...</td>\n",
              "    </tr>\n",
              "    <tr>\n",
              "      <th>1496</th>\n",
              "      <td>2</td>\n",
              "      <td>2</td>\n",
              "      <td>Cuando lo compré, ponía que llegaba el día 4, ...</td>\n",
              "    </tr>\n",
              "    <tr>\n",
              "      <th>1497</th>\n",
              "      <td>2</td>\n",
              "      <td>2</td>\n",
              "      <td>No me a gustado mucho no deja muy bien alisado</td>\n",
              "    </tr>\n",
              "    <tr>\n",
              "      <th>1498</th>\n",
              "      <td>3</td>\n",
              "      <td>2</td>\n",
              "      <td>La batería dura muy poco.</td>\n",
              "    </tr>\n",
              "    <tr>\n",
              "      <th>1499</th>\n",
              "      <td>2</td>\n",
              "      <td>3</td>\n",
              "      <td>He tenido proyector para ver pelis en casa des...</td>\n",
              "    </tr>\n",
              "  </tbody>\n",
              "</table>\n",
              "<p>1500 rows × 3 columns</p>\n",
              "</div>"
            ],
            "text/plain": [
              "      STARS_ORIGINALES  ...                                               TEXT\n",
              "0                    2  ...  quería 3 rollos y me los han mandado de distin...\n",
              "1                    3  ...  Calidad perfecto, pero solo cubre la parte que...\n",
              "2                    3  ...  La tienda se tuvo que descambiar porque venía ...\n",
              "3                    2  ...  Sería perfecto pero una vez instalado pierde u...\n",
              "4                    1  ...  El ancho de la funda no llega a los laterales ...\n",
              "...                ...  ...                                                ...\n",
              "1495                 4  ...  Evita que el calzado golpee el tambor de la la...\n",
              "1496                 2  ...  Cuando lo compré, ponía que llegaba el día 4, ...\n",
              "1497                 2  ...     No me a gustado mucho no deja muy bien alisado\n",
              "1498                 3  ...                          La batería dura muy poco.\n",
              "1499                 2  ...  He tenido proyector para ver pelis en casa des...\n",
              "\n",
              "[1500 rows x 3 columns]"
            ]
          },
          "metadata": {
            "tags": []
          },
          "execution_count": 90
        }
      ]
    },
    {
      "cell_type": "code",
      "metadata": {
        "colab": {
          "base_uri": "https://localhost:8080/"
        },
        "id": "huNKyjO0sTOx",
        "outputId": "cd35e3e8-41c8-4ff3-929e-360a16854388"
      },
      "source": [
        "#ACCURACY\r\n",
        "count=0\r\n",
        "for i in range (len(pred)):\r\n",
        "    if pred[i]==actual[i]:\r\n",
        "        count=count+1\r\n",
        "print(\"Obtuve\",count,\"predicciones correctas de\",len(pred),\".\")\r\n",
        "print(\"Eso nos da un accuracy de \",(count/len(pred))*100)"
      ],
      "execution_count": 91,
      "outputs": [
        {
          "output_type": "stream",
          "text": [
            "Obtuve 630 predicciones correctas de 1500 .\n",
            "Eso nos da un accuracy de  42.0\n"
          ],
          "name": "stdout"
        }
      ]
    },
    {
      "cell_type": "markdown",
      "metadata": {
        "id": "Rv0rOWDZsqfz"
      },
      "source": [
        "El accuracy obtenido del modelo aplicado al dataset de validación es unos puntos menos que el obtenido en el dataset completo: 0.42 vs 0.48."
      ]
    },
    {
      "cell_type": "markdown",
      "metadata": {
        "id": "0YOWnXtVWFvb"
      },
      "source": [
        "# PARTE C - Con Modificaciones"
      ]
    },
    {
      "cell_type": "markdown",
      "metadata": {
        "id": "npahQMTK-xUU"
      },
      "source": [
        "Dado los resultados obtenidos, las conlusiones a las que llego son las siguientes:\n",
        "\n",
        "**En cuanto a la base de datos:**\n",
        "\n",
        "Antes de tomar esta base de datos como input para predecir como valorará una persona a un producto, debería corroborarse que éstas personas que ya evaluaron, fueron coherentes con lo que dejaron asentado en la reseña (título y cuerpo) y con la cantidad de estrellas que asignaron. También debería complementarse esta información con alguna encuesta de satisfacción o alguna otra información que nos permita validar las clasificaciones o inferir según nuestros criterios (los de la encuesta por ejemplo) si tiene 1,2,3,4 o 5 estrellas. Propongo esto, dado que las reseñas son muy subjeitvas: Por ej.: Hay casos en que una reseña que dice: \"Ok\", puede ser puntuada con 3 estrellas o con 5; también hay casos en que las reseñas no tienen sentido como por ej.: \"hghg\", al parecer éstas personas no querían dejar asentado nada y simplemente asignaron estrellas, en otros casos las reseñas parecerían merecer más o menos estrellas de las que tienen etc. ... \n",
        "\n",
        "**En cuanto al modelo:**\n",
        "\n",
        "Se nota una mejora en el accuracy obtenido con Count Vectorizer tanto para Benchmark(de  proy03: 0.41 a proy04: 0.46), \n",
        "Modelo (de proy03:0.44 a proy04:0.48) \n",
        "y Modelo base development (de proy03: 0.38 a proy04:0.42).\n",
        "\n",
        "Conclusión: el modelo Count Vectorizer es mejor que TFidVectorizer, pero el resultado sigue siendo muy bajo (ver texto anterior \"En cuanto a la base de datos...\")\n",
        "\n",
        "**Otras sugerencias:**\n",
        "\n",
        "-Investigar otras librerías\n",
        "-Mejorar coherencia en base de datos \n",
        "\n",
        "\n",
        "\n",
        "\n",
        "\n",
        "\n"
      ]
    },
    {
      "cell_type": "markdown",
      "metadata": {
        "id": "8axSlUSFH1bi"
      },
      "source": [
        "¡ MUCHAS GRACIAS !\n",
        "\n",
        "\n",
        "Florencia Monzani "
      ]
    }
  ]
}