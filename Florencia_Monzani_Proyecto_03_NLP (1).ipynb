{
  "nbformat": 4,
  "nbformat_minor": 0,
  "metadata": {
    "colab": {
      "name": "Florencia_Monzani_Proyecto_03_NLP.ipynb",
      "provenance": [],
      "collapsed_sections": [
        "DWMleOo-VgMf",
        "qtvcFkoqVvqe",
        "0YOWnXtVWFvb"
      ]
    },
    "kernelspec": {
      "display_name": "Python 3",
      "language": "python",
      "name": "python3"
    },
    "language_info": {
      "codemirror_mode": {
        "name": "ipython",
        "version": 3
      },
      "file_extension": ".py",
      "mimetype": "text/x-python",
      "name": "python",
      "nbconvert_exporter": "python",
      "pygments_lexer": "ipython3",
      "version": "3.8.2"
    }
  },
  "cells": [
    {
      "cell_type": "markdown",
      "metadata": {
        "id": "2GRQnxMzISE_"
      },
      "source": [
        "# Proyecto 03 - Procesamiento del Lenguaje Natural\n",
        "\n",
        "## Dataset: The Multilingual Amazon Reviews Corpus\n",
        "\n",
        "Monzani Florencia\n"
      ]
    },
    {
      "cell_type": "markdown",
      "metadata": {
        "id": "DWMleOo-VgMf"
      },
      "source": [
        "# PARTE A"
      ]
    },
    {
      "cell_type": "markdown",
      "metadata": {
        "id": "t7ze-oISVdX4"
      },
      "source": [
        "Parte A - Exploración de Datos: Todo proyecto de Ciencia de Datos empieza con un Análisis Exploratorio de Datos... y todo Análisis Exploratorio de Datos debe responder preguntas. \n",
        "El Análisis Exploratorio de Datos debe servir para comprender el dataset y todo el flujo de trabajo que le siga.\n",
        "\n",
        "Debes responder al menos una pregunta original con este dataset. La pregunta debe estar correctamente explicitada."
      ]
    },
    {
      "cell_type": "markdown",
      "metadata": {
        "id": "U6Me4XZOfto7"
      },
      "source": [
        "**DESCRIPCIÓN DEL DATASET** \n",
        "\n",
        "https://docs.opendata.aws/amazon-reviews-ml/readme.html\n",
        "\n",
        "Se proporciona un conjunto de datos de reseñas de productos de Amazon para la clasificación de texto en español. El conjunto de datos está recopilado entre el 1 de noviembre de 2015 y el 1 de noviembre de 2019. Cada registro del conjunto de datos contiene el texto de la reseña, el título de la reseña, la calificación por estrellas y un ID de revisor anónimo, un ID de producto anónimo y la categoría de producto (por ejemplo, \"libros\", \"electrodomésticos\", etc.) El dataset está equilibrado entre estrellas, por lo que cada calificación de estrellas constituye el 20% de las reseñas.\n",
        "\n",
        "\n",
        "Hay 200.000, 5.000 y 5.000 revisiones en los conjuntos de train, development y test, respectivamente. La cantidad máxima de reseñas por revisor es 20 y la cantidad máxima de reseñas por producto es 20. Todas las reseñas se truncan después de 2000 caracteres y todas las reseñas tienen al menos 20 caracteres.\n"
      ]
    },
    {
      "cell_type": "code",
      "metadata": {
        "id": "nByW659nWdqL"
      },
      "source": [
        "#LIBRERIAS\n",
        "import itertools\n",
        "\n",
        "import numpy as np\n",
        "import pandas as pd\n",
        "\n",
        "import matplotlib.pyplot as plt\n",
        "import seaborn as sns\n",
        "sns.set()\n",
        "\n",
        "import spacy\n"
      ],
      "execution_count": 1,
      "outputs": []
    },
    {
      "cell_type": "code",
      "metadata": {
        "colab": {
          "base_uri": "https://localhost:8080/"
        },
        "id": "g6hqqlD17xOK",
        "outputId": "4282500e-361d-4e09-ad04-da049da22932"
      },
      "source": [
        "#CARGA DE DATASET\n",
        "from google.colab import drive\n",
        "drive.mount('/content/drive')"
      ],
      "execution_count": 2,
      "outputs": [
        {
          "output_type": "stream",
          "text": [
            "Mounted at /content/drive\n"
          ],
          "name": "stdout"
        }
      ]
    },
    {
      "cell_type": "markdown",
      "metadata": {
        "id": "_-Du0SrqaD1x"
      },
      "source": [
        "**EXPLORACIÓN DE DATASET**"
      ]
    },
    {
      "cell_type": "code",
      "metadata": {
        "colab": {
          "base_uri": "https://localhost:8080/",
          "height": 195
        },
        "id": "usbXHr3Y9gm_",
        "outputId": "1cb764b2-d526-4006-a944-58042ed8f0e7"
      },
      "source": [
        "dataset_dep = pd.read_json(\"/content/drive/My Drive/Colab Notebooks/Proyecto NLP/dataset_es_dev.json\", lines= True)\n",
        "dataset_dep.head()"
      ],
      "execution_count": 3,
      "outputs": [
        {
          "output_type": "execute_result",
          "data": {
            "text/html": [
              "<div>\n",
              "<style scoped>\n",
              "    .dataframe tbody tr th:only-of-type {\n",
              "        vertical-align: middle;\n",
              "    }\n",
              "\n",
              "    .dataframe tbody tr th {\n",
              "        vertical-align: top;\n",
              "    }\n",
              "\n",
              "    .dataframe thead th {\n",
              "        text-align: right;\n",
              "    }\n",
              "</style>\n",
              "<table border=\"1\" class=\"dataframe\">\n",
              "  <thead>\n",
              "    <tr style=\"text-align: right;\">\n",
              "      <th></th>\n",
              "      <th>review_id</th>\n",
              "      <th>product_id</th>\n",
              "      <th>reviewer_id</th>\n",
              "      <th>stars</th>\n",
              "      <th>review_body</th>\n",
              "      <th>review_title</th>\n",
              "      <th>language</th>\n",
              "      <th>product_category</th>\n",
              "    </tr>\n",
              "  </thead>\n",
              "  <tbody>\n",
              "    <tr>\n",
              "      <th>0</th>\n",
              "      <td>es_0417480</td>\n",
              "      <td>product_es_0873923</td>\n",
              "      <td>reviewer_es_0672978</td>\n",
              "      <td>1</td>\n",
              "      <td>Malisimo, muy grande demasiado aparatoso y mal...</td>\n",
              "      <td>Mala compra</td>\n",
              "      <td>es</td>\n",
              "      <td>wireless</td>\n",
              "    </tr>\n",
              "    <tr>\n",
              "      <th>1</th>\n",
              "      <td>es_0180432</td>\n",
              "      <td>product_es_0713146</td>\n",
              "      <td>reviewer_es_0100858</td>\n",
              "      <td>1</td>\n",
              "      <td>No he recibido el pedido no la devolución</td>\n",
              "      <td>No lo he recibido</td>\n",
              "      <td>es</td>\n",
              "      <td>apparel</td>\n",
              "    </tr>\n",
              "    <tr>\n",
              "      <th>2</th>\n",
              "      <td>es_0144850</td>\n",
              "      <td>product_es_0356874</td>\n",
              "      <td>reviewer_es_0486447</td>\n",
              "      <td>1</td>\n",
              "      <td>Tengo que buscar otro sistema, este no funcion...</td>\n",
              "      <td>Que no aprieta bien en el manillar</td>\n",
              "      <td>es</td>\n",
              "      <td>sports</td>\n",
              "    </tr>\n",
              "    <tr>\n",
              "      <th>3</th>\n",
              "      <td>es_0339629</td>\n",
              "      <td>product_es_0939832</td>\n",
              "      <td>reviewer_es_0894703</td>\n",
              "      <td>1</td>\n",
              "      <td>Utilicé las brocas de menor diámetro y se me d...</td>\n",
              "      <td>Brocas de mantequilla</td>\n",
              "      <td>es</td>\n",
              "      <td>home_improvement</td>\n",
              "    </tr>\n",
              "    <tr>\n",
              "      <th>4</th>\n",
              "      <td>es_0858362</td>\n",
              "      <td>product_es_0489066</td>\n",
              "      <td>reviewer_es_0887663</td>\n",
              "      <td>1</td>\n",
              "      <td>No me gusta su olor a viejo y aspecto malo</td>\n",
              "      <td>No me gusta</td>\n",
              "      <td>es</td>\n",
              "      <td>beauty</td>\n",
              "    </tr>\n",
              "  </tbody>\n",
              "</table>\n",
              "</div>"
            ],
            "text/plain": [
              "    review_id          product_id  ... language  product_category\n",
              "0  es_0417480  product_es_0873923  ...       es          wireless\n",
              "1  es_0180432  product_es_0713146  ...       es           apparel\n",
              "2  es_0144850  product_es_0356874  ...       es            sports\n",
              "3  es_0339629  product_es_0939832  ...       es  home_improvement\n",
              "4  es_0858362  product_es_0489066  ...       es            beauty\n",
              "\n",
              "[5 rows x 8 columns]"
            ]
          },
          "metadata": {
            "tags": []
          },
          "execution_count": 3
        }
      ]
    },
    {
      "cell_type": "code",
      "metadata": {
        "colab": {
          "base_uri": "https://localhost:8080/",
          "height": 195
        },
        "id": "7a4XlQjk9hjT",
        "outputId": "18072611-6163-4093-cf8c-282e0004df70"
      },
      "source": [
        "dataset_test = pd.read_json(\"/content/drive/My Drive/Colab Notebooks/Proyecto NLP/dataset_es_test.json\", lines= True)\n",
        "dataset_test.head()"
      ],
      "execution_count": 4,
      "outputs": [
        {
          "output_type": "execute_result",
          "data": {
            "text/html": [
              "<div>\n",
              "<style scoped>\n",
              "    .dataframe tbody tr th:only-of-type {\n",
              "        vertical-align: middle;\n",
              "    }\n",
              "\n",
              "    .dataframe tbody tr th {\n",
              "        vertical-align: top;\n",
              "    }\n",
              "\n",
              "    .dataframe thead th {\n",
              "        text-align: right;\n",
              "    }\n",
              "</style>\n",
              "<table border=\"1\" class=\"dataframe\">\n",
              "  <thead>\n",
              "    <tr style=\"text-align: right;\">\n",
              "      <th></th>\n",
              "      <th>review_id</th>\n",
              "      <th>product_id</th>\n",
              "      <th>reviewer_id</th>\n",
              "      <th>stars</th>\n",
              "      <th>review_body</th>\n",
              "      <th>review_title</th>\n",
              "      <th>language</th>\n",
              "      <th>product_category</th>\n",
              "    </tr>\n",
              "  </thead>\n",
              "  <tbody>\n",
              "    <tr>\n",
              "      <th>0</th>\n",
              "      <td>es_0038754</td>\n",
              "      <td>product_es_0113523</td>\n",
              "      <td>reviewer_es_0580071</td>\n",
              "      <td>1</td>\n",
              "      <td>no me llego el articulo me lo mando por correo...</td>\n",
              "      <td>no me llego</td>\n",
              "      <td>es</td>\n",
              "      <td>wireless</td>\n",
              "    </tr>\n",
              "    <tr>\n",
              "      <th>1</th>\n",
              "      <td>es_0748979</td>\n",
              "      <td>product_es_0017036</td>\n",
              "      <td>reviewer_es_0819733</td>\n",
              "      <td>1</td>\n",
              "      <td>la mensajería horrible, no compro mas</td>\n",
              "      <td>amazon sigue sin cumplir en las entregas</td>\n",
              "      <td>es</td>\n",
              "      <td>home</td>\n",
              "    </tr>\n",
              "    <tr>\n",
              "      <th>2</th>\n",
              "      <td>es_0411746</td>\n",
              "      <td>product_es_0138642</td>\n",
              "      <td>reviewer_es_0508607</td>\n",
              "      <td>1</td>\n",
              "      <td>Estoy muy decepcionado con el vendedor ya que ...</td>\n",
              "      <td>ESTAFA EN EL ENVÍO</td>\n",
              "      <td>es</td>\n",
              "      <td>toy</td>\n",
              "    </tr>\n",
              "    <tr>\n",
              "      <th>3</th>\n",
              "      <td>es_0786686</td>\n",
              "      <td>product_es_0170887</td>\n",
              "      <td>reviewer_es_0491157</td>\n",
              "      <td>1</td>\n",
              "      <td>Mi valoración no es sobre el producto sino sob...</td>\n",
              "      <td>Estafa de Amazon</td>\n",
              "      <td>es</td>\n",
              "      <td>home</td>\n",
              "    </tr>\n",
              "    <tr>\n",
              "      <th>4</th>\n",
              "      <td>es_0429700</td>\n",
              "      <td>product_es_0710642</td>\n",
              "      <td>reviewer_es_0008745</td>\n",
              "      <td>1</td>\n",
              "      <td>Pues tenía interés en este libro y probé la ve...</td>\n",
              "      <td>No conseguí pasar de la portada en Kindle</td>\n",
              "      <td>es</td>\n",
              "      <td>digital_ebook_purchase</td>\n",
              "    </tr>\n",
              "  </tbody>\n",
              "</table>\n",
              "</div>"
            ],
            "text/plain": [
              "    review_id          product_id  ... language        product_category\n",
              "0  es_0038754  product_es_0113523  ...       es                wireless\n",
              "1  es_0748979  product_es_0017036  ...       es                    home\n",
              "2  es_0411746  product_es_0138642  ...       es                     toy\n",
              "3  es_0786686  product_es_0170887  ...       es                    home\n",
              "4  es_0429700  product_es_0710642  ...       es  digital_ebook_purchase\n",
              "\n",
              "[5 rows x 8 columns]"
            ]
          },
          "metadata": {
            "tags": []
          },
          "execution_count": 4
        }
      ]
    },
    {
      "cell_type": "code",
      "metadata": {
        "colab": {
          "base_uri": "https://localhost:8080/",
          "height": 195
        },
        "id": "vchF5ihw9huJ",
        "outputId": "6481fe9f-c50b-45a3-d624-0f6ea449c784"
      },
      "source": [
        "dataset_train = pd.read_json(\"/content/drive/My Drive/Colab Notebooks/Proyecto NLP/dataset_es_train.json\", lines= True)\n",
        "dataset_train.head()"
      ],
      "execution_count": 5,
      "outputs": [
        {
          "output_type": "execute_result",
          "data": {
            "text/html": [
              "<div>\n",
              "<style scoped>\n",
              "    .dataframe tbody tr th:only-of-type {\n",
              "        vertical-align: middle;\n",
              "    }\n",
              "\n",
              "    .dataframe tbody tr th {\n",
              "        vertical-align: top;\n",
              "    }\n",
              "\n",
              "    .dataframe thead th {\n",
              "        text-align: right;\n",
              "    }\n",
              "</style>\n",
              "<table border=\"1\" class=\"dataframe\">\n",
              "  <thead>\n",
              "    <tr style=\"text-align: right;\">\n",
              "      <th></th>\n",
              "      <th>review_id</th>\n",
              "      <th>product_id</th>\n",
              "      <th>reviewer_id</th>\n",
              "      <th>stars</th>\n",
              "      <th>review_body</th>\n",
              "      <th>review_title</th>\n",
              "      <th>language</th>\n",
              "      <th>product_category</th>\n",
              "    </tr>\n",
              "  </thead>\n",
              "  <tbody>\n",
              "    <tr>\n",
              "      <th>0</th>\n",
              "      <td>es_0491108</td>\n",
              "      <td>product_es_0296024</td>\n",
              "      <td>reviewer_es_0999081</td>\n",
              "      <td>1</td>\n",
              "      <td>Nada bueno se me fue ka pantalla en menos de 8...</td>\n",
              "      <td>television Nevir</td>\n",
              "      <td>es</td>\n",
              "      <td>electronics</td>\n",
              "    </tr>\n",
              "    <tr>\n",
              "      <th>1</th>\n",
              "      <td>es_0869872</td>\n",
              "      <td>product_es_0922286</td>\n",
              "      <td>reviewer_es_0216771</td>\n",
              "      <td>1</td>\n",
              "      <td>Horrible, nos tuvimos que comprar otro porque ...</td>\n",
              "      <td>Dinero tirado a la basura con esta compra</td>\n",
              "      <td>es</td>\n",
              "      <td>electronics</td>\n",
              "    </tr>\n",
              "    <tr>\n",
              "      <th>2</th>\n",
              "      <td>es_0811721</td>\n",
              "      <td>product_es_0474543</td>\n",
              "      <td>reviewer_es_0929213</td>\n",
              "      <td>1</td>\n",
              "      <td>Te obligan a comprar dos unidades y te llega s...</td>\n",
              "      <td>solo llega una unidad cuando te obligan a comp...</td>\n",
              "      <td>es</td>\n",
              "      <td>drugstore</td>\n",
              "    </tr>\n",
              "    <tr>\n",
              "      <th>3</th>\n",
              "      <td>es_0359921</td>\n",
              "      <td>product_es_0656090</td>\n",
              "      <td>reviewer_es_0224702</td>\n",
              "      <td>1</td>\n",
              "      <td>No entro en descalificar al vendedor, solo pue...</td>\n",
              "      <td>PRODUCTO NO RECIBIDO.</td>\n",
              "      <td>es</td>\n",
              "      <td>wireless</td>\n",
              "    </tr>\n",
              "    <tr>\n",
              "      <th>4</th>\n",
              "      <td>es_0068940</td>\n",
              "      <td>product_es_0662544</td>\n",
              "      <td>reviewer_es_0224827</td>\n",
              "      <td>1</td>\n",
              "      <td>Llega tarde y co la talla equivocada</td>\n",
              "      <td>Devuelto</td>\n",
              "      <td>es</td>\n",
              "      <td>shoes</td>\n",
              "    </tr>\n",
              "  </tbody>\n",
              "</table>\n",
              "</div>"
            ],
            "text/plain": [
              "    review_id          product_id  ... language  product_category\n",
              "0  es_0491108  product_es_0296024  ...       es       electronics\n",
              "1  es_0869872  product_es_0922286  ...       es       electronics\n",
              "2  es_0811721  product_es_0474543  ...       es         drugstore\n",
              "3  es_0359921  product_es_0656090  ...       es          wireless\n",
              "4  es_0068940  product_es_0662544  ...       es             shoes\n",
              "\n",
              "[5 rows x 8 columns]"
            ]
          },
          "metadata": {
            "tags": []
          },
          "execution_count": 5
        }
      ]
    },
    {
      "cell_type": "markdown",
      "metadata": {
        "id": "pNRu_9LcAqom"
      },
      "source": [
        "**Amazon proporciona tres dataset:**\n",
        "\n",
        "Entrenamiento -> Training\n",
        "\n",
        "Evaluación -> Test\n",
        "\n",
        "Valiación -> Deployment (dataset_dep)\n",
        "\n",
        "-Los dataset de Test y Trainning contienen 5.000 y 200.000 reseñas respectivamente, mientras que Deployment contiene 5.000 reseñas.\n",
        "\n"
      ]
    },
    {
      "cell_type": "code",
      "metadata": {
        "colab": {
          "base_uri": "https://localhost:8080/"
        },
        "id": "HJkvK8quDOLV",
        "outputId": "66e43aad-8c74-4492-b281-a26cb978f530"
      },
      "source": [
        "dataset_dep.shape"
      ],
      "execution_count": 6,
      "outputs": [
        {
          "output_type": "execute_result",
          "data": {
            "text/plain": [
              "(5000, 8)"
            ]
          },
          "metadata": {
            "tags": []
          },
          "execution_count": 6
        }
      ]
    },
    {
      "cell_type": "code",
      "metadata": {
        "colab": {
          "base_uri": "https://localhost:8080/"
        },
        "id": "RVSAlwXBFiH8",
        "outputId": "221c1e69-8ad2-47e7-c90c-8903cabc006d"
      },
      "source": [
        "dataset_test.shape"
      ],
      "execution_count": 7,
      "outputs": [
        {
          "output_type": "execute_result",
          "data": {
            "text/plain": [
              "(5000, 8)"
            ]
          },
          "metadata": {
            "tags": []
          },
          "execution_count": 7
        }
      ]
    },
    {
      "cell_type": "code",
      "metadata": {
        "colab": {
          "base_uri": "https://localhost:8080/"
        },
        "id": "IG9rXltUFldZ",
        "outputId": "60e1e4fa-0490-4d42-bbae-4b7214ea8375"
      },
      "source": [
        "dataset_train.shape"
      ],
      "execution_count": 8,
      "outputs": [
        {
          "output_type": "execute_result",
          "data": {
            "text/plain": [
              "(200000, 8)"
            ]
          },
          "metadata": {
            "tags": []
          },
          "execution_count": 8
        }
      ]
    },
    {
      "cell_type": "markdown",
      "metadata": {
        "id": "Y4yMBoDngHqF"
      },
      "source": [
        "Para abordar este proyecto, haré un join de las tablas de Train y Test (para lograr una mejor partición de Test) y con el dataset de Deployment validaré el modelo."
      ]
    },
    {
      "cell_type": "code",
      "metadata": {
        "colab": {
          "base_uri": "https://localhost:8080/",
          "height": 195
        },
        "id": "fXJvlZC6g1fy",
        "outputId": "a8789b62-686c-4eca-8690-2202a2ae5d8a"
      },
      "source": [
        "#JOIN TEST & TRAIN\n",
        "dataset=pd.concat([dataset_test, dataset_train])\n",
        "dataset.head()"
      ],
      "execution_count": 9,
      "outputs": [
        {
          "output_type": "execute_result",
          "data": {
            "text/html": [
              "<div>\n",
              "<style scoped>\n",
              "    .dataframe tbody tr th:only-of-type {\n",
              "        vertical-align: middle;\n",
              "    }\n",
              "\n",
              "    .dataframe tbody tr th {\n",
              "        vertical-align: top;\n",
              "    }\n",
              "\n",
              "    .dataframe thead th {\n",
              "        text-align: right;\n",
              "    }\n",
              "</style>\n",
              "<table border=\"1\" class=\"dataframe\">\n",
              "  <thead>\n",
              "    <tr style=\"text-align: right;\">\n",
              "      <th></th>\n",
              "      <th>review_id</th>\n",
              "      <th>product_id</th>\n",
              "      <th>reviewer_id</th>\n",
              "      <th>stars</th>\n",
              "      <th>review_body</th>\n",
              "      <th>review_title</th>\n",
              "      <th>language</th>\n",
              "      <th>product_category</th>\n",
              "    </tr>\n",
              "  </thead>\n",
              "  <tbody>\n",
              "    <tr>\n",
              "      <th>0</th>\n",
              "      <td>es_0038754</td>\n",
              "      <td>product_es_0113523</td>\n",
              "      <td>reviewer_es_0580071</td>\n",
              "      <td>1</td>\n",
              "      <td>no me llego el articulo me lo mando por correo...</td>\n",
              "      <td>no me llego</td>\n",
              "      <td>es</td>\n",
              "      <td>wireless</td>\n",
              "    </tr>\n",
              "    <tr>\n",
              "      <th>1</th>\n",
              "      <td>es_0748979</td>\n",
              "      <td>product_es_0017036</td>\n",
              "      <td>reviewer_es_0819733</td>\n",
              "      <td>1</td>\n",
              "      <td>la mensajería horrible, no compro mas</td>\n",
              "      <td>amazon sigue sin cumplir en las entregas</td>\n",
              "      <td>es</td>\n",
              "      <td>home</td>\n",
              "    </tr>\n",
              "    <tr>\n",
              "      <th>2</th>\n",
              "      <td>es_0411746</td>\n",
              "      <td>product_es_0138642</td>\n",
              "      <td>reviewer_es_0508607</td>\n",
              "      <td>1</td>\n",
              "      <td>Estoy muy decepcionado con el vendedor ya que ...</td>\n",
              "      <td>ESTAFA EN EL ENVÍO</td>\n",
              "      <td>es</td>\n",
              "      <td>toy</td>\n",
              "    </tr>\n",
              "    <tr>\n",
              "      <th>3</th>\n",
              "      <td>es_0786686</td>\n",
              "      <td>product_es_0170887</td>\n",
              "      <td>reviewer_es_0491157</td>\n",
              "      <td>1</td>\n",
              "      <td>Mi valoración no es sobre el producto sino sob...</td>\n",
              "      <td>Estafa de Amazon</td>\n",
              "      <td>es</td>\n",
              "      <td>home</td>\n",
              "    </tr>\n",
              "    <tr>\n",
              "      <th>4</th>\n",
              "      <td>es_0429700</td>\n",
              "      <td>product_es_0710642</td>\n",
              "      <td>reviewer_es_0008745</td>\n",
              "      <td>1</td>\n",
              "      <td>Pues tenía interés en este libro y probé la ve...</td>\n",
              "      <td>No conseguí pasar de la portada en Kindle</td>\n",
              "      <td>es</td>\n",
              "      <td>digital_ebook_purchase</td>\n",
              "    </tr>\n",
              "  </tbody>\n",
              "</table>\n",
              "</div>"
            ],
            "text/plain": [
              "    review_id          product_id  ... language        product_category\n",
              "0  es_0038754  product_es_0113523  ...       es                wireless\n",
              "1  es_0748979  product_es_0017036  ...       es                    home\n",
              "2  es_0411746  product_es_0138642  ...       es                     toy\n",
              "3  es_0786686  product_es_0170887  ...       es                    home\n",
              "4  es_0429700  product_es_0710642  ...       es  digital_ebook_purchase\n",
              "\n",
              "[5 rows x 8 columns]"
            ]
          },
          "metadata": {
            "tags": []
          },
          "execution_count": 9
        }
      ]
    },
    {
      "cell_type": "code",
      "metadata": {
        "colab": {
          "base_uri": "https://localhost:8080/"
        },
        "id": "H--zb9yYiDyM",
        "outputId": "a638a71f-0127-4c3b-a20f-efdb9ed4bdc0"
      },
      "source": [
        "dataset.shape"
      ],
      "execution_count": 10,
      "outputs": [
        {
          "output_type": "execute_result",
          "data": {
            "text/plain": [
              "(205000, 8)"
            ]
          },
          "metadata": {
            "tags": []
          },
          "execution_count": 10
        }
      ]
    },
    {
      "cell_type": "markdown",
      "metadata": {
        "id": "OjUtJUuwKUiq"
      },
      "source": [
        "Calificaciones - ¿ Cómo están balanceadas las etiquetas (estrellas) ?\n",
        "\n",
        "*Los dataset están equilibrados entre estrellas, por lo que cada calificación de estrellas constituye el 20% de las reseñas,tal como se muestra en los siguientes gráficos:*"
      ]
    },
    {
      "cell_type": "code",
      "metadata": {
        "colab": {
          "base_uri": "https://localhost:8080/",
          "height": 338
        },
        "id": "ioaVPv13Kghi",
        "outputId": "e50997a0-9044-4223-dd72-5d77a5a9427b"
      },
      "source": [
        "sns.countplot(dataset_dep.stars)\n",
        "plt.show()"
      ],
      "execution_count": 11,
      "outputs": [
        {
          "output_type": "stream",
          "text": [
            "/usr/local/lib/python3.6/dist-packages/seaborn/_decorators.py:43: FutureWarning: Pass the following variable as a keyword arg: x. From version 0.12, the only valid positional argument will be `data`, and passing other arguments without an explicit keyword will result in an error or misinterpretation.\n",
            "  FutureWarning\n"
          ],
          "name": "stderr"
        },
        {
          "output_type": "display_data",
          "data": {
            "image/png": "[encoded data removed]",
            "text/plain": [
              "<Figure size 432x288 with 1 Axes>"
            ]
          },
          "metadata": {
            "tags": [],
            "needs_background": "light"
          }
        }
      ]
    },
    {
      "cell_type": "code",
      "metadata": {
        "colab": {
          "base_uri": "https://localhost:8080/",
          "height": 338
        },
        "id": "SwabSSO3Km8V",
        "outputId": "aa704a23-2540-41be-8201-6f141b144eaa"
      },
      "source": [
        "sns.countplot(dataset.stars)\n",
        "plt.show()"
      ],
      "execution_count": 12,
      "outputs": [
        {
          "output_type": "stream",
          "text": [
            "/usr/local/lib/python3.6/dist-packages/seaborn/_decorators.py:43: FutureWarning: Pass the following variable as a keyword arg: x. From version 0.12, the only valid positional argument will be `data`, and passing other arguments without an explicit keyword will result in an error or misinterpretation.\n",
            "  FutureWarning\n"
          ],
          "name": "stderr"
        },
        {
          "output_type": "display_data",
          "data": {
            "image/png": "[encoded data removed]",
            "text/plain": [
              "<Figure size 432x288 with 1 Axes>"
            ]
          },
          "metadata": {
            "tags": [],
            "needs_background": "light"
          }
        }
      ]
    },
    {
      "cell_type": "markdown",
      "metadata": {
        "id": "L_7eA1R2cAA8"
      },
      "source": [
        "Análisis de valores faltantes por Dataset:\n",
        "\n",
        "*No se observan valores faltantes en las columnas*"
      ]
    },
    {
      "cell_type": "code",
      "metadata": {
        "colab": {
          "base_uri": "https://localhost:8080/"
        },
        "id": "ZtmbLhXbbtRB",
        "outputId": "a4a1d002-e36f-4a51-845e-abf6a9224d59"
      },
      "source": [
        "dataset_dep.isna().sum()"
      ],
      "execution_count": 13,
      "outputs": [
        {
          "output_type": "execute_result",
          "data": {
            "text/plain": [
              "review_id           0\n",
              "product_id          0\n",
              "reviewer_id         0\n",
              "stars               0\n",
              "review_body         0\n",
              "review_title        0\n",
              "language            0\n",
              "product_category    0\n",
              "dtype: int64"
            ]
          },
          "metadata": {
            "tags": []
          },
          "execution_count": 13
        }
      ]
    },
    {
      "cell_type": "code",
      "metadata": {
        "colab": {
          "base_uri": "https://localhost:8080/"
        },
        "id": "CUxknOwVcI7k",
        "outputId": "fc3746fe-3219-4629-84b0-f6495ae7fc3f"
      },
      "source": [
        "dataset.isna().sum()"
      ],
      "execution_count": 14,
      "outputs": [
        {
          "output_type": "execute_result",
          "data": {
            "text/plain": [
              "review_id           0\n",
              "product_id          0\n",
              "reviewer_id         0\n",
              "stars               0\n",
              "review_body         0\n",
              "review_title        0\n",
              "language            0\n",
              "product_category    0\n",
              "dtype: int64"
            ]
          },
          "metadata": {
            "tags": []
          },
          "execution_count": 14
        }
      ]
    },
    {
      "cell_type": "markdown",
      "metadata": {
        "id": "fU0eDwJPciAE"
      },
      "source": [
        "Idioma - ¿ Que idiomas tengo disponibles en cada Dataset?\n",
        "\n",
        "*El idioma de las reseñas en todos los dataset es ESPAÑOL*"
      ]
    },
    {
      "cell_type": "code",
      "metadata": {
        "colab": {
          "base_uri": "https://localhost:8080/"
        },
        "id": "14HfIbvacsxM",
        "outputId": "2cee450e-0061-455e-dad5-658d048634d8"
      },
      "source": [
        "dataset_dep.language.value_counts()"
      ],
      "execution_count": 15,
      "outputs": [
        {
          "output_type": "execute_result",
          "data": {
            "text/plain": [
              "es    5000\n",
              "Name: language, dtype: int64"
            ]
          },
          "metadata": {
            "tags": []
          },
          "execution_count": 15
        }
      ]
    },
    {
      "cell_type": "code",
      "metadata": {
        "colab": {
          "base_uri": "https://localhost:8080/"
        },
        "id": "wg1dso5BgdzI",
        "outputId": "18d0379f-101e-4450-abf6-99889a5d55f9"
      },
      "source": [
        "dataset.language.value_counts()"
      ],
      "execution_count": 16,
      "outputs": [
        {
          "output_type": "execute_result",
          "data": {
            "text/plain": [
              "es    205000\n",
              "Name: language, dtype: int64"
            ]
          },
          "metadata": {
            "tags": []
          },
          "execution_count": 16
        }
      ]
    },
    {
      "cell_type": "markdown",
      "metadata": {
        "id": "KWAshl1Tkt0h"
      },
      "source": [
        "Exploración de reseñas\n",
        "\n",
        "*Reseña al azar y su calificación:*"
      ]
    },
    {
      "cell_type": "code",
      "metadata": {
        "colab": {
          "base_uri": "https://localhost:8080/"
        },
        "id": "o4h9ORG6krXY",
        "outputId": "17845210-d617-4446-aca0-4feed7d7c3f8"
      },
      "source": [
        "index_random = np.random.randint(0,high = dataset_dep.shape[0])\n",
        "reseña_dep = dataset_dep.iloc[index_random].review_title\n",
        "print(index_random, reseña_dep)\n",
        "print(index_random, dataset_dep.iloc[index_random].stars)"
      ],
      "execution_count": 90,
      "outputs": [
        {
          "output_type": "stream",
          "text": [
            "4033 comodos\n",
            "4033 5\n"
          ],
          "name": "stdout"
        }
      ]
    },
    {
      "cell_type": "code",
      "metadata": {
        "colab": {
          "base_uri": "https://localhost:8080/"
        },
        "id": "Ad3iLB2clmZq",
        "outputId": "b29f295a-9e46-470e-ac5a-8913f95cc45d"
      },
      "source": [
        "index_random = np.random.randint(0,high = dataset.shape[0])\n",
        "reseña = dataset.iloc[index_random].review_title\n",
        "print(index_random, reseña)\n",
        "print(index_random, dataset.iloc[index_random].stars)"
      ],
      "execution_count": 28,
      "outputs": [
        {
          "output_type": "stream",
          "text": [
            "68731 El material del cristal no es muy bueno pero está bien de precio\n",
            "68731 2\n"
          ],
          "name": "stdout"
        }
      ]
    },
    {
      "cell_type": "markdown",
      "metadata": {
        "id": "9XOJ4cvqmPf8"
      },
      "source": [
        "¿ Cúal es la categoría de producto mejor calificada ? ¿ Y la peor ?\n",
        "\n"
      ]
    },
    {
      "cell_type": "markdown",
      "metadata": {
        "id": "nhdFbC0Sa_kR"
      },
      "source": [
        "DATASET_DEV = *Como puede observarse, la categoría con mejor puntaje promedio asignado es digital_ebook_purchase (compra de libros digitalizados) y la categoría con peor puntaje promedio es musical_instruments (instrumentos musicales).*"
      ]
    },
    {
      "cell_type": "code",
      "metadata": {
        "colab": {
          "base_uri": "https://localhost:8080/",
          "height": 965
        },
        "id": "Zuwwe21dVPZx",
        "outputId": "8e1b22dc-4211-494f-b7c4-673e4b2981dc"
      },
      "source": [
        "ds=dataset_dep.pivot_table('stars', ['product_category'])\n",
        "ds = ds.sort_values('stars')\n",
        "ds"
      ],
      "execution_count": 19,
      "outputs": [
        {
          "output_type": "execute_result",
          "data": {
            "text/html": [
              "<div>\n",
              "<style scoped>\n",
              "    .dataframe tbody tr th:only-of-type {\n",
              "        vertical-align: middle;\n",
              "    }\n",
              "\n",
              "    .dataframe tbody tr th {\n",
              "        vertical-align: top;\n",
              "    }\n",
              "\n",
              "    .dataframe thead th {\n",
              "        text-align: right;\n",
              "    }\n",
              "</style>\n",
              "<table border=\"1\" class=\"dataframe\">\n",
              "  <thead>\n",
              "    <tr style=\"text-align: right;\">\n",
              "      <th></th>\n",
              "      <th>stars</th>\n",
              "    </tr>\n",
              "    <tr>\n",
              "      <th>product_category</th>\n",
              "      <th></th>\n",
              "    </tr>\n",
              "  </thead>\n",
              "  <tbody>\n",
              "    <tr>\n",
              "      <th>musical_instruments</th>\n",
              "      <td>2.652174</td>\n",
              "    </tr>\n",
              "    <tr>\n",
              "      <th>lawn_and_garden</th>\n",
              "      <td>2.673267</td>\n",
              "    </tr>\n",
              "    <tr>\n",
              "      <th>wireless</th>\n",
              "      <td>2.845238</td>\n",
              "    </tr>\n",
              "    <tr>\n",
              "      <th>automotive</th>\n",
              "      <td>2.849711</td>\n",
              "    </tr>\n",
              "    <tr>\n",
              "      <th>industrial_supplies</th>\n",
              "      <td>2.911765</td>\n",
              "    </tr>\n",
              "    <tr>\n",
              "      <th>video_games</th>\n",
              "      <td>2.930233</td>\n",
              "    </tr>\n",
              "    <tr>\n",
              "      <th>shoes</th>\n",
              "      <td>2.933333</td>\n",
              "    </tr>\n",
              "    <tr>\n",
              "      <th>home_improvement</th>\n",
              "      <td>2.939799</td>\n",
              "    </tr>\n",
              "    <tr>\n",
              "      <th>office_product</th>\n",
              "      <td>2.955357</td>\n",
              "    </tr>\n",
              "    <tr>\n",
              "      <th>watch</th>\n",
              "      <td>2.957447</td>\n",
              "    </tr>\n",
              "    <tr>\n",
              "      <th>toy</th>\n",
              "      <td>2.966867</td>\n",
              "    </tr>\n",
              "    <tr>\n",
              "      <th>home</th>\n",
              "      <td>2.968134</td>\n",
              "    </tr>\n",
              "    <tr>\n",
              "      <th>camera</th>\n",
              "      <td>2.968750</td>\n",
              "    </tr>\n",
              "    <tr>\n",
              "      <th>sports</th>\n",
              "      <td>2.969789</td>\n",
              "    </tr>\n",
              "    <tr>\n",
              "      <th>drugstore</th>\n",
              "      <td>2.970803</td>\n",
              "    </tr>\n",
              "    <tr>\n",
              "      <th>baby_product</th>\n",
              "      <td>2.982906</td>\n",
              "    </tr>\n",
              "    <tr>\n",
              "      <th>apparel</th>\n",
              "      <td>2.984962</td>\n",
              "    </tr>\n",
              "    <tr>\n",
              "      <th>electronics</th>\n",
              "      <td>3.031873</td>\n",
              "    </tr>\n",
              "    <tr>\n",
              "      <th>personal_care_appliances</th>\n",
              "      <td>3.038961</td>\n",
              "    </tr>\n",
              "    <tr>\n",
              "      <th>kitchen</th>\n",
              "      <td>3.051282</td>\n",
              "    </tr>\n",
              "    <tr>\n",
              "      <th>beauty</th>\n",
              "      <td>3.128205</td>\n",
              "    </tr>\n",
              "    <tr>\n",
              "      <th>furniture</th>\n",
              "      <td>3.133333</td>\n",
              "    </tr>\n",
              "    <tr>\n",
              "      <th>pet_products</th>\n",
              "      <td>3.134831</td>\n",
              "    </tr>\n",
              "    <tr>\n",
              "      <th>jewelry</th>\n",
              "      <td>3.147059</td>\n",
              "    </tr>\n",
              "    <tr>\n",
              "      <th>pc</th>\n",
              "      <td>3.150183</td>\n",
              "    </tr>\n",
              "    <tr>\n",
              "      <th>other</th>\n",
              "      <td>3.252427</td>\n",
              "    </tr>\n",
              "    <tr>\n",
              "      <th>luggage</th>\n",
              "      <td>3.287129</td>\n",
              "    </tr>\n",
              "    <tr>\n",
              "      <th>grocery</th>\n",
              "      <td>3.333333</td>\n",
              "    </tr>\n",
              "    <tr>\n",
              "      <th>book</th>\n",
              "      <td>3.373239</td>\n",
              "    </tr>\n",
              "    <tr>\n",
              "      <th>digital_ebook_purchase</th>\n",
              "      <td>3.529412</td>\n",
              "    </tr>\n",
              "  </tbody>\n",
              "</table>\n",
              "</div>"
            ],
            "text/plain": [
              "                             stars\n",
              "product_category                  \n",
              "musical_instruments       2.652174\n",
              "lawn_and_garden           2.673267\n",
              "wireless                  2.845238\n",
              "automotive                2.849711\n",
              "industrial_supplies       2.911765\n",
              "video_games               2.930233\n",
              "shoes                     2.933333\n",
              "home_improvement          2.939799\n",
              "office_product            2.955357\n",
              "watch                     2.957447\n",
              "toy                       2.966867\n",
              "home                      2.968134\n",
              "camera                    2.968750\n",
              "sports                    2.969789\n",
              "drugstore                 2.970803\n",
              "baby_product              2.982906\n",
              "apparel                   2.984962\n",
              "electronics               3.031873\n",
              "personal_care_appliances  3.038961\n",
              "kitchen                   3.051282\n",
              "beauty                    3.128205\n",
              "furniture                 3.133333\n",
              "pet_products              3.134831\n",
              "jewelry                   3.147059\n",
              "pc                        3.150183\n",
              "other                     3.252427\n",
              "luggage                   3.287129\n",
              "grocery                   3.333333\n",
              "book                      3.373239\n",
              "digital_ebook_purchase    3.529412"
            ]
          },
          "metadata": {
            "tags": []
          },
          "execution_count": 19
        }
      ]
    },
    {
      "cell_type": "markdown",
      "metadata": {
        "id": "Rr7yPZbDbEpV"
      },
      "source": [
        "DATASET = *Como puede observarse, la categoría con mejor puntaje promedio asignado es book (libros ) y la categoría con peor puntaje promedio es lawn_and_garden (productos de jardinería).*"
      ]
    },
    {
      "cell_type": "code",
      "metadata": {
        "colab": {
          "base_uri": "https://localhost:8080/",
          "height": 965
        },
        "id": "KmhBMG98bLkF",
        "outputId": "fd36acb8-71f7-4012-b6c4-39e0a41be6c4"
      },
      "source": [
        "ds=dataset.pivot_table('stars', ['product_category'])\n",
        "ds = ds.sort_values('stars')\n",
        "ds"
      ],
      "execution_count": 20,
      "outputs": [
        {
          "output_type": "execute_result",
          "data": {
            "text/html": [
              "<div>\n",
              "<style scoped>\n",
              "    .dataframe tbody tr th:only-of-type {\n",
              "        vertical-align: middle;\n",
              "    }\n",
              "\n",
              "    .dataframe tbody tr th {\n",
              "        vertical-align: top;\n",
              "    }\n",
              "\n",
              "    .dataframe thead th {\n",
              "        text-align: right;\n",
              "    }\n",
              "</style>\n",
              "<table border=\"1\" class=\"dataframe\">\n",
              "  <thead>\n",
              "    <tr style=\"text-align: right;\">\n",
              "      <th></th>\n",
              "      <th>stars</th>\n",
              "    </tr>\n",
              "    <tr>\n",
              "      <th>product_category</th>\n",
              "      <th></th>\n",
              "    </tr>\n",
              "  </thead>\n",
              "  <tbody>\n",
              "    <tr>\n",
              "      <th>lawn_and_garden</th>\n",
              "      <td>2.765179</td>\n",
              "    </tr>\n",
              "    <tr>\n",
              "      <th>wireless</th>\n",
              "      <td>2.820923</td>\n",
              "    </tr>\n",
              "    <tr>\n",
              "      <th>apparel</th>\n",
              "      <td>2.867029</td>\n",
              "    </tr>\n",
              "    <tr>\n",
              "      <th>electronics</th>\n",
              "      <td>2.887772</td>\n",
              "    </tr>\n",
              "    <tr>\n",
              "      <th>jewelry</th>\n",
              "      <td>2.925137</td>\n",
              "    </tr>\n",
              "    <tr>\n",
              "      <th>beauty</th>\n",
              "      <td>2.935703</td>\n",
              "    </tr>\n",
              "    <tr>\n",
              "      <th>automotive</th>\n",
              "      <td>2.958208</td>\n",
              "    </tr>\n",
              "    <tr>\n",
              "      <th>home</th>\n",
              "      <td>2.982869</td>\n",
              "    </tr>\n",
              "    <tr>\n",
              "      <th>pet_products</th>\n",
              "      <td>2.993176</td>\n",
              "    </tr>\n",
              "    <tr>\n",
              "      <th>watch</th>\n",
              "      <td>2.996053</td>\n",
              "    </tr>\n",
              "    <tr>\n",
              "      <th>drugstore</th>\n",
              "      <td>3.005495</td>\n",
              "    </tr>\n",
              "    <tr>\n",
              "      <th>kitchen</th>\n",
              "      <td>3.013533</td>\n",
              "    </tr>\n",
              "    <tr>\n",
              "      <th>personal_care_appliances</th>\n",
              "      <td>3.024330</td>\n",
              "    </tr>\n",
              "    <tr>\n",
              "      <th>sports</th>\n",
              "      <td>3.031349</td>\n",
              "    </tr>\n",
              "    <tr>\n",
              "      <th>home_improvement</th>\n",
              "      <td>3.035813</td>\n",
              "    </tr>\n",
              "    <tr>\n",
              "      <th>toy</th>\n",
              "      <td>3.040726</td>\n",
              "    </tr>\n",
              "    <tr>\n",
              "      <th>furniture</th>\n",
              "      <td>3.053124</td>\n",
              "    </tr>\n",
              "    <tr>\n",
              "      <th>pc</th>\n",
              "      <td>3.065083</td>\n",
              "    </tr>\n",
              "    <tr>\n",
              "      <th>industrial_supplies</th>\n",
              "      <td>3.073781</td>\n",
              "    </tr>\n",
              "    <tr>\n",
              "      <th>other</th>\n",
              "      <td>3.077954</td>\n",
              "    </tr>\n",
              "    <tr>\n",
              "      <th>office_product</th>\n",
              "      <td>3.089220</td>\n",
              "    </tr>\n",
              "    <tr>\n",
              "      <th>baby_product</th>\n",
              "      <td>3.090946</td>\n",
              "    </tr>\n",
              "    <tr>\n",
              "      <th>shoes</th>\n",
              "      <td>3.104034</td>\n",
              "    </tr>\n",
              "    <tr>\n",
              "      <th>camera</th>\n",
              "      <td>3.104300</td>\n",
              "    </tr>\n",
              "    <tr>\n",
              "      <th>video_games</th>\n",
              "      <td>3.122254</td>\n",
              "    </tr>\n",
              "    <tr>\n",
              "      <th>grocery</th>\n",
              "      <td>3.154562</td>\n",
              "    </tr>\n",
              "    <tr>\n",
              "      <th>musical_instruments</th>\n",
              "      <td>3.227913</td>\n",
              "    </tr>\n",
              "    <tr>\n",
              "      <th>luggage</th>\n",
              "      <td>3.293721</td>\n",
              "    </tr>\n",
              "    <tr>\n",
              "      <th>digital_ebook_purchase</th>\n",
              "      <td>3.356499</td>\n",
              "    </tr>\n",
              "    <tr>\n",
              "      <th>book</th>\n",
              "      <td>3.405681</td>\n",
              "    </tr>\n",
              "  </tbody>\n",
              "</table>\n",
              "</div>"
            ],
            "text/plain": [
              "                             stars\n",
              "product_category                  \n",
              "lawn_and_garden           2.765179\n",
              "wireless                  2.820923\n",
              "apparel                   2.867029\n",
              "electronics               2.887772\n",
              "jewelry                   2.925137\n",
              "beauty                    2.935703\n",
              "automotive                2.958208\n",
              "home                      2.982869\n",
              "pet_products              2.993176\n",
              "watch                     2.996053\n",
              "drugstore                 3.005495\n",
              "kitchen                   3.013533\n",
              "personal_care_appliances  3.024330\n",
              "sports                    3.031349\n",
              "home_improvement          3.035813\n",
              "toy                       3.040726\n",
              "furniture                 3.053124\n",
              "pc                        3.065083\n",
              "industrial_supplies       3.073781\n",
              "other                     3.077954\n",
              "office_product            3.089220\n",
              "baby_product              3.090946\n",
              "shoes                     3.104034\n",
              "camera                    3.104300\n",
              "video_games               3.122254\n",
              "grocery                   3.154562\n",
              "musical_instruments       3.227913\n",
              "luggage                   3.293721\n",
              "digital_ebook_purchase    3.356499\n",
              "book                      3.405681"
            ]
          },
          "metadata": {
            "tags": []
          },
          "execution_count": 20
        }
      ]
    },
    {
      "cell_type": "markdown",
      "metadata": {
        "id": "qtvcFkoqVvqe"
      },
      "source": [
        "# PARTE B"
      ]
    },
    {
      "cell_type": "markdown",
      "metadata": {
        "id": "JSEfotjrVz_n"
      },
      "source": [
        "Parte B - Modelo de Machine Learning. En esta sección deberás aplicar las técnicas de Machine Learning aprendidas para crear un modelo predictivo a partir del dataset provisto.\n",
        "\n",
        "Debes evaluar correctamente el modelo que realices. Esto implica un correcto manejo de datos de Train y Test, elegir una métrica apropiada y justificar su elección, y comparar los resultados contra un modelo benchmark.\n"
      ]
    },
    {
      "cell_type": "markdown",
      "metadata": {
        "id": "VaOaGQRBaMDy"
      },
      "source": [
        "**TOKENIZACIÓN**\n",
        "\n",
        "Pasar de un único string de texto a una lista de string de oraciones."
      ]
    },
    {
      "cell_type": "code",
      "metadata": {
        "colab": {
          "base_uri": "https://localhost:8080/"
        },
        "id": "rLsPGpLA4ZHO",
        "outputId": "e01ea539-ec8e-40a6-c304-fe109ce94bf5"
      },
      "source": [
        "#importo spacy en español\n",
        "import spacy.cli\n",
        "spacy.cli.download(\"es_core_news_sm\")"
      ],
      "execution_count": 21,
      "outputs": [
        {
          "output_type": "stream",
          "text": [
            "\u001b[38;5;2m✔ Download and installation successful\u001b[0m\n",
            "You can now load the model via spacy.load('es_core_news_sm')\n"
          ],
          "name": "stdout"
        }
      ]
    },
    {
      "cell_type": "code",
      "metadata": {
        "id": "-UxtTtPY601z"
      },
      "source": [
        "from spacy import displacy"
      ],
      "execution_count": 22,
      "outputs": []
    },
    {
      "cell_type": "code",
      "metadata": {
        "id": "oWv9Ry9JslBL"
      },
      "source": [
        "#Para generar un análisis se tiene que crear un objeto del modelo\n",
        "nlp = spacy.load('es_core_news_sm') "
      ],
      "execution_count": 23,
      "outputs": []
    },
    {
      "cell_type": "code",
      "metadata": {
        "colab": {
          "base_uri": "https://localhost:8080/"
        },
        "id": "gryypI-2QaqN",
        "outputId": "1a6295a4-2c45-424f-957f-f4fd24815ef4"
      },
      "source": [
        "#Analizando el texto con Spacy, la variable doc contiene una versión analizada del texto, \n",
        "#aunque aparentemente se mantuvo sin cambios se generaron atributos y propiedades partidas\n",
        "# del análisis del texto\n",
        "doc=nlp(reseña)\n",
        "print(doc)"
      ],
      "execution_count": 29,
      "outputs": [
        {
          "output_type": "stream",
          "text": [
            "El material del cristal no es muy bueno pero está bien de precio\n"
          ],
          "name": "stdout"
        }
      ]
    },
    {
      "cell_type": "code",
      "metadata": {
        "colab": {
          "base_uri": "https://localhost:8080/"
        },
        "id": "gpW0uewgRiiH",
        "outputId": "fffc8deb-5be7-40c8-af91-23fb8f5822a7"
      },
      "source": [
        "#Para tokenizar oraciones\n",
        "for num,oracion in enumerate(doc.sents):\n",
        "    print(f'{num}: {oracion}')\n",
        "\n",
        "#Una oración, por ser el titular "
      ],
      "execution_count": 30,
      "outputs": [
        {
          "output_type": "stream",
          "text": [
            "0: El material del cristal no es muy bueno pero está bien de precio\n"
          ],
          "name": "stdout"
        }
      ]
    },
    {
      "cell_type": "code",
      "metadata": {
        "colab": {
          "base_uri": "https://localhost:8080/"
        },
        "id": "qgVdPQFvSFnj",
        "outputId": "0eb8f3aa-6ea7-4b10-d83d-db1374e54723"
      },
      "source": [
        "#Para tokenizar palabras\n",
        "for palabra in doc:\n",
        "    print(palabra.text)"
      ],
      "execution_count": 31,
      "outputs": [
        {
          "output_type": "stream",
          "text": [
            "El\n",
            "material\n",
            "del\n",
            "cristal\n",
            "no\n",
            "es\n",
            "muy\n",
            "bueno\n",
            "pero\n",
            "está\n",
            "bien\n",
            "de\n",
            "precio\n"
          ],
          "name": "stdout"
        }
      ]
    },
    {
      "cell_type": "code",
      "metadata": {
        "id": "4MR1gtNNAYYC"
      },
      "source": [
        "from spacy.pipeline import EntityRuler\n",
        "nlp = spacy.load('es_core_news_sm')\n",
        "ruler = EntityRuler(nlp, overwrite_ents=True)\n",
        "#Esto es para que me deje sobreescribir el pipeline"
      ],
      "execution_count": 32,
      "outputs": []
    },
    {
      "cell_type": "code",
      "metadata": {
        "colab": {
          "base_uri": "https://localhost:8080/"
        },
        "id": "O_JVdzH59vpM",
        "outputId": "5627a9f9-e30e-4085-ba9d-77caa3d0497b"
      },
      "source": [
        "#Separo en oraciones a la reseña\n",
        "orac = nlp.create_pipe('sentencizer') # En esta primer etapa del Pipeline, separo las frases\n",
        "nlp.add_pipe(orac, before='parser')  #identifica componentes gramaticales y los vuelve oración\n",
        "doc=nlp(reseña)\n",
        "for orac in doc.sents: #(.sents es para mostrar las oraciones en frases, en este caso hay una sola)\n",
        "    print(orac)"
      ],
      "execution_count": 33,
      "outputs": [
        {
          "output_type": "stream",
          "text": [
            "El material del cristal no es muy bueno pero está bien de precio\n"
          ],
          "name": "stdout"
        }
      ]
    },
    {
      "cell_type": "code",
      "metadata": {
        "colab": {
          "base_uri": "https://localhost:8080/"
        },
        "id": "tODl7Gk1StXm",
        "outputId": "05308050-ba3e-4b39-ebb6-d7d58c075d19"
      },
      "source": [
        "# Para hacer una lista de tokens\n",
        "lista_palabras=[palabra.text.replace('\\n','') for palabra in doc[:30]]\n",
        "print(lista_palabras)"
      ],
      "execution_count": 34,
      "outputs": [
        {
          "output_type": "stream",
          "text": [
            "['El', 'material', 'del', 'cristal', 'no', 'es', 'muy', 'bueno', 'pero', 'está', 'bien', 'de', 'precio']\n"
          ],
          "name": "stdout"
        }
      ]
    },
    {
      "cell_type": "code",
      "metadata": {
        "colab": {
          "base_uri": "https://localhost:8080/"
        },
        "id": "GdDnScki-MLf",
        "outputId": "bf08bac6-9a11-4497-a9b7-87cca304ae9d"
      },
      "source": [
        "#Stop Words de es_core_news_sm\n",
        "from spacy.lang.es.stop_words import STOP_WORDS\n",
        "stopwords_spacy = list(STOP_WORDS)\n",
        "print(stopwords_spacy)\n",
        "len(stopwords_spacy)"
      ],
      "execution_count": 35,
      "outputs": [
        {
          "output_type": "stream",
          "text": [
            "['qué', 'supuesto', 'cuantas', 'siete', 'mismo', 'misma', 'nunca', 'uso', 'ampleamos', 'bastante', 'intento', 'nuevo', 'cuántos', 'poca', 'quizá', 'informo', 'dio', 'detrás', 'aquéllos', 'he', 'pudo', 'estar', 'valor', 'adelante', 'demás', 'vais', 'ellas', 'existe', 'queremos', 'sois', 'ha', 'entonces', 'usted', 'vuestro', 'cuánto', 'allí', 'próximos', 'un', 'fuimos', 'hacerlo', 'era', 'cada', 'manera', 'ésos', 'pues', 'me', 'siguiente', 'ocho', 'sin', 'tuyo', 'breve', 'lugar', 'solas', 'otros', 'usais', 'mientras', 'su', 'cuando', 'fueron', 'mía', 'estaba', 'son', 'tu', 'consigo', 'pasada', 'consideró', 'consigues', 'bien', 'de', 'sabe', 'suyas', 'arribaabajo', 'ver', 'emplear', 'antano', 'dado', 'si', 'alrededor', 'dentro', 'gran', 'la', 'dos', 'nuestro', 'varias', 'estaban', 'mios', 'raras', 'unas', 'saben', 'intentar', 'conseguimos', 'debido', 'mismas', 'nuestras', 'usa', 'había', 'sea', 'hacer', 'desde', 'ellos', 'muchas', 'yo', 'quizas', 'sabes', 'ti', 'dice', 'estamos', 'algún', 'dieron', 'arriba', 'sobre', 'actualmente', 'últimas', 'mis', 'trabajas', 'últimos', 'ningunos', 'contigo', 'pasado', 'salvo', 'ya', 'horas', 'nosotras', 'hoy', 'podrían', 'somos', 'eramos', 'habia', 'estará', 'teneis', 'es', 'ayer', 'sola', 'soyos', 'ciertos', 'atras', 'tenía', 'tuya', 'trabajan', 'ninguna', 'algunos', 'antaño', 'ir', 'estas', 'serán', 'ésta', 'nada', 'enseguida', 'suya', 'parte', 'unos', 'menos', 'primeros', 'saber', 'estados', 'haya', 'puedo', 'mio', 'poder', 'cinco', 'segundo', 'ésa', 'incluso', 'aquéllas', 'ello', 'excepto', 'han', 'ni', 'largo', 'tras', 'sigue', 'sus', 'buena', 'hicieron', 'realizó', 'va', 'podriamos', 'podrán', 'qeu', 'quiza', 'cuándo', 'conseguir', 'empleas', 'verdad', 'repente', 'tuyas', 'intentas', 'junto', 'vuestros', 'puede', 'tenemos', 'ademas', 'mismos', 'del', 'vaya', 'éste', 'haces', 'anterior', 'dias', 'luego', 'propio', 'aquellos', 'momento', 'uno', 'nuestra', 'general', 'cosas', 'habían', 'adrede', 'nos', 'con', 'todavía', 'así', 'cual', 'empleo', 'igual', 'último', 'dia', 'mí', 'además', 'dejó', 'respecto', 'para', 'mío', 'todavia', 'solamente', 'nosotros', 'no', 'intenta', 'donde', 'más', 'muchos', 'durante', 'tendrá', 'consiguen', 'segun', 'hacen', 'eras', 'vosotras', 'verdadera', 'pueda', 'bueno', 'ninguno', 'hasta', 'podeis', 'señaló', 'apenas', 'tal', 'primer', 'debe', 'agregó', 'mucha', 'al', 'tiempo', 'través', 'existen', 'está', 'última', 'creo', 'próximo', 'tres', 'quién', 'usas', 'estado', 'deprisa', 'le', 'mías', 'total', 'ese', 'esa', 'nuevas', 'eso', 'esos', 'sera', 'también', 'habrá', 'podrian', 'diferente', 'cualquier', 'sería', 'hay', 'posible', 'días', 'final', 'haceis', 'tener', 'vuestras', 'una', 'fue', 'suyo', 'propia', 'tenga', 'que', 'será', 'habla', 'aun', 'trata', 'estan', 'segunda', 'otro', 'estuvo', 'veces', 'intentamos', 'intentais', 'temprano', 'siempre', 'casi', 'hablan', 'pocos', 'despues', 'despacio', 'ningún', 'ahí', 'tuvo', 'podriais', 'el', 'ella', 'emplean', 'hecho', 'míos', 'todos', 'porque', 'quiénes', 'cuáles', 'quizás', 'indicó', 'él', 'cuanta', 'debajo', 'aunque', 'haber', 'les', 'detras', 'aquel', 'lo', 'dan', 'aqui', 'sabemos', 'aproximadamente', 'quiere', 'tendrán', 'modo', 'cuatro', 'nuevos', 'van', 'ambos', 'toda', 'se', 'expresó', 'aseguró', 'dijeron', 'principalmente', 'nueva', 'hacemos', 'voy', 'usar', 'propias', 'aquellas', 'ése', 'poner', 'delante', 'conocer', 'podrias', 'mia', 'dar', 'dónde', 'trabajo', 'esas', 'fuera', 'quedó', 'haciendo', 'pero', 'llegó', 'alli', 'tiene', 'proximo', 'algo', 'sí', 'aún', 'mi', 'tampoco', 'aquí', 'mas', 'trabajais', 'este', 'mediante', 'buenas', 'hacia', 'lleva', 'trabaja', 'tarde', 'tuyos', 'esto', 'aquélla', 'esta', 'informó', 'alguno', 'aquél', 'conmigo', 'realizado', 'cuál', 'tienen', 'gueno', 'pesar', 'nadie', 'añadió', 'quien', 'pais', 'diferentes', 'las', 'según', 'bajo', 'demasiado', 'grandes', 'vamos', 'soy', 'encima', 'deben', 'sino', 'eres', 'cuenta', 'podemos', 'ahi', 'buen', 'da', 'manifestó', 'por', 'podría', 'en', 'como', 'ante', 'tambien', 'ésas', 'parece', 'fui', 'cierto', 'vosotros', 'después', 'poco', 'todo', 'fin', 'pocas', 'varios', 'cierta', 'todas', 'intentan', 'nuestros', 'otras', 'cuales', 'éstos', 'cerca', 'mayor', 'mucho', 'antes', 'sabeis', 'vez', 'entre', 'mal', 'tanto', 'sean', 'pueden', 'lado', 'te', 'cómo', 'hizo', 'solos', 'estos', 'partir', 'mias', 'eran', 'quienes', 'llevar', 'usamos', 'hemos', 'usan', 'ningunas', 'trabajamos', 'hago', 'comentó', 'tengo', 'menudo', 'cuantos', 'afirmó', 'dicen', 'siendo', 'podrá', 'solo', 'estoy', 'buenos', 'algunas', 'propios', 'pronto', 'medio', 'primero', 'trabajar', 'ejemplo', 'acuerdo', 'cuántas', 'hubo', 'tus', 'ustedes', 'os', 'ser', 'tú', 'día', 'peor', 'dicho', 'decir', 'estais', 'tercera', 'podria', 'verdadero', 'tenido', 'tan', 'éstas', 'asi', 'vuestra', 'muy', 'ciertas', 'los', 'paìs', 'sido', 'encuentra', 'primera', 'alguna', 'mejor', 'ultimo', 'realizar', 'seis', 'dijo', 'mencionó', 'cuánta', 'aquella', 'hace', 'contra', 'otra', 'aquello', 'están', 'lejos', 'embargo', 'claro', 'sé', 'explicó', 'ahora', 'considera', 'cuanto', 'sólo', 'consigue', 'empleais', 'enfrente', 'ex']\n"
          ],
          "name": "stdout"
        },
        {
          "output_type": "execute_result",
          "data": {
            "text/plain": [
              "551"
            ]
          },
          "metadata": {
            "tags": []
          },
          "execution_count": 35
        }
      ]
    },
    {
      "cell_type": "code",
      "metadata": {
        "colab": {
          "base_uri": "https://localhost:8080/"
        },
        "id": "u8ye_Ody-dJR",
        "outputId": "30a2904e-3d9b-4afc-fddc-18779f773828"
      },
      "source": [
        "#Elimino Stopwords de la reseña\n",
        "for palabra in doc:\n",
        "    if palabra.is_stop == False:\n",
        "        print(palabra)"
      ],
      "execution_count": 36,
      "outputs": [
        {
          "output_type": "stream",
          "text": [
            "material\n",
            "cristal\n",
            "precio\n"
          ],
          "name": "stdout"
        }
      ]
    },
    {
      "cell_type": "code",
      "metadata": {
        "colab": {
          "base_uri": "https://localhost:8080/"
        },
        "id": "nun-VFO3BzEU",
        "outputId": "7fa7990e-906f-4d77-f919-8b29b68c47a9"
      },
      "source": [
        "#Lemmatización\n",
        "doc = nlp(reseña)\n",
        "for lem in doc:\n",
        "    print(lem.text, lem.lemma_)"
      ],
      "execution_count": 37,
      "outputs": [
        {
          "output_type": "stream",
          "text": [
            "El El\n",
            "material material\n",
            "del del\n",
            "cristal cristal\n",
            "no no\n",
            "es ser\n",
            "muy muy\n",
            "bueno bueno\n",
            "pero pero\n",
            "está estar\n",
            "bien bien\n",
            "de de\n",
            "precio preciar\n"
          ],
          "name": "stdout"
        }
      ]
    },
    {
      "cell_type": "markdown",
      "metadata": {
        "id": "Wf1cIq58Fr8t"
      },
      "source": [
        "**DATASET COMPLETO**"
      ]
    },
    {
      "cell_type": "markdown",
      "metadata": {
        "id": "0vNakiXS9ftw"
      },
      "source": [
        "**MODELO**\n",
        "\n",
        "* Benchmark: utilizo como feature REVIEW TITTLE (Título de Reseña)\n",
        "\n",
        "* Modelo: utilizo como feature REVIEW BODY (Cuerpo de Reseña)"
      ]
    },
    {
      "cell_type": "code",
      "metadata": {
        "id": "Vv-D--lXFXZD"
      },
      "source": [
        "#Importo librerías de aprendizaje\n",
        "from sklearn.feature_extraction.text import TfidfVectorizer\n",
        "from sklearn.pipeline import Pipeline\n",
        "from sklearn.model_selection import train_test_split\n",
        "from sklearn.metrics import accuracy_score, classification_report, confusion_matrix"
      ],
      "execution_count": 38,
      "outputs": []
    },
    {
      "cell_type": "code",
      "metadata": {
        "colab": {
          "base_uri": "https://localhost:8080/",
          "height": 35
        },
        "id": "t-yZIeLZFm_B",
        "outputId": "1f19e1c3-1934-4c80-fb93-767362aabc54"
      },
      "source": [
        "#signos de puntuación\n",
        "import string\n",
        "puntua = string.punctuation + '¡¿'\n",
        "puntua"
      ],
      "execution_count": 39,
      "outputs": [
        {
          "output_type": "execute_result",
          "data": {
            "application/vnd.google.colaboratory.intrinsic+json": {
              "type": "string"
            },
            "text/plain": [
              "'!\"#$%&\\'()*+,-./:;<=>?@[\\\\]^_`{|}~¡¿'"
            ]
          },
          "metadata": {
            "tags": []
          },
          "execution_count": 39
        }
      ]
    },
    {
      "cell_type": "code",
      "metadata": {
        "id": "8AyrAVzlFpeS"
      },
      "source": [
        "#Función para limpieza de datos\n",
        "def text_data_cleaning(sentence):\n",
        "    doc = nlp(sentence)\n",
        "    \n",
        "    palabras = []\n",
        "    for palabra in doc:\n",
        "        if palabra.lemma_ != \"-PRON-\":\n",
        "            temp = palabra.lemma_.strip()\n",
        "        else:\n",
        "            temp = palabra\n",
        "        palabras.append(temp)\n",
        "    \n",
        "    clean_palabras = []\n",
        "    for palabra in palabras:\n",
        "        if palabra not in stopwords_spacy and palabra not in puntua:\n",
        "            clean_palabras.append(palabra)\n",
        "    \n",
        "    return clean_palabras"
      ],
      "execution_count": 40,
      "outputs": []
    },
    {
      "cell_type": "code",
      "metadata": {
        "colab": {
          "base_uri": "https://localhost:8080/"
        },
        "id": "A4EvMP6XHbcU",
        "outputId": "90714c18-5fd5-4bc3-ecd5-587dbcd62efd"
      },
      "source": [
        "#Ej. para probar función\n",
        "\n",
        "text_data_cleaning(reseña)"
      ],
      "execution_count": 41,
      "outputs": [
        {
          "output_type": "execute_result",
          "data": {
            "text/plain": [
              "['El', 'material', 'cristal', 'preciar']"
            ]
          },
          "metadata": {
            "tags": []
          },
          "execution_count": 41
        }
      ]
    },
    {
      "cell_type": "code",
      "metadata": {
        "id": "wx85ZY11Hrw4"
      },
      "source": [
        "#VECTORIZACIÓN\n",
        "\n",
        "#importo librería de vectorización\n",
        "from sklearn.svm import LinearSVC"
      ],
      "execution_count": 42,
      "outputs": []
    },
    {
      "cell_type": "code",
      "metadata": {
        "id": "5nCRiUAeH23c"
      },
      "source": [
        "#Defino la función de tokenizado y creo el clasificador\n",
        "tfidf = TfidfVectorizer(tokenizer = text_data_cleaning)\n",
        "classifier = LinearSVC()"
      ],
      "execution_count": 43,
      "outputs": []
    },
    {
      "cell_type": "markdown",
      "metadata": {
        "id": "bNHEZUBY-HE1"
      },
      "source": [
        "*Benchmark*"
      ]
    },
    {
      "cell_type": "code",
      "metadata": {
        "id": "zM0A83kgIU2x"
      },
      "source": [
        "#Creo los vectores de datos\n",
        "X = dataset['review_title']\n",
        "y = dataset['stars']"
      ],
      "execution_count": 44,
      "outputs": []
    },
    {
      "cell_type": "code",
      "metadata": {
        "colab": {
          "base_uri": "https://localhost:8080/"
        },
        "id": "mN0WYMAUIxEj",
        "outputId": "4aee899d-749a-4740-8fe3-a3db9402f0ca"
      },
      "source": [
        "#Creo el vector de entrenamiento como una porción de los datos y dejo el resto para pruebas #test 0.3, train= 0.7\n",
        "X_train, X_test, y_train, y_test = train_test_split(X, y, test_size=0.3, random_state=42)\n",
        "X_train.shape, X_test.shape, y_train.shape, y_test.shape"
      ],
      "execution_count": 45,
      "outputs": [
        {
          "output_type": "execute_result",
          "data": {
            "text/plain": [
              "((143500,), (61500,), (143500,), (61500,))"
            ]
          },
          "metadata": {
            "tags": []
          },
          "execution_count": 45
        }
      ]
    },
    {
      "cell_type": "code",
      "metadata": {
        "colab": {
          "base_uri": "https://localhost:8080/"
        },
        "id": "fQr3hlM9JI0e",
        "outputId": "20b8cbd1-85e7-4428-9aaa-82f914c42700"
      },
      "source": [
        "X_train.head()"
      ],
      "execution_count": 46,
      "outputs": [
        {
          "output_type": "execute_result",
          "data": {
            "text/plain": [
              "196144                                             Práctico\n",
              "60473                                          No muy bueno\n",
              "76076     es bonito y parece buen material, pero si se d...\n",
              "170434                                                    A\n",
              "26744                                           Son dina a5\n",
              "Name: review_title, dtype: object"
            ]
          },
          "metadata": {
            "tags": []
          },
          "execution_count": 46
        }
      ]
    },
    {
      "cell_type": "code",
      "metadata": {
        "id": "CuB2e6PGJP7d"
      },
      "source": [
        "#Creo un pipeline\n",
        "clf = Pipeline([('tfidf', tfidf), ('clf', classifier)])"
      ],
      "execution_count": 47,
      "outputs": []
    },
    {
      "cell_type": "code",
      "metadata": {
        "colab": {
          "base_uri": "https://localhost:8080/"
        },
        "id": "Vg_ZmpbqJUDF",
        "outputId": "0a7a65cb-46cd-4584-fa51-533d67baf2e5"
      },
      "source": [
        "#Entreno el clasificador\n",
        "clf.fit(X_train, y_train)"
      ],
      "execution_count": 48,
      "outputs": [
        {
          "output_type": "execute_result",
          "data": {
            "text/plain": [
              "Pipeline(memory=None,\n",
              "         steps=[('tfidf',\n",
              "                 TfidfVectorizer(analyzer='word', binary=False,\n",
              "                                 decode_error='strict',\n",
              "                                 dtype=<class 'numpy.float64'>,\n",
              "                                 encoding='utf-8', input='content',\n",
              "                                 lowercase=True, max_df=1.0, max_features=None,\n",
              "                                 min_df=1, ngram_range=(1, 1), norm='l2',\n",
              "                                 preprocessor=None, smooth_idf=True,\n",
              "                                 stop_words=None, strip_accents=None,\n",
              "                                 sublinear_tf=False,\n",
              "                                 token_pattern='(?u)\\\\b\\\\w\\\\w+\\\\b',\n",
              "                                 tokenizer=<function text_data_cleaning at 0x7fddfd70abf8>,\n",
              "                                 use_idf=True, vocabulary=None)),\n",
              "                ('clf',\n",
              "                 LinearSVC(C=1.0, class_weight=None, dual=True,\n",
              "                           fit_intercept=True, intercept_scaling=1,\n",
              "                           loss='squared_hinge', max_iter=1000,\n",
              "                           multi_class='ovr', penalty='l2', random_state=None,\n",
              "                           tol=0.0001, verbose=0))],\n",
              "         verbose=False)"
            ]
          },
          "metadata": {
            "tags": []
          },
          "execution_count": 48
        }
      ]
    },
    {
      "cell_type": "code",
      "metadata": {
        "id": "OE-ozD3DJkkP"
      },
      "source": [
        "#Valores predichos a partir del clasificador\n",
        "y_pred = clf.predict(X_test)"
      ],
      "execution_count": 49,
      "outputs": []
    },
    {
      "cell_type": "code",
      "metadata": {
        "colab": {
          "base_uri": "https://localhost:8080/"
        },
        "id": "tz-Jdmr-JylZ",
        "outputId": "ba76a3c7-d031-4ac2-a9e1-d25269cb20e3"
      },
      "source": [
        "#Precisión obtenida\n",
        "print(classification_report(y_test, y_pred))"
      ],
      "execution_count": 50,
      "outputs": [
        {
          "output_type": "stream",
          "text": [
            "              precision    recall  f1-score   support\n",
            "\n",
            "           1       0.53      0.57      0.55     12311\n",
            "           2       0.36      0.32      0.34     12204\n",
            "           3       0.35      0.26      0.30     12161\n",
            "           4       0.34      0.42      0.37     12385\n",
            "           5       0.47      0.50      0.49     12439\n",
            "\n",
            "    accuracy                           0.41     61500\n",
            "   macro avg       0.41      0.41      0.41     61500\n",
            "weighted avg       0.41      0.41      0.41     61500\n",
            "\n"
          ],
          "name": "stdout"
        }
      ]
    },
    {
      "cell_type": "code",
      "metadata": {
        "colab": {
          "base_uri": "https://localhost:8080/"
        },
        "id": "1yajDeaPJ1iA",
        "outputId": "e2f7b44e-032d-4c97-f22f-429d768371f2"
      },
      "source": [
        "#Creo la matriz de confusión\n",
        "confusion_matrix(y_test, y_pred)"
      ],
      "execution_count": 51,
      "outputs": [
        {
          "output_type": "execute_result",
          "data": {
            "text/plain": [
              "array([[6992, 2387,  976, 1207,  749],\n",
              "       [3164, 3876, 2438, 1726, 1000],\n",
              "       [1466, 2611, 3136, 3483, 1465],\n",
              "       [ 853, 1152, 1487, 5237, 3656],\n",
              "       [ 664,  862,  811, 3911, 6191]])"
            ]
          },
          "metadata": {
            "tags": []
          },
          "execution_count": 51
        }
      ]
    },
    {
      "cell_type": "code",
      "metadata": {
        "colab": {
          "base_uri": "https://localhost:8080/"
        },
        "id": "byTFWhBpJ6AR",
        "outputId": "d4dd0cb5-3a5c-430e-839d-c89c90db281e"
      },
      "source": [
        "#Predicción: algunas frases de prueba [ej.1]\n",
        "clf.predict(['Realmente me gustó mucho'])"
      ],
      "execution_count": 53,
      "outputs": [
        {
          "output_type": "execute_result",
          "data": {
            "text/plain": [
              "array([2])"
            ]
          },
          "metadata": {
            "tags": []
          },
          "execution_count": 53
        }
      ]
    },
    {
      "cell_type": "code",
      "metadata": {
        "colab": {
          "base_uri": "https://localhost:8080/"
        },
        "id": "mumarBg4KGW1",
        "outputId": "cd951b5f-b7b9-4ccc-f3f1-f12eb8183c33"
      },
      "source": [
        "#Predicción: algunas frases de prueba [ej.2]\n",
        "clf.predict(['Horrible, no me gustó'])"
      ],
      "execution_count": 54,
      "outputs": [
        {
          "output_type": "execute_result",
          "data": {
            "text/plain": [
              "array([1])"
            ]
          },
          "metadata": {
            "tags": []
          },
          "execution_count": 54
        }
      ]
    },
    {
      "cell_type": "code",
      "metadata": {
        "colab": {
          "base_uri": "https://localhost:8080/"
        },
        "id": "rioDDBfmKMF4",
        "outputId": "00e0d426-84d8-46d0-a3f1-46db865f1f65"
      },
      "source": [
        "#Predicción: algunas frases de prueba [ej.3]\n",
        "clf.predict(['Llegó bien'])"
      ],
      "execution_count": 55,
      "outputs": [
        {
          "output_type": "execute_result",
          "data": {
            "text/plain": [
              "array([1])"
            ]
          },
          "metadata": {
            "tags": []
          },
          "execution_count": 55
        }
      ]
    },
    {
      "cell_type": "code",
      "metadata": {
        "colab": {
          "base_uri": "https://localhost:8080/"
        },
        "id": "ZA1L-tIOKS-z",
        "outputId": "9ddc2eb2-8e59-4616-acde-9145dc036dd0"
      },
      "source": [
        "#Predicción: algunas frases de prueba [ej.4]\n",
        "clf.predict(['Es lo que esperaba, pero no llegó a tiempo'])"
      ],
      "execution_count": 56,
      "outputs": [
        {
          "output_type": "execute_result",
          "data": {
            "text/plain": [
              "array([1])"
            ]
          },
          "metadata": {
            "tags": []
          },
          "execution_count": 56
        }
      ]
    },
    {
      "cell_type": "code",
      "metadata": {
        "colab": {
          "base_uri": "https://localhost:8080/"
        },
        "id": "UnUGA8aOKai6",
        "outputId": "0071539d-f479-4072-90b2-c02c555fada8"
      },
      "source": [
        "#Predicción: algunas frases de prueba [ej.5]\n",
        "clf.predict(['Esperaba mayor calidad'])"
      ],
      "execution_count": 57,
      "outputs": [
        {
          "output_type": "execute_result",
          "data": {
            "text/plain": [
              "array([2])"
            ]
          },
          "metadata": {
            "tags": []
          },
          "execution_count": 57
        }
      ]
    },
    {
      "cell_type": "markdown",
      "metadata": {
        "id": "fmkXZOnSGlD9"
      },
      "source": [
        "Se obtuvo en el modelo de Benchmark un accuracy de 0,41. Puede comprobarse el bajo desempeño del modelo en la predicción de la frase 1 (\"Realmente me gustó mucho\"), la cual fue puntuada con 2 estrellas, cuando a priori pareciera merecer 4 o 5."
      ]
    },
    {
      "cell_type": "markdown",
      "metadata": {
        "id": "fE-64nPy-RnT"
      },
      "source": [
        "*Modelo*"
      ]
    },
    {
      "cell_type": "code",
      "metadata": {
        "id": "m64vqMpn-Y2F"
      },
      "source": [
        "#Creo los vectores de datos\n",
        "X = dataset['review_body']\n",
        "y = dataset['stars']"
      ],
      "execution_count": 85,
      "outputs": []
    },
    {
      "cell_type": "code",
      "metadata": {
        "colab": {
          "base_uri": "https://localhost:8080/"
        },
        "id": "ibnFEQ8M-ZDE",
        "outputId": "0a7080e1-c05a-4e64-b2ef-4857faa8abab"
      },
      "source": [
        "#Creo el vector de entrenamiento como una porción de los datos y dejo el resto para pruebas #test 0.3, train= 0.7\n",
        "X_train, X_test, y_train, y_test = train_test_split(X, y, test_size=0.3, random_state=42)\n",
        "X_train.shape, X_test.shape, y_train.shape, y_test.shape"
      ],
      "execution_count": 86,
      "outputs": [
        {
          "output_type": "execute_result",
          "data": {
            "text/plain": [
              "((143500,), (61500,), (143500,), (61500,))"
            ]
          },
          "metadata": {
            "tags": []
          },
          "execution_count": 86
        }
      ]
    },
    {
      "cell_type": "code",
      "metadata": {
        "colab": {
          "base_uri": "https://localhost:8080/"
        },
        "id": "YQmBuzRR-ZF4",
        "outputId": "b7d4c670-4e89-4681-fb9b-7ec425582a85"
      },
      "source": [
        "X_train.head()"
      ],
      "execution_count": 87,
      "outputs": [
        {
          "output_type": "execute_result",
          "data": {
            "text/plain": [
              "196144    Buen cable, parece resistente y no se enreda f...\n",
              "60473                         Se le rompió esa misma tarde.\n",
              "76076     al de 10 o 12 dias se despego y tuve que compr...\n",
              "170434                          Perfecto y de buena calidad\n",
              "26744     Este producto indica q es dina a4 pero no es a...\n",
              "Name: review_body, dtype: object"
            ]
          },
          "metadata": {
            "tags": []
          },
          "execution_count": 87
        }
      ]
    },
    {
      "cell_type": "code",
      "metadata": {
        "id": "UqaRhX5l-tUa"
      },
      "source": [
        "#Creo un pipeline\n",
        "clf = Pipeline([('tfidf', tfidf), ('clf', classifier)])"
      ],
      "execution_count": 88,
      "outputs": []
    },
    {
      "cell_type": "code",
      "metadata": {
        "colab": {
          "base_uri": "https://localhost:8080/"
        },
        "id": "fF6GQD6r-wux",
        "outputId": "9686e372-3bc9-4849-c39a-29ad6b296bd3"
      },
      "source": [
        "#Entreno el clasificador\n",
        "clf.fit(X_train, y_train)"
      ],
      "execution_count": 89,
      "outputs": [
        {
          "output_type": "execute_result",
          "data": {
            "text/plain": [
              "Pipeline(memory=None,\n",
              "         steps=[('tfidf',\n",
              "                 TfidfVectorizer(analyzer='word', binary=False,\n",
              "                                 decode_error='strict',\n",
              "                                 dtype=<class 'numpy.float64'>,\n",
              "                                 encoding='utf-8', input='content',\n",
              "                                 lowercase=True, max_df=1.0, max_features=None,\n",
              "                                 min_df=1, ngram_range=(1, 1), norm='l2',\n",
              "                                 preprocessor=None, smooth_idf=True,\n",
              "                                 stop_words=None, strip_accents=None,\n",
              "                                 sublinear_tf=False,\n",
              "                                 token_pattern='(?u)\\\\b\\\\w\\\\w+\\\\b',\n",
              "                                 tokenizer=<function text_data_cleaning at 0x7fddfd70abf8>,\n",
              "                                 use_idf=True, vocabulary=None)),\n",
              "                ('clf',\n",
              "                 LinearSVC(C=1.0, class_weight=None, dual=True,\n",
              "                           fit_intercept=True, intercept_scaling=1,\n",
              "                           loss='squared_hinge', max_iter=1000,\n",
              "                           multi_class='ovr', penalty='l2', random_state=None,\n",
              "                           tol=0.0001, verbose=0))],\n",
              "         verbose=False)"
            ]
          },
          "metadata": {
            "tags": []
          },
          "execution_count": 89
        }
      ]
    },
    {
      "cell_type": "code",
      "metadata": {
        "id": "NidbBxGf-w5D"
      },
      "source": [
        "#Valores predichos a partir del clasificador\n",
        "y_pred = clf.predict(X_test)\n"
      ],
      "execution_count": 91,
      "outputs": []
    },
    {
      "cell_type": "code",
      "metadata": {
        "colab": {
          "base_uri": "https://localhost:8080/"
        },
        "id": "0VqkKRcIEH5_",
        "outputId": "2b17e943-332e-4e18-d3b8-116069a81ebc"
      },
      "source": [
        "#Precisión obtenida\n",
        "print(classification_report(y_test, y_pred))"
      ],
      "execution_count": 92,
      "outputs": [
        {
          "output_type": "stream",
          "text": [
            "              precision    recall  f1-score   support\n",
            "\n",
            "           1       0.56      0.65      0.60     12311\n",
            "           2       0.36      0.32      0.34     12204\n",
            "           3       0.33      0.30      0.31     12161\n",
            "           4       0.37      0.31      0.34     12385\n",
            "           5       0.52      0.62      0.57     12439\n",
            "\n",
            "    accuracy                           0.44     61500\n",
            "   macro avg       0.43      0.44      0.43     61500\n",
            "weighted avg       0.43      0.44      0.43     61500\n",
            "\n"
          ],
          "name": "stdout"
        }
      ]
    },
    {
      "cell_type": "code",
      "metadata": {
        "id": "DFmb4fsl-xJV",
        "colab": {
          "base_uri": "https://localhost:8080/"
        },
        "outputId": "2117c380-60d0-4c93-f116-a243113492e8"
      },
      "source": [
        "#Creo la matriz de confusión\n",
        "confusion_matrix(y_test, y_pred)"
      ],
      "execution_count": 93,
      "outputs": [
        {
          "output_type": "execute_result",
          "data": {
            "text/plain": [
              "array([[8008, 2293, 1083,  510,  417],\n",
              "       [3409, 3930, 2778, 1203,  884],\n",
              "       [1726, 2823, 3637, 2384, 1591],\n",
              "       [ 728, 1298, 2315, 3842, 4202],\n",
              "       [ 528,  634, 1137, 2380, 7760]])"
            ]
          },
          "metadata": {
            "tags": []
          },
          "execution_count": 93
        }
      ]
    },
    {
      "cell_type": "code",
      "metadata": {
        "id": "lck1W5g4-9LD",
        "colab": {
          "base_uri": "https://localhost:8080/"
        },
        "outputId": "aba57ecd-23d9-4114-fd85-909032237a46"
      },
      "source": [
        "#Predicción: algunas frases de prueba [ej.1]\n",
        "clf.predict(['Realmente me gustó mucho'])"
      ],
      "execution_count": 94,
      "outputs": [
        {
          "output_type": "execute_result",
          "data": {
            "text/plain": [
              "array([5])"
            ]
          },
          "metadata": {
            "tags": []
          },
          "execution_count": 94
        }
      ]
    },
    {
      "cell_type": "code",
      "metadata": {
        "id": "dAMm6vmR--Az",
        "colab": {
          "base_uri": "https://localhost:8080/"
        },
        "outputId": "b61b653c-44ad-44c1-d631-5ef7cb4dd01d"
      },
      "source": [
        "#Predicción: algunas frases de prueba [ej.2]\n",
        "clf.predict(['Horrible, no me gustó'])"
      ],
      "execution_count": 95,
      "outputs": [
        {
          "output_type": "execute_result",
          "data": {
            "text/plain": [
              "array([1])"
            ]
          },
          "metadata": {
            "tags": []
          },
          "execution_count": 95
        }
      ]
    },
    {
      "cell_type": "code",
      "metadata": {
        "id": "l2q01NyC--Wn",
        "colab": {
          "base_uri": "https://localhost:8080/"
        },
        "outputId": "143b1a8a-64a9-470a-d6a3-e1229d8241a5"
      },
      "source": [
        "#Predicción: algunas frases de prueba [ej.3]\n",
        "clf.predict(['Llegó bien'])"
      ],
      "execution_count": 96,
      "outputs": [
        {
          "output_type": "execute_result",
          "data": {
            "text/plain": [
              "array([1])"
            ]
          },
          "metadata": {
            "tags": []
          },
          "execution_count": 96
        }
      ]
    },
    {
      "cell_type": "code",
      "metadata": {
        "id": "6YGywNTp--el",
        "colab": {
          "base_uri": "https://localhost:8080/"
        },
        "outputId": "6a715f61-4fa2-4b6d-9169-6b2db3799604"
      },
      "source": [
        "#Predicción: algunas frases de prueba [ej.4]\n",
        "clf.predict(['Es lo que esperaba, pero no llegó a tiempo'])"
      ],
      "execution_count": 97,
      "outputs": [
        {
          "output_type": "execute_result",
          "data": {
            "text/plain": [
              "array([1])"
            ]
          },
          "metadata": {
            "tags": []
          },
          "execution_count": 97
        }
      ]
    },
    {
      "cell_type": "code",
      "metadata": {
        "id": "e58mNpYi--lz",
        "colab": {
          "base_uri": "https://localhost:8080/"
        },
        "outputId": "d235ed37-c581-4bb3-ae37-df4995e298dd"
      },
      "source": [
        "#Predicción: algunas frases de prueba [ej.5]\n",
        "clf.predict(['Esperaba mayor calidad'])"
      ],
      "execution_count": 98,
      "outputs": [
        {
          "output_type": "execute_result",
          "data": {
            "text/plain": [
              "array([5])"
            ]
          },
          "metadata": {
            "tags": []
          },
          "execution_count": 98
        }
      ]
    },
    {
      "cell_type": "markdown",
      "metadata": {
        "id": "p57RplSgHMO9"
      },
      "source": [
        "Se obtuvo en el modelo final un accuracy de 0,44 . Comparando con el modelo benchmark se observa una mejora, por ejemplo en la frase 1 que obtuvo 2 estrellas, ahora fue clasificada con 5."
      ]
    },
    {
      "cell_type": "markdown",
      "metadata": {
        "id": "aPXAKqko-WOi"
      },
      "source": [
        "*MODELO en Dataset Development*\n",
        "\n",
        "Para validar el funcionamiento del modelo, aplicaré el mismo en el dataset de validación.\n"
      ]
    },
    {
      "cell_type": "code",
      "metadata": {
        "id": "D-gKJFGCv39z"
      },
      "source": [
        "#Creo los vectores de datos\n",
        "X = dataset_dep['review_body']\n",
        "y = dataset_dep['stars']"
      ],
      "execution_count": 99,
      "outputs": []
    },
    {
      "cell_type": "code",
      "metadata": {
        "id": "91aFs4zUwHKz",
        "colab": {
          "base_uri": "https://localhost:8080/"
        },
        "outputId": "d49f2b6c-f86b-4e1c-c644-04f308510ca1"
      },
      "source": [
        "#Creo el vector de entrenamiento como una porción de los datos y dejo el resto para pruebas #test 0.3, train= 0.7\n",
        "X_train, X_test, y_train, y_test = train_test_split(X, y, test_size=0.3, random_state=42)\n",
        "X_train.shape, X_test.shape, y_train.shape, y_test.shape"
      ],
      "execution_count": 100,
      "outputs": [
        {
          "output_type": "execute_result",
          "data": {
            "text/plain": [
              "((3500,), (1500,), (3500,), (1500,))"
            ]
          },
          "metadata": {
            "tags": []
          },
          "execution_count": 100
        }
      ]
    },
    {
      "cell_type": "code",
      "metadata": {
        "id": "tMEtQIcmwHtb",
        "colab": {
          "base_uri": "https://localhost:8080/"
        },
        "outputId": "a4204c60-44ce-4305-9fc6-d6f5be9cebb8"
      },
      "source": [
        "X_train.head()"
      ],
      "execution_count": 101,
      "outputs": [
        {
          "output_type": "execute_result",
          "data": {
            "text/plain": [
              "1840    Falta cristal para tapar toda la pantalla, que...\n",
              "2115    La distancia entre el tubo superior y el infer...\n",
              "4437    Ligero, la señal de GPS es muy rápida, prestac...\n",
              "1146    Producto caro, es correcto pero con el precio ...\n",
              "2486          Esta bien, no sirve para Citroën y Peugeot.\n",
              "Name: review_body, dtype: object"
            ]
          },
          "metadata": {
            "tags": []
          },
          "execution_count": 101
        }
      ]
    },
    {
      "cell_type": "code",
      "metadata": {
        "id": "A9FTYj5hwKXr"
      },
      "source": [
        "#Creo un pipeline\n",
        "clf = Pipeline([('tfidf', tfidf), ('clf', classifier)])"
      ],
      "execution_count": 102,
      "outputs": []
    },
    {
      "cell_type": "code",
      "metadata": {
        "id": "t1J8xvchwPvv",
        "colab": {
          "base_uri": "https://localhost:8080/"
        },
        "outputId": "edd13467-9e33-421b-9e6c-8b2b4f923d89"
      },
      "source": [
        "#Entreno el clasificador\n",
        "clf.fit(X_train, y_train)"
      ],
      "execution_count": 103,
      "outputs": [
        {
          "output_type": "execute_result",
          "data": {
            "text/plain": [
              "Pipeline(memory=None,\n",
              "         steps=[('tfidf',\n",
              "                 TfidfVectorizer(analyzer='word', binary=False,\n",
              "                                 decode_error='strict',\n",
              "                                 dtype=<class 'numpy.float64'>,\n",
              "                                 encoding='utf-8', input='content',\n",
              "                                 lowercase=True, max_df=1.0, max_features=None,\n",
              "                                 min_df=1, ngram_range=(1, 1), norm='l2',\n",
              "                                 preprocessor=None, smooth_idf=True,\n",
              "                                 stop_words=None, strip_accents=None,\n",
              "                                 sublinear_tf=False,\n",
              "                                 token_pattern='(?u)\\\\b\\\\w\\\\w+\\\\b',\n",
              "                                 tokenizer=<function text_data_cleaning at 0x7fddfd70abf8>,\n",
              "                                 use_idf=True, vocabulary=None)),\n",
              "                ('clf',\n",
              "                 LinearSVC(C=1.0, class_weight=None, dual=True,\n",
              "                           fit_intercept=True, intercept_scaling=1,\n",
              "                           loss='squared_hinge', max_iter=1000,\n",
              "                           multi_class='ovr', penalty='l2', random_state=None,\n",
              "                           tol=0.0001, verbose=0))],\n",
              "         verbose=False)"
            ]
          },
          "metadata": {
            "tags": []
          },
          "execution_count": 103
        }
      ]
    },
    {
      "cell_type": "code",
      "metadata": {
        "id": "14byA2oywTNE"
      },
      "source": [
        "#Valores predichos a partir del clasificador\n",
        "y_pred = clf.predict(X_test)"
      ],
      "execution_count": 76,
      "outputs": []
    },
    {
      "cell_type": "code",
      "metadata": {
        "id": "mTfjsjJWwUno",
        "colab": {
          "base_uri": "https://localhost:8080/"
        },
        "outputId": "51217653-d2e2-4468-8ebf-b95fe1c53e5f"
      },
      "source": [
        "#Precisión obtenida\n",
        "print(classification_report(y_test, y_pred))"
      ],
      "execution_count": 77,
      "outputs": [
        {
          "output_type": "stream",
          "text": [
            "              precision    recall  f1-score   support\n",
            "\n",
            "           1       0.49      0.53      0.51       316\n",
            "           2       0.29      0.27      0.28       309\n",
            "           3       0.31      0.32      0.31       284\n",
            "           4       0.32      0.29      0.30       301\n",
            "           5       0.45      0.48      0.47       290\n",
            "\n",
            "    accuracy                           0.38      1500\n",
            "   macro avg       0.37      0.38      0.38      1500\n",
            "weighted avg       0.37      0.38      0.38      1500\n",
            "\n"
          ],
          "name": "stdout"
        }
      ]
    },
    {
      "cell_type": "code",
      "metadata": {
        "id": "6B4DuGxXwXSc",
        "colab": {
          "base_uri": "https://localhost:8080/"
        },
        "outputId": "2ab5cd5e-276b-4f82-e0fb-0823d8852f1e"
      },
      "source": [
        "#Creo la matriz de confusión\n",
        "confusion_matrix(y_test, y_pred)"
      ],
      "execution_count": 78,
      "outputs": [
        {
          "output_type": "execute_result",
          "data": {
            "text/plain": [
              "array([[168,  78,  43,  17,  10],\n",
              "       [ 89,  84,  61,  48,  27],\n",
              "       [ 41,  58,  90,  53,  42],\n",
              "       [ 25,  41,  56,  87,  92],\n",
              "       [ 17,  28,  40,  65, 140]])"
            ]
          },
          "metadata": {
            "tags": []
          },
          "execution_count": 78
        }
      ]
    },
    {
      "cell_type": "code",
      "metadata": {
        "id": "yE8-2aE6wcHL",
        "colab": {
          "base_uri": "https://localhost:8080/"
        },
        "outputId": "ddea0782-905e-4959-cb20-1640206f524a"
      },
      "source": [
        "#Predicción: algunas frases de prueba [ej.1]\n",
        "clf.predict(['Realmente me gustó mucho'])"
      ],
      "execution_count": 79,
      "outputs": [
        {
          "output_type": "execute_result",
          "data": {
            "text/plain": [
              "array([3])"
            ]
          },
          "metadata": {
            "tags": []
          },
          "execution_count": 79
        }
      ]
    },
    {
      "cell_type": "code",
      "metadata": {
        "id": "7y-b6H_7weV7",
        "colab": {
          "base_uri": "https://localhost:8080/"
        },
        "outputId": "0e93ec0a-343d-478f-8faf-5625e36f5586"
      },
      "source": [
        "#Predicción: algunas frases de prueba [ej.2]\n",
        "clf.predict(['Horrible, no me gustó'])"
      ],
      "execution_count": 81,
      "outputs": [
        {
          "output_type": "execute_result",
          "data": {
            "text/plain": [
              "array([1])"
            ]
          },
          "metadata": {
            "tags": []
          },
          "execution_count": 81
        }
      ]
    },
    {
      "cell_type": "code",
      "metadata": {
        "id": "sbe_LeiCwgXx",
        "colab": {
          "base_uri": "https://localhost:8080/"
        },
        "outputId": "8f95b3e8-3772-430e-89cc-c594a5d2f632"
      },
      "source": [
        "#Predicción: algunas frases de prueba [ej.3]\n",
        "clf.predict(['Llegó bien'])"
      ],
      "execution_count": 80,
      "outputs": [
        {
          "output_type": "execute_result",
          "data": {
            "text/plain": [
              "array([1])"
            ]
          },
          "metadata": {
            "tags": []
          },
          "execution_count": 80
        }
      ]
    },
    {
      "cell_type": "code",
      "metadata": {
        "id": "ZgcWGC8Xwg-7",
        "colab": {
          "base_uri": "https://localhost:8080/"
        },
        "outputId": "15c7a36c-0c14-4d04-8f48-5ec6db9974e1"
      },
      "source": [
        "#Predicción: algunas frases de prueba [ej.4]\n",
        "clf.predict(['Es lo que esperaba, pero no llegó a tiempo'])"
      ],
      "execution_count": 82,
      "outputs": [
        {
          "output_type": "execute_result",
          "data": {
            "text/plain": [
              "array([1])"
            ]
          },
          "metadata": {
            "tags": []
          },
          "execution_count": 82
        }
      ]
    },
    {
      "cell_type": "code",
      "metadata": {
        "id": "6Qn1_TQlwksz",
        "colab": {
          "base_uri": "https://localhost:8080/"
        },
        "outputId": "802439a9-6f4a-4186-e780-14604304950a"
      },
      "source": [
        "#Predicción: algunas frases de prueba [ej.5]\n",
        "clf.predict(['Esperaba mayor calidad'])"
      ],
      "execution_count": 83,
      "outputs": [
        {
          "output_type": "execute_result",
          "data": {
            "text/plain": [
              "array([3])"
            ]
          },
          "metadata": {
            "tags": []
          },
          "execution_count": 83
        }
      ]
    },
    {
      "cell_type": "markdown",
      "metadata": {
        "id": "MCZQyQxd9Qmy"
      },
      "source": [
        "El accuracy obtenido del modelo aplicado al dataset de validación es también muy bajo (0,38), tal como lo esperaba."
      ]
    },
    {
      "cell_type": "markdown",
      "metadata": {
        "id": "0YOWnXtVWFvb"
      },
      "source": [
        "# PARTE C"
      ]
    },
    {
      "cell_type": "markdown",
      "metadata": {
        "id": "OPOrwZJlWIqF"
      },
      "source": [
        "Parte C - Investigación.  El objetivo de esta sección es que sugieras cómo continuarías el proyecto, con el fin de mejorar el modelo o responder una pregunta que consideres interesante. \n",
        "\n",
        "Debes explicar qué te gustaría probar, por qué y cómo lo harías. \n",
        "\n"
      ]
    },
    {
      "cell_type": "markdown",
      "metadata": {
        "id": "npahQMTK-xUU"
      },
      "source": [
        "Dado los resultados obtenidos, las conlusiones a las que llego son las siguientes:\n",
        "\n",
        "**En cuanto a la base de datos:**\n",
        "\n",
        "Antes de tomar esta base de datos como input para predecir como valorará una persona a un producto, debería corroborarse que éstas personas que ya evaluaron, fueron coherentes con lo que dejaron asentado en la reseña (título y cuerpo) y con la cantidad de estrellas que asignaron. También debería complementarse esta información con alguna encuesta de satisfacción o alguna otra información que nos permita validar las clasificaciones o inferir según nuestros criterios (los de la encuesta por ejemplo) si tiene 1,2,3,4 o 5 estrellas. Propongo esto, dado que las reseñas son muy subjeitvas: Por ej.: Hay casos en que una reseña que dice: \"Ok\", puede ser puntuada con 3 estrellas o con 5; también hay casos en que las reseñas no tienen sentido como por ej.: \"hghg\", al parecer éstas personas no querían dejar asentado nada y simplemente asignaron estrellas, en otros casos las reseñas parecerían merecer más o menos estrellas de las que tienen etc. ... \n",
        "\n",
        "**En cuanto a la librería y el modelo:**\n",
        "\n",
        "En cuando a la librería, Spacy cuenta con pocas Stopwords, comparando con la cantidad de stopwords que tienen otras librerias en ingles.\n",
        "\n",
        "En cuanto al modelo, podría mejorarse (ésto lo propongo para proyecto 4) agregando más variables como por ejemplo Categoría de Producto, ya que podemos inferir en la cantidad de estrellas promedio que tendrá un producto según su categoría. Y también podrían probarse otros modelos o librerias (ésto también me gustaría investigarlo para el proyecto 4).   \n",
        "\n",
        "**Otras sugerencias:**\n",
        "\n",
        "-Investigar otras librerías, ademas de SpaCy (como NLTK en español)\n",
        "\n",
        "-Comparar resultados de modelos aplicados en los diferentes idiomas disponibles\n",
        "\n",
        "-Volverlo un problema binario, prediciendo etiquetas Positivas o Negativas. En este caso creo que el accuracy mejoraría apenas un poco, dado que considero que el problema central es la subjetividad con que las personas dan una reseña y claisfican.\n",
        "\n",
        "\n",
        "\n",
        "\n"
      ]
    },
    {
      "cell_type": "markdown",
      "metadata": {
        "id": "8axSlUSFH1bi"
      },
      "source": [
        "¡ MUCHAS GRACIAS !\n",
        "\n",
        "\n",
        "Florencia Monzani "
      ]
    }
  ]
}